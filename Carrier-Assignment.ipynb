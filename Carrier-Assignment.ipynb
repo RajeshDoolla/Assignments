{
 "cells": [
  {
   "cell_type": "code",
   "execution_count": 105,
   "metadata": {},
   "outputs": [],
   "source": [
    "#importing Packages\n",
    "import pandas as pd\n",
    "import numpy as np\n",
    "import matplotlib.pyplot as plt\n",
    "import seaborn as sns\n",
    "import scipy.stats as stats\n",
    "from sklearn.feature_selection import SelectFromModel\n",
    "from sklearn.preprocessing import StandardScaler\n",
    "from sklearn.linear_model import LogisticRegression\n",
    "from sklearn.model_selection import train_test_split\n",
    "from sklearn.preprocessing import FunctionTransformer\n",
    "from sklearn.linear_model import LogisticRegression\n",
    "from sklearn.metrics import classification_report, accuracy_score, confusion_matrix\n",
    "from sklearn.model_selection import RandomizedSearchCV\n",
    "from scipy.stats import uniform\n",
    "from sklearn.ensemble import RandomForestClassifier\n",
    "import xgboost as xgb"
   ]
  },
  {
   "cell_type": "code",
   "execution_count": 106,
   "metadata": {},
   "outputs": [],
   "source": [
    "df=pd.read_csv(\"zeta-disease_training-data.csv\")"
   ]
  },
  {
   "cell_type": "code",
   "execution_count": 107,
   "metadata": {},
   "outputs": [
    {
     "data": {
      "text/html": [
       "<div>\n",
       "<style scoped>\n",
       "    .dataframe tbody tr th:only-of-type {\n",
       "        vertical-align: middle;\n",
       "    }\n",
       "\n",
       "    .dataframe tbody tr th {\n",
       "        vertical-align: top;\n",
       "    }\n",
       "\n",
       "    .dataframe thead th {\n",
       "        text-align: right;\n",
       "    }\n",
       "</style>\n",
       "<table border=\"1\" class=\"dataframe\">\n",
       "  <thead>\n",
       "    <tr style=\"text-align: right;\">\n",
       "      <th></th>\n",
       "      <th>age</th>\n",
       "      <th>weight</th>\n",
       "      <th>bmi</th>\n",
       "      <th>blood_pressure</th>\n",
       "      <th>insulin_test</th>\n",
       "      <th>liver_stress_test</th>\n",
       "      <th>cardio_stress_test</th>\n",
       "      <th>years_smoking</th>\n",
       "      <th>zeta_disease</th>\n",
       "    </tr>\n",
       "  </thead>\n",
       "  <tbody>\n",
       "    <tr>\n",
       "      <th>0</th>\n",
       "      <td>54</td>\n",
       "      <td>189</td>\n",
       "      <td>27.1</td>\n",
       "      <td>80</td>\n",
       "      <td>0</td>\n",
       "      <td>1.5038</td>\n",
       "      <td>0</td>\n",
       "      <td>10</td>\n",
       "      <td>0</td>\n",
       "    </tr>\n",
       "    <tr>\n",
       "      <th>1</th>\n",
       "      <td>23</td>\n",
       "      <td>150</td>\n",
       "      <td>38.5</td>\n",
       "      <td>68</td>\n",
       "      <td>71</td>\n",
       "      <td>0.3868</td>\n",
       "      <td>55</td>\n",
       "      <td>2</td>\n",
       "      <td>0</td>\n",
       "    </tr>\n",
       "    <tr>\n",
       "      <th>2</th>\n",
       "      <td>47</td>\n",
       "      <td>186</td>\n",
       "      <td>29.9</td>\n",
       "      <td>90</td>\n",
       "      <td>0</td>\n",
       "      <td>0.2728</td>\n",
       "      <td>0</td>\n",
       "      <td>7</td>\n",
       "      <td>0</td>\n",
       "    </tr>\n",
       "    <tr>\n",
       "      <th>3</th>\n",
       "      <td>18</td>\n",
       "      <td>150</td>\n",
       "      <td>30.8</td>\n",
       "      <td>70</td>\n",
       "      <td>1033</td>\n",
       "      <td>0.6598</td>\n",
       "      <td>56</td>\n",
       "      <td>0</td>\n",
       "      <td>0</td>\n",
       "    </tr>\n",
       "    <tr>\n",
       "      <th>4</th>\n",
       "      <td>24</td>\n",
       "      <td>160</td>\n",
       "      <td>32.4</td>\n",
       "      <td>74</td>\n",
       "      <td>125</td>\n",
       "      <td>0.7608</td>\n",
       "      <td>59</td>\n",
       "      <td>2</td>\n",
       "      <td>0</td>\n",
       "    </tr>\n",
       "  </tbody>\n",
       "</table>\n",
       "</div>"
      ],
      "text/plain": [
       "   age  weight   bmi  blood_pressure  insulin_test  liver_stress_test  \\\n",
       "0   54     189  27.1              80             0             1.5038   \n",
       "1   23     150  38.5              68            71             0.3868   \n",
       "2   47     186  29.9              90             0             0.2728   \n",
       "3   18     150  30.8              70          1033             0.6598   \n",
       "4   24     160  32.4              74           125             0.7608   \n",
       "\n",
       "   cardio_stress_test  years_smoking  zeta_disease  \n",
       "0                   0             10             0  \n",
       "1                  55              2             0  \n",
       "2                   0              7             0  \n",
       "3                  56              0             0  \n",
       "4                  59              2             0  "
      ]
     },
     "execution_count": 107,
     "metadata": {},
     "output_type": "execute_result"
    }
   ],
   "source": [
    "df.head()"
   ]
  },
  {
   "cell_type": "code",
   "execution_count": 108,
   "metadata": {},
   "outputs": [
    {
     "data": {
      "text/html": [
       "<div>\n",
       "<style scoped>\n",
       "    .dataframe tbody tr th:only-of-type {\n",
       "        vertical-align: middle;\n",
       "    }\n",
       "\n",
       "    .dataframe tbody tr th {\n",
       "        vertical-align: top;\n",
       "    }\n",
       "\n",
       "    .dataframe thead th {\n",
       "        text-align: right;\n",
       "    }\n",
       "</style>\n",
       "<table border=\"1\" class=\"dataframe\">\n",
       "  <thead>\n",
       "    <tr style=\"text-align: right;\">\n",
       "      <th></th>\n",
       "      <th>age</th>\n",
       "      <th>weight</th>\n",
       "      <th>bmi</th>\n",
       "      <th>blood_pressure</th>\n",
       "      <th>insulin_test</th>\n",
       "      <th>liver_stress_test</th>\n",
       "      <th>cardio_stress_test</th>\n",
       "      <th>years_smoking</th>\n",
       "      <th>zeta_disease</th>\n",
       "    </tr>\n",
       "  </thead>\n",
       "  <tbody>\n",
       "    <tr>\n",
       "      <th>count</th>\n",
       "      <td>800.000000</td>\n",
       "      <td>800.000000</td>\n",
       "      <td>800.000000</td>\n",
       "      <td>800.000000</td>\n",
       "      <td>800.000000</td>\n",
       "      <td>800.000000</td>\n",
       "      <td>800.000000</td>\n",
       "      <td>800.000000</td>\n",
       "      <td>800.000000</td>\n",
       "    </tr>\n",
       "    <tr>\n",
       "      <th>mean</th>\n",
       "      <td>30.985000</td>\n",
       "      <td>172.407500</td>\n",
       "      <td>32.201625</td>\n",
       "      <td>69.565000</td>\n",
       "      <td>85.887500</td>\n",
       "      <td>0.544496</td>\n",
       "      <td>43.121250</td>\n",
       "      <td>4.051250</td>\n",
       "      <td>0.348750</td>\n",
       "    </tr>\n",
       "    <tr>\n",
       "      <th>std</th>\n",
       "      <td>13.824025</td>\n",
       "      <td>31.942438</td>\n",
       "      <td>8.549155</td>\n",
       "      <td>19.874784</td>\n",
       "      <td>126.333656</td>\n",
       "      <td>0.348711</td>\n",
       "      <td>30.409949</td>\n",
       "      <td>4.176173</td>\n",
       "      <td>0.476873</td>\n",
       "    </tr>\n",
       "    <tr>\n",
       "      <th>min</th>\n",
       "      <td>18.000000</td>\n",
       "      <td>94.000000</td>\n",
       "      <td>0.000000</td>\n",
       "      <td>0.000000</td>\n",
       "      <td>0.000000</td>\n",
       "      <td>0.140800</td>\n",
       "      <td>0.000000</td>\n",
       "      <td>0.000000</td>\n",
       "      <td>0.000000</td>\n",
       "    </tr>\n",
       "    <tr>\n",
       "      <th>25%</th>\n",
       "      <td>21.000000</td>\n",
       "      <td>149.000000</td>\n",
       "      <td>27.300000</td>\n",
       "      <td>62.000000</td>\n",
       "      <td>0.000000</td>\n",
       "      <td>0.307800</td>\n",
       "      <td>0.000000</td>\n",
       "      <td>1.000000</td>\n",
       "      <td>0.000000</td>\n",
       "    </tr>\n",
       "    <tr>\n",
       "      <th>50%</th>\n",
       "      <td>26.000000</td>\n",
       "      <td>167.000000</td>\n",
       "      <td>32.050000</td>\n",
       "      <td>72.000000</td>\n",
       "      <td>45.000000</td>\n",
       "      <td>0.445300</td>\n",
       "      <td>53.000000</td>\n",
       "      <td>3.000000</td>\n",
       "      <td>0.000000</td>\n",
       "    </tr>\n",
       "    <tr>\n",
       "      <th>75%</th>\n",
       "      <td>38.000000</td>\n",
       "      <td>192.000000</td>\n",
       "      <td>36.525000</td>\n",
       "      <td>80.000000</td>\n",
       "      <td>130.000000</td>\n",
       "      <td>0.699800</td>\n",
       "      <td>62.000000</td>\n",
       "      <td>6.000000</td>\n",
       "      <td>1.000000</td>\n",
       "    </tr>\n",
       "    <tr>\n",
       "      <th>max</th>\n",
       "      <td>109.000000</td>\n",
       "      <td>308.000000</td>\n",
       "      <td>86.100000</td>\n",
       "      <td>157.000000</td>\n",
       "      <td>1077.000000</td>\n",
       "      <td>3.481300</td>\n",
       "      <td>214.000000</td>\n",
       "      <td>40.000000</td>\n",
       "      <td>1.000000</td>\n",
       "    </tr>\n",
       "  </tbody>\n",
       "</table>\n",
       "</div>"
      ],
      "text/plain": [
       "              age      weight         bmi  blood_pressure  insulin_test  \\\n",
       "count  800.000000  800.000000  800.000000      800.000000    800.000000   \n",
       "mean    30.985000  172.407500   32.201625       69.565000     85.887500   \n",
       "std     13.824025   31.942438    8.549155       19.874784    126.333656   \n",
       "min     18.000000   94.000000    0.000000        0.000000      0.000000   \n",
       "25%     21.000000  149.000000   27.300000       62.000000      0.000000   \n",
       "50%     26.000000  167.000000   32.050000       72.000000     45.000000   \n",
       "75%     38.000000  192.000000   36.525000       80.000000    130.000000   \n",
       "max    109.000000  308.000000   86.100000      157.000000   1077.000000   \n",
       "\n",
       "       liver_stress_test  cardio_stress_test  years_smoking  zeta_disease  \n",
       "count         800.000000          800.000000     800.000000    800.000000  \n",
       "mean            0.544496           43.121250       4.051250      0.348750  \n",
       "std             0.348711           30.409949       4.176173      0.476873  \n",
       "min             0.140800            0.000000       0.000000      0.000000  \n",
       "25%             0.307800            0.000000       1.000000      0.000000  \n",
       "50%             0.445300           53.000000       3.000000      0.000000  \n",
       "75%             0.699800           62.000000       6.000000      1.000000  \n",
       "max             3.481300          214.000000      40.000000      1.000000  "
      ]
     },
     "execution_count": 108,
     "metadata": {},
     "output_type": "execute_result"
    }
   ],
   "source": [
    "df.describe()"
   ]
  },
  {
   "cell_type": "code",
   "execution_count": 109,
   "metadata": {},
   "outputs": [
    {
     "data": {
      "text/plain": [
       "age                     int64\n",
       "weight                  int64\n",
       "bmi                   float64\n",
       "blood_pressure          int64\n",
       "insulin_test            int64\n",
       "liver_stress_test     float64\n",
       "cardio_stress_test      int64\n",
       "years_smoking           int64\n",
       "zeta_disease            int64\n",
       "dtype: object"
      ]
     },
     "execution_count": 109,
     "metadata": {},
     "output_type": "execute_result"
    }
   ],
   "source": [
    "# let's inspect the type of variables in pandas\n",
    "\n",
    "df.dtypes"
   ]
  },
  {
   "cell_type": "code",
   "execution_count": 110,
   "metadata": {},
   "outputs": [
    {
     "data": {
      "text/plain": [
       "0    521\n",
       "1    279\n",
       "Name: zeta_disease, dtype: int64"
      ]
     },
     "execution_count": 110,
     "metadata": {},
     "output_type": "execute_result"
    }
   ],
   "source": [
    "#inspecting the data\n",
    "df['zeta_disease'].value_counts(dropna=False)"
   ]
  },
  {
   "cell_type": "markdown",
   "metadata": {},
   "source": [
    "##### observation: It is an imbalanced dataset"
   ]
  },
  {
   "cell_type": "code",
   "execution_count": 111,
   "metadata": {},
   "outputs": [
    {
     "data": {
      "text/plain": [
       "<matplotlib.axes._subplots.AxesSubplot at 0x2289688e828>"
      ]
     },
     "execution_count": 111,
     "metadata": {},
     "output_type": "execute_result"
    },
    {
     "data": {
      "image/png": "[encoded data removed]",
      "text/plain": [
       "<Figure size 792x792 with 2 Axes>"
      ]
     },
     "metadata": {},
     "output_type": "display_data"
    }
   ],
   "source": [
    "corrmat = df.corr()\n",
    "fig, ax = plt.subplots()\n",
    "fig.set_size_inches(11,11)\n",
    "sns.heatmap(corrmat)"
   ]
  },
  {
   "cell_type": "markdown",
   "metadata": {},
   "source": [
    "# Feature Engineering"
   ]
  },
  {
   "cell_type": "markdown",
   "metadata": {},
   "source": [
    "##### Checking for Nulls"
   ]
  },
  {
   "cell_type": "code",
   "execution_count": 114,
   "metadata": {},
   "outputs": [
    {
     "data": {
      "text/plain": [
       "age                   0\n",
       "weight                0\n",
       "bmi                   0\n",
       "blood_pressure        0\n",
       "insulin_test          0\n",
       "liver_stress_test     0\n",
       "cardio_stress_test    0\n",
       "years_smoking         0\n",
       "zeta_disease          0\n",
       "dtype: int64"
      ]
     },
     "execution_count": 114,
     "metadata": {},
     "output_type": "execute_result"
    }
   ],
   "source": [
    "#Checking for null values\n",
    "df.isnull().sum()"
   ]
  },
  {
   "cell_type": "markdown",
   "metadata": {},
   "source": [
    "##### Outlier engineering"
   ]
  },
  {
   "cell_type": "code",
   "execution_count": 115,
   "metadata": {},
   "outputs": [
    {
     "data": {
      "image/png": "[encoded data removed]",
      "text/plain": [
       "<Figure size 1440x1440 with 9 Axes>"
      ]
     },
     "metadata": {},
     "output_type": "display_data"
    }
   ],
   "source": [
    "df.hist(figsize=(20,20))\n",
    "plt.show()"
   ]
  },
  {
   "cell_type": "code",
   "execution_count": 116,
   "metadata": {},
   "outputs": [
    {
     "data": {
      "image/png": "[encoded data removed]",
      "text/plain": [
       "<Figure size 432x288 with 1 Axes>"
      ]
     },
     "metadata": {},
     "output_type": "display_data"
    },
    {
     "data": {
      "image/png": "[encoded data removed]",
      "text/plain": [
       "<Figure size 432x288 with 1 Axes>"
      ]
     },
     "metadata": {},
     "output_type": "display_data"
    },
    {
     "data": {
      "image/png": "[encoded data removed]",
      "text/plain": [
       "<Figure size 432x288 with 1 Axes>"
      ]
     },
     "metadata": {},
     "output_type": "display_data"
    },
    {
     "data": {
      "image/png": "[encoded data removed]",
      "text/plain": [
       "<Figure size 432x288 with 1 Axes>"
      ]
     },
     "metadata": {},
     "output_type": "display_data"
    },
    {
     "data": {
      "image/png": "[encoded data removed]",
      "text/plain": [
       "<Figure size 432x288 with 1 Axes>"
      ]
     },
     "metadata": {},
     "output_type": "display_data"
    },
    {
     "data": {
      "image/png": "[encoded data removed]",
      "text/plain": [
       "<Figure size 432x288 with 1 Axes>"
      ]
     },
     "metadata": {},
     "output_type": "display_data"
    },
    {
     "data": {
      "image/png": "[encoded data removed]",
      "text/plain": [
       "<Figure size 432x288 with 1 Axes>"
      ]
     },
     "metadata": {},
     "output_type": "display_data"
    },
    {
     "data": {
      "image/png": "[encoded data removed]",
      "text/plain": [
       "<Figure size 432x288 with 1 Axes>"
      ]
     },
     "metadata": {},
     "output_type": "display_data"
    },
    {
     "data": {
      "image/png": "[encoded data removed]",
      "text/plain": [
       "<Figure size 432x288 with 1 Axes>"
      ]
     },
     "metadata": {},
     "output_type": "display_data"
    }
   ],
   "source": [
    "for col in df.columns:\n",
    "    sns.boxplot(y=df[col])\n",
    "    plt.title('Boxplot')\n",
    "    plt.show()"
   ]
  },
  {
   "cell_type": "code",
   "execution_count": 117,
   "metadata": {},
   "outputs": [],
   "source": [
    "def find_skewed_boundaries(df, variable, distance):\n",
    "\n",
    "    # Let's calculate the boundaries outside which sit the outliers\n",
    "    # for skewed distributions\n",
    "\n",
    "    IQR = df[variable].quantile(0.75) - df[variable].quantile(0.25)\n",
    "\n",
    "    lower_boundary = df[variable].quantile(0.25) - (IQR * distance)\n",
    "    upper_boundary = df[variable].quantile(0.75) + (IQR * distance)\n",
    "\n",
    "    return upper_boundary, lower_boundary"
   ]
  },
  {
   "cell_type": "code",
   "execution_count": 118,
   "metadata": {},
   "outputs": [],
   "source": [
    "def find_boundaries(df, variable):\n",
    "\n",
    "    # the boundaries are the quantiles\n",
    "\n",
    "    lower_boundary = df[variable].quantile(0.05)\n",
    "    upper_boundary = df[variable].quantile(0.95)\n",
    "\n",
    "    return upper_boundary, lower_boundary"
   ]
  },
  {
   "cell_type": "code",
   "execution_count": 119,
   "metadata": {},
   "outputs": [
    {
     "data": {
      "text/plain": [
       "(256.5, 84.5)"
      ]
     },
     "execution_count": 119,
     "metadata": {},
     "output_type": "execute_result"
    }
   ],
   "source": [
    "weight_upper_limit, weight_lower_limit = find_skewed_boundaries(df, 'weight', 1.5)\n",
    "weight_upper_limit, weight_lower_limit"
   ]
  },
  {
   "cell_type": "code",
   "execution_count": 120,
   "metadata": {},
   "outputs": [
    {
     "data": {
      "text/plain": [
       "(233.0, 130.0)"
      ]
     },
     "execution_count": 120,
     "metadata": {},
     "output_type": "execute_result"
    }
   ],
   "source": [
    "weight_g_upper_limit, weight_g_lower_limit = find_boundaries(df, 'weight')\n",
    "weight_g_upper_limit, weight_g_lower_limit"
   ]
  },
  {
   "cell_type": "code",
   "execution_count": 121,
   "metadata": {},
   "outputs": [
    {
     "data": {
      "text/plain": [
       "(50.3625, 13.462500000000004)"
      ]
     },
     "execution_count": 121,
     "metadata": {},
     "output_type": "execute_result"
    }
   ],
   "source": [
    "bmi_upper_limit, bmi_lower_limit = find_skewed_boundaries(df, 'bmi', 1.5)\n",
    "bmi_upper_limit, bmi_lower_limit"
   ]
  },
  {
   "cell_type": "code",
   "execution_count": 122,
   "metadata": {},
   "outputs": [
    {
     "data": {
      "text/plain": [
       "(44.61999999999998, 21.8)"
      ]
     },
     "execution_count": 122,
     "metadata": {},
     "output_type": "execute_result"
    }
   ],
   "source": [
    "bmi_g_upper_limit, bmi_g_lower_limit = find_boundaries(df, 'bmi')\n",
    "bmi_g_upper_limit, bmi_g_lower_limit"
   ]
  },
  {
   "cell_type": "code",
   "execution_count": 123,
   "metadata": {},
   "outputs": [],
   "source": [
    "df['bmi']= np.where(df['bmi'] > bmi_upper_limit, bmi_upper_limit,\n",
    "                       np.where(df['bmi'] < bmi_lower_limit, bmi_lower_limit, df['bmi']))"
   ]
  },
  {
   "cell_type": "code",
   "execution_count": 124,
   "metadata": {},
   "outputs": [
    {
     "data": {
      "text/plain": [
       "(107.0, 35.0)"
      ]
     },
     "execution_count": 124,
     "metadata": {},
     "output_type": "execute_result"
    }
   ],
   "source": [
    "blood_pressure_upper_limit, blood_pressure_lower_limit = find_skewed_boundaries(df, 'blood_pressure', 1.5)\n",
    "blood_pressure_upper_limit, blood_pressure_lower_limit"
   ]
  },
  {
   "cell_type": "code",
   "execution_count": 125,
   "metadata": {},
   "outputs": [
    {
     "data": {
      "text/plain": [
       "(92.0, 43.80000000000001)"
      ]
     },
     "execution_count": 125,
     "metadata": {},
     "output_type": "execute_result"
    }
   ],
   "source": [
    "blood_pressure_g_upper_limit, blood_pressure_g_lower_limit = find_boundaries(df, 'blood_pressure')\n",
    "blood_pressure_g_upper_limit, blood_pressure_g_lower_limit"
   ]
  },
  {
   "cell_type": "code",
   "execution_count": 126,
   "metadata": {},
   "outputs": [],
   "source": [
    "df['blood_pressure']= np.where(df['blood_pressure'] > bmi_upper_limit, bmi_upper_limit,\n",
    "                       np.where(df['blood_pressure'] < bmi_lower_limit, bmi_lower_limit, df['blood_pressure']))"
   ]
  },
  {
   "cell_type": "code",
   "execution_count": 127,
   "metadata": {},
   "outputs": [
    {
     "data": {
      "text/plain": [
       "(325.0, -195.0)"
      ]
     },
     "execution_count": 127,
     "metadata": {},
     "output_type": "execute_result"
    }
   ],
   "source": [
    "insulin_test_upper_limit, insulin_test_lower_limit = find_skewed_boundaries(df, 'insulin_test', 1.5)\n",
    "insulin_test_upper_limit, insulin_test_lower_limit"
   ]
  },
  {
   "cell_type": "code",
   "execution_count": 128,
   "metadata": {},
   "outputs": [
    {
     "data": {
      "text/plain": [
       "(310.39999999999964, 0.0)"
      ]
     },
     "execution_count": 128,
     "metadata": {},
     "output_type": "execute_result"
    }
   ],
   "source": [
    "insulin_test_g_upper_limit, insulin_test_g_lower_limit = find_boundaries(df, 'insulin_test')\n",
    "insulin_test_g_upper_limit, insulin_test_g_lower_limit"
   ]
  },
  {
   "cell_type": "code",
   "execution_count": 129,
   "metadata": {},
   "outputs": [],
   "source": [
    "df['insulin_test']= np.where(df['insulin_test'] > insulin_test_upper_limit, insulin_test_upper_limit,\n",
    "                       np.where(df['insulin_test'] < insulin_test_lower_limit, insulin_test_lower_limit, df['insulin_test']))"
   ]
  },
  {
   "cell_type": "code",
   "execution_count": 130,
   "metadata": {},
   "outputs": [
    {
     "data": {
      "text/plain": [
       "(1.2877999999999998, -0.28019999999999995)"
      ]
     },
     "execution_count": 130,
     "metadata": {},
     "output_type": "execute_result"
    }
   ],
   "source": [
    "liver_stress_test_upper_limit, liver_stress_test_lower_limit = find_skewed_boundaries(df, 'liver_stress_test', 1.5)\n",
    "liver_stress_test_upper_limit, liver_stress_test_lower_limit"
   ]
  },
  {
   "cell_type": "code",
   "execution_count": 131,
   "metadata": {},
   "outputs": [],
   "source": [
    "df['liver_stress_test']= np.where(df['liver_stress_test'] > liver_stress_test_upper_limit, liver_stress_test_upper_limit,\n",
    "                       np.where(df['liver_stress_test'] < liver_stress_test_lower_limit, liver_stress_test_lower_limit, df['liver_stress_test']))"
   ]
  },
  {
   "cell_type": "code",
   "execution_count": 132,
   "metadata": {},
   "outputs": [
    {
     "data": {
      "text/html": [
       "<div>\n",
       "<style scoped>\n",
       "    .dataframe tbody tr th:only-of-type {\n",
       "        vertical-align: middle;\n",
       "    }\n",
       "\n",
       "    .dataframe tbody tr th {\n",
       "        vertical-align: top;\n",
       "    }\n",
       "\n",
       "    .dataframe thead th {\n",
       "        text-align: right;\n",
       "    }\n",
       "</style>\n",
       "<table border=\"1\" class=\"dataframe\">\n",
       "  <thead>\n",
       "    <tr style=\"text-align: right;\">\n",
       "      <th></th>\n",
       "      <th>age</th>\n",
       "      <th>weight</th>\n",
       "      <th>bmi</th>\n",
       "      <th>blood_pressure</th>\n",
       "      <th>insulin_test</th>\n",
       "      <th>liver_stress_test</th>\n",
       "      <th>cardio_stress_test</th>\n",
       "      <th>years_smoking</th>\n",
       "      <th>zeta_disease</th>\n",
       "    </tr>\n",
       "  </thead>\n",
       "  <tbody>\n",
       "    <tr>\n",
       "      <th>count</th>\n",
       "      <td>800.000000</td>\n",
       "      <td>800.000000</td>\n",
       "      <td>800.000000</td>\n",
       "      <td>800.000000</td>\n",
       "      <td>800.000000</td>\n",
       "      <td>800.000000</td>\n",
       "      <td>800.000000</td>\n",
       "      <td>800.000000</td>\n",
       "      <td>800.000000</td>\n",
       "    </tr>\n",
       "    <tr>\n",
       "      <th>mean</th>\n",
       "      <td>30.985000</td>\n",
       "      <td>172.407500</td>\n",
       "      <td>32.171422</td>\n",
       "      <td>48.575438</td>\n",
       "      <td>77.772500</td>\n",
       "      <td>0.529669</td>\n",
       "      <td>43.121250</td>\n",
       "      <td>4.051250</td>\n",
       "      <td>0.348750</td>\n",
       "    </tr>\n",
       "    <tr>\n",
       "      <th>std</th>\n",
       "      <td>13.824025</td>\n",
       "      <td>31.942438</td>\n",
       "      <td>7.088368</td>\n",
       "      <td>7.678616</td>\n",
       "      <td>95.586658</td>\n",
       "      <td>0.291608</td>\n",
       "      <td>30.409949</td>\n",
       "      <td>4.176173</td>\n",
       "      <td>0.476873</td>\n",
       "    </tr>\n",
       "    <tr>\n",
       "      <th>min</th>\n",
       "      <td>18.000000</td>\n",
       "      <td>94.000000</td>\n",
       "      <td>13.462500</td>\n",
       "      <td>13.462500</td>\n",
       "      <td>0.000000</td>\n",
       "      <td>0.140800</td>\n",
       "      <td>0.000000</td>\n",
       "      <td>0.000000</td>\n",
       "      <td>0.000000</td>\n",
       "    </tr>\n",
       "    <tr>\n",
       "      <th>25%</th>\n",
       "      <td>21.000000</td>\n",
       "      <td>149.000000</td>\n",
       "      <td>27.300000</td>\n",
       "      <td>50.362500</td>\n",
       "      <td>0.000000</td>\n",
       "      <td>0.307800</td>\n",
       "      <td>0.000000</td>\n",
       "      <td>1.000000</td>\n",
       "      <td>0.000000</td>\n",
       "    </tr>\n",
       "    <tr>\n",
       "      <th>50%</th>\n",
       "      <td>26.000000</td>\n",
       "      <td>167.000000</td>\n",
       "      <td>32.050000</td>\n",
       "      <td>50.362500</td>\n",
       "      <td>45.000000</td>\n",
       "      <td>0.445300</td>\n",
       "      <td>53.000000</td>\n",
       "      <td>3.000000</td>\n",
       "      <td>0.000000</td>\n",
       "    </tr>\n",
       "    <tr>\n",
       "      <th>75%</th>\n",
       "      <td>38.000000</td>\n",
       "      <td>192.000000</td>\n",
       "      <td>36.525000</td>\n",
       "      <td>50.362500</td>\n",
       "      <td>130.000000</td>\n",
       "      <td>0.699800</td>\n",
       "      <td>62.000000</td>\n",
       "      <td>6.000000</td>\n",
       "      <td>1.000000</td>\n",
       "    </tr>\n",
       "    <tr>\n",
       "      <th>max</th>\n",
       "      <td>109.000000</td>\n",
       "      <td>308.000000</td>\n",
       "      <td>50.362500</td>\n",
       "      <td>50.362500</td>\n",
       "      <td>325.000000</td>\n",
       "      <td>1.287800</td>\n",
       "      <td>214.000000</td>\n",
       "      <td>40.000000</td>\n",
       "      <td>1.000000</td>\n",
       "    </tr>\n",
       "  </tbody>\n",
       "</table>\n",
       "</div>"
      ],
      "text/plain": [
       "              age      weight         bmi  blood_pressure  insulin_test  \\\n",
       "count  800.000000  800.000000  800.000000      800.000000    800.000000   \n",
       "mean    30.985000  172.407500   32.171422       48.575438     77.772500   \n",
       "std     13.824025   31.942438    7.088368        7.678616     95.586658   \n",
       "min     18.000000   94.000000   13.462500       13.462500      0.000000   \n",
       "25%     21.000000  149.000000   27.300000       50.362500      0.000000   \n",
       "50%     26.000000  167.000000   32.050000       50.362500     45.000000   \n",
       "75%     38.000000  192.000000   36.525000       50.362500    130.000000   \n",
       "max    109.000000  308.000000   50.362500       50.362500    325.000000   \n",
       "\n",
       "       liver_stress_test  cardio_stress_test  years_smoking  zeta_disease  \n",
       "count         800.000000          800.000000     800.000000    800.000000  \n",
       "mean            0.529669           43.121250       4.051250      0.348750  \n",
       "std             0.291608           30.409949       4.176173      0.476873  \n",
       "min             0.140800            0.000000       0.000000      0.000000  \n",
       "25%             0.307800            0.000000       1.000000      0.000000  \n",
       "50%             0.445300           53.000000       3.000000      0.000000  \n",
       "75%             0.699800           62.000000       6.000000      1.000000  \n",
       "max             1.287800          214.000000      40.000000      1.000000  "
      ]
     },
     "execution_count": 132,
     "metadata": {},
     "output_type": "execute_result"
    }
   ],
   "source": [
    "df.describe()"
   ]
  },
  {
   "cell_type": "markdown",
   "metadata": {},
   "source": [
    "## feature Selection Techniques"
   ]
  },
  {
   "cell_type": "code",
   "execution_count": 133,
   "metadata": {},
   "outputs": [
    {
     "data": {
      "text/html": [
       "<div>\n",
       "<style scoped>\n",
       "    .dataframe tbody tr th:only-of-type {\n",
       "        vertical-align: middle;\n",
       "    }\n",
       "\n",
       "    .dataframe tbody tr th {\n",
       "        vertical-align: top;\n",
       "    }\n",
       "\n",
       "    .dataframe thead th {\n",
       "        text-align: right;\n",
       "    }\n",
       "</style>\n",
       "<table border=\"1\" class=\"dataframe\">\n",
       "  <thead>\n",
       "    <tr style=\"text-align: right;\">\n",
       "      <th></th>\n",
       "      <th>feature1</th>\n",
       "      <th>feature2</th>\n",
       "      <th>corr</th>\n",
       "    </tr>\n",
       "  </thead>\n",
       "  <tbody>\n",
       "  </tbody>\n",
       "</table>\n",
       "</div>"
      ],
      "text/plain": [
       "Empty DataFrame\n",
       "Columns: [feature1, feature2, corr]\n",
       "Index: []"
      ]
     },
     "execution_count": 133,
     "metadata": {},
     "output_type": "execute_result"
    }
   ],
   "source": [
    "df_x_values=df.drop(labels=['zeta_disease'],axis=1)\n",
    "corrmat = df_x_values.corr()\n",
    "corrmat = corrmat.abs().unstack() \n",
    "corrmat = corrmat.sort_values(ascending=False)\n",
    "corrmat = corrmat[corrmat >= 0.6]\n",
    "corrmat = corrmat[corrmat < 1]\n",
    "corrmat = pd.DataFrame(corrmat).reset_index()\n",
    "corrmat.columns = ['feature1', 'feature2', 'corr']\n",
    "corrmat.head()"
   ]
  },
  {
   "cell_type": "code",
   "execution_count": 134,
   "metadata": {},
   "outputs": [
    {
     "data": {
      "text/plain": [
       "StandardScaler(copy=True, with_mean=True, with_std=True)"
      ]
     },
     "execution_count": 134,
     "metadata": {},
     "output_type": "execute_result"
    }
   ],
   "source": [
    "scaler = StandardScaler()\n",
    "scaler.fit(df_x_values)"
   ]
  },
  {
   "cell_type": "code",
   "execution_count": 135,
   "metadata": {},
   "outputs": [
    {
     "data": {
      "text/plain": [
       "SelectFromModel(estimator=LogisticRegression(C=1, class_weight=None, dual=False, fit_intercept=True,\n",
       "          intercept_scaling=1, max_iter=100, multi_class='ovr', n_jobs=1,\n",
       "          penalty='l1', random_state=None, solver='liblinear', tol=0.0001,\n",
       "          verbose=0, warm_start=False),\n",
       "        norm_order=1, prefit=False, threshold=None)"
      ]
     },
     "execution_count": 135,
     "metadata": {},
     "output_type": "execute_result"
    }
   ],
   "source": [
    "sel= SelectFromModel(LogisticRegression(C=1, penalty='l1'))\n",
    "sel.fit(scaler.transform(df_x_values.fillna(0)), df['zeta_disease'])"
   ]
  },
  {
   "cell_type": "code",
   "execution_count": 136,
   "metadata": {},
   "outputs": [
    {
     "data": {
      "text/plain": [
       "array([ True,  True,  True,  True,  True,  True,  True,  True])"
      ]
     },
     "execution_count": 136,
     "metadata": {},
     "output_type": "execute_result"
    }
   ],
   "source": [
    "sel.get_support()"
   ]
  },
  {
   "cell_type": "code",
   "execution_count": 137,
   "metadata": {},
   "outputs": [
    {
     "name": "stdout",
     "output_type": "stream",
     "text": [
      "total features: 8\n",
      "selected features: 8\n",
      "features with coefficients shrank to zero: 0\n"
     ]
    }
   ],
   "source": [
    "# Now I make a list with the selected features\n",
    "selected_feat = df_x_values.columns[(sel.get_support())]\n",
    "\n",
    "print('total features: {}'.format((df_x_values.shape[1])))\n",
    "print('selected features: {}'.format(len(selected_feat)))\n",
    "print('features with coefficients shrank to zero: {}'.format(\n",
    "    np.sum(sel.estimator_.coef_ == 0)))"
   ]
  },
  {
   "cell_type": "markdown",
   "metadata": {},
   "source": [
    "# Modeling"
   ]
  },
  {
   "cell_type": "code",
   "execution_count": 175,
   "metadata": {},
   "outputs": [
    {
     "data": {
      "text/plain": [
       "((800, 8), (800,))"
      ]
     },
     "execution_count": 175,
     "metadata": {},
     "output_type": "execute_result"
    }
   ],
   "source": [
    "# separate dataset into train and validation\n",
    "X_train, y_train=df.drop(labels=['zeta_disease'],axis=1), df['zeta_disease']\n",
    "X_train.shape, y_train.shape"
   ]
  },
  {
   "cell_type": "code",
   "execution_count": 176,
   "metadata": {},
   "outputs": [
    {
     "data": {
      "text/plain": [
       "0.5355086372360844"
      ]
     },
     "execution_count": 176,
     "metadata": {},
     "output_type": "execute_result"
    }
   ],
   "source": [
    "from collections import Counter\n",
    "Counter(y_train)\n",
    "279/521"
   ]
  },
  {
   "cell_type": "code",
   "execution_count": 177,
   "metadata": {},
   "outputs": [],
   "source": [
    "sc = StandardScaler()\n",
    "X_train_scale = sc.fit_transform(X_train)"
   ]
  },
  {
   "cell_type": "markdown",
   "metadata": {},
   "source": [
    "#### Logistic Regression"
   ]
  },
  {
   "cell_type": "code",
   "execution_count": 178,
   "metadata": {},
   "outputs": [
    {
     "name": "stdout",
     "output_type": "stream",
     "text": [
      "Fitting 5 folds for each of 10 candidates, totalling 50 fits\n",
      "[CV] C=1.49816047538945, penalty=l2 ..................................\n",
      "[CV] ................... C=1.49816047538945, penalty=l2, total=   0.0s\n",
      "[CV] C=1.49816047538945, penalty=l2 ..................................\n",
      "[CV] ................... C=1.49816047538945, penalty=l2, total=   0.0s\n",
      "[CV] C=1.49816047538945, penalty=l2 ..................................\n",
      "[CV] ................... C=1.49816047538945, penalty=l2, total=   0.0s\n",
      "[CV] C=1.49816047538945, penalty=l2 ..................................\n",
      "[CV] ................... C=1.49816047538945, penalty=l2, total=   0.0s\n",
      "[CV] C=1.49816047538945, penalty=l2 ..................................\n",
      "[CV] ................... C=1.49816047538945, penalty=l2, total=   0.0s\n",
      "[CV] C=0.7337391594646552, penalty=l1 ................................\n",
      "[CV] ................. C=0.7337391594646552, penalty=l1, total=   0.0s\n",
      "[CV] C=0.7337391594646552, penalty=l1 ................................\n",
      "[CV] ................. C=0.7337391594646552, penalty=l1, total=   0.0s\n",
      "[CV] C=0.7337391594646552, penalty=l1 ................................\n",
      "[CV] ................. C=0.7337391594646552, penalty=l1, total=   0.0s\n",
      "[CV] C=0.7337391594646552, penalty=l1 ................................\n",
      "[CV] ................. C=0.7337391594646552, penalty=l1, total=   0.0s\n",
      "[CV] C=0.7337391594646552, penalty=l1 ................................\n",
      "[CV] ................. C=0.7337391594646552, penalty=l1, total=   0.0s\n",
      "[CV] C=2.3946339367881464, penalty=l2 ................................\n",
      "[CV] ................. C=2.3946339367881464, penalty=l2, total=   0.0s\n",
      "[CV] C=2.3946339367881464, penalty=l2 ................................\n",
      "[CV] ................. C=2.3946339367881464, penalty=l2, total=   0.0s\n",
      "[CV] C=2.3946339367881464, penalty=l2 ................................\n",
      "[CV] ................. C=2.3946339367881464, penalty=l2, total=   0.0s\n",
      "[CV] C=2.3946339367881464, penalty=l2 ................................\n",
      "[CV] ................. C=2.3946339367881464, penalty=l2, total=   0.0s\n",
      "[CV] C=2.3946339367881464, penalty=l2 ................................\n",
      "[CV] ................. C=2.3946339367881464, penalty=l2, total=   0.0s\n",
      "[CV] C=1.7833310114143646, penalty=l2 ................................\n",
      "[CV] ................. C=1.7833310114143646, penalty=l2, total=   0.0s\n",
      "[CV] C=1.7833310114143646, penalty=l2 ................................\n",
      "[CV] ................. C=1.7833310114143646, penalty=l2, total=   0.0s\n",
      "[CV] C=1.7833310114143646, penalty=l2 ................................\n",
      "[CV] ................. C=1.7833310114143646, penalty=l2, total=   0.0s\n",
      "[CV] C=1.7833310114143646, penalty=l2 ................................\n",
      "[CV] ................. C=1.7833310114143646, penalty=l2, total=   0.0s\n",
      "[CV] C=1.7833310114143646, penalty=l2 ................................\n",
      "[CV] ................. C=1.7833310114143646, penalty=l2, total=   0.0s\n",
      "[CV] C=0.23233444867279784, penalty=l1 ...............................\n",
      "[CV] ................ C=0.23233444867279784, penalty=l1, total=   0.0s\n",
      "[CV] C=0.23233444867279784, penalty=l1 ...............................\n",
      "[CV] ................ C=0.23233444867279784, penalty=l1, total=   0.0s\n",
      "[CV] C=0.23233444867279784, penalty=l1 ...............................\n",
      "[CV] ................ C=0.23233444867279784, penalty=l1, total=   0.0s\n",
      "[CV] C=0.23233444867279784, penalty=l1 ...............................\n",
      "[CV] ................ C=0.23233444867279784, penalty=l1, total=   0.0s\n",
      "[CV] C=0.23233444867279784, penalty=l1 ...............................\n",
      "[CV] ................ C=0.23233444867279784, penalty=l1, total=   0.0s\n",
      "[CV] C=1.3348344445560874, penalty=l1 ................................\n",
      "[CV] ................. C=1.3348344445560874, penalty=l1, total=   0.0s\n",
      "[CV] C=1.3348344445560874, penalty=l1 ................................\n",
      "[CV] ................. C=1.3348344445560874, penalty=l1, total=   0.0s\n",
      "[CV] C=1.3348344445560874, penalty=l1 ................................\n",
      "[CV] ................. C=1.3348344445560874, penalty=l1, total=   0.0s\n",
      "[CV] C=1.3348344445560874, penalty=l1 ................................\n",
      "[CV] ................. C=1.3348344445560874, penalty=l1, total=   0.0s\n",
      "[CV] C=1.3348344445560874, penalty=l1 ................................\n",
      "[CV] ................. C=1.3348344445560874, penalty=l1, total=   0.0s\n",
      "[CV] C=2.832290311184182, penalty=l1 .................................\n"
     ]
    },
    {
     "name": "stderr",
     "output_type": "stream",
     "text": [
      "[Parallel(n_jobs=1)]: Done   1 out of   1 | elapsed:    0.0s remaining:    0.0s\n"
     ]
    },
    {
     "name": "stdout",
     "output_type": "stream",
     "text": [
      "[CV] .................. C=2.832290311184182, penalty=l1, total=   0.0s\n",
      "[CV] C=2.832290311184182, penalty=l1 .................................\n",
      "[CV] .................. C=2.832290311184182, penalty=l1, total=   0.0s\n",
      "[CV] C=2.832290311184182, penalty=l1 .................................\n",
      "[CV] .................. C=2.832290311184182, penalty=l1, total=   0.0s\n",
      "[CV] C=2.832290311184182, penalty=l1 .................................\n",
      "[CV] .................. C=2.832290311184182, penalty=l1, total=   0.0s\n",
      "[CV] C=2.832290311184182, penalty=l1 .................................\n",
      "[CV] .................. C=2.832290311184182, penalty=l1, total=   0.0s\n",
      "[CV] C=0.22564631610840102, penalty=l1 ...............................\n",
      "[CV] ................ C=0.22564631610840102, penalty=l1, total=   0.0s\n",
      "[CV] C=0.22564631610840102, penalty=l1 ...............................\n",
      "[CV] ................ C=0.22564631610840102, penalty=l1, total=   0.0s\n",
      "[CV] C=0.22564631610840102, penalty=l1 ...............................\n",
      "[CV] ................ C=0.22564631610840102, penalty=l1, total=   0.0s\n",
      "[CV] C=0.22564631610840102, penalty=l1 ...............................\n",
      "[CV] ................ C=0.22564631610840102, penalty=l1, total=   0.0s\n",
      "[CV] C=0.22564631610840102, penalty=l1 ...............................\n",
      "[CV] ................ C=0.22564631610840102, penalty=l1, total=   0.0s\n",
      "[CV] C=3.329770563201687, penalty=l1 .................................\n",
      "[CV] .................. C=3.329770563201687, penalty=l1, total=   0.0s\n",
      "[CV] C=3.329770563201687, penalty=l1 .................................\n",
      "[CV] .................. C=3.329770563201687, penalty=l1, total=   0.0s\n",
      "[CV] C=3.329770563201687, penalty=l1 .................................\n",
      "[CV] .................. C=3.329770563201687, penalty=l1, total=   0.0s\n",
      "[CV] C=3.329770563201687, penalty=l1 .................................\n",
      "[CV] .................. C=3.329770563201687, penalty=l1, total=   0.0s\n",
      "[CV] C=3.329770563201687, penalty=l1 .................................\n",
      "[CV] .................. C=3.329770563201687, penalty=l1, total=   0.0s\n",
      "[CV] C=0.0031150633640573133, penalty=l1 .............................\n",
      "[CV] .............. C=0.0031150633640573133, penalty=l1, total=   0.0s\n",
      "[CV] C=0.0031150633640573133, penalty=l1 .............................\n",
      "[CV] .............. C=0.0031150633640573133, penalty=l1, total=   0.0s\n",
      "[CV] C=0.0031150633640573133, penalty=l1 .............................\n",
      "[CV] .............. C=0.0031150633640573133, penalty=l1, total=   0.0s\n",
      "[CV] C=0.0031150633640573133, penalty=l1 .............................\n",
      "[CV] .............. C=0.0031150633640573133, penalty=l1, total=   0.0s\n",
      "[CV] C=0.0031150633640573133, penalty=l1 .............................\n",
      "[CV] .............. C=0.0031150633640573133, penalty=l1, total=   0.0s\n"
     ]
    },
    {
     "name": "stderr",
     "output_type": "stream",
     "text": [
      "[Parallel(n_jobs=1)]: Done  50 out of  50 | elapsed:    0.2s finished\n"
     ]
    },
    {
     "data": {
      "text/plain": [
       "({'C': 0.7337391594646552, 'penalty': 'l1'}, 0.8362421640859141)"
      ]
     },
     "execution_count": 178,
     "metadata": {},
     "output_type": "execute_result"
    }
   ],
   "source": [
    "#Randomized_search_CV for Logistic Regression\n",
    "\n",
    "logistic = LogisticRegression(class_weight='balanced',solver='saga', max_iter=200,\n",
    "                              random_state=42)\n",
    "distributions = dict(C=uniform(loc=0, scale=4),\n",
    "                    penalty=['l2', 'l1'])\n",
    "clf = RandomizedSearchCV(logistic, distributions,scoring='roc_auc',cv=5,verbose=2, random_state=42)\n",
    "search = clf.fit(X_train_scale, y_train)\n",
    "search.best_params_,search.best_score_"
   ]
  },
  {
   "cell_type": "markdown",
   "metadata": {},
   "source": [
    "#### Random Forest"
   ]
  },
  {
   "cell_type": "code",
   "execution_count": 179,
   "metadata": {},
   "outputs": [
    {
     "name": "stdout",
     "output_type": "stream",
     "text": [
      "Fitting 5 folds for each of 100 candidates, totalling 500 fits\n"
     ]
    },
    {
     "name": "stderr",
     "output_type": "stream",
     "text": [
      "[Parallel(n_jobs=-1)]: Done  17 tasks      | elapsed:   12.2s\n",
      "[Parallel(n_jobs=-1)]: Done 138 tasks      | elapsed:   15.8s\n",
      "[Parallel(n_jobs=-1)]: Done 341 tasks      | elapsed:   21.2s\n",
      "[Parallel(n_jobs=-1)]: Done 500 out of 500 | elapsed:   25.3s finished\n"
     ]
    },
    {
     "data": {
      "text/plain": [
       "({'n_estimators': 52,\n",
       "  'min_samples_split': 2,\n",
       "  'min_samples_leaf': 4,\n",
       "  'max_features': 'auto',\n",
       "  'max_depth': 40,\n",
       "  'bootstrap': True},\n",
       " 0.8478989135864136)"
      ]
     },
     "execution_count": 179,
     "metadata": {},
     "output_type": "execute_result"
    }
   ],
   "source": [
    "###Randomized_search_CV for Random Forest\n",
    "\n",
    "# Number of trees in random forest\n",
    "n_estimators = [int(x) for x in np.linspace(start = 10, stop = 200, num = 10)]\n",
    "# Number of features to consider at every split\n",
    "max_features = ['auto', 'sqrt']\n",
    "# Maximum number of levels in tree\n",
    "max_depth = [int(x) for x in np.linspace(10, 110, num = 11)]\n",
    "max_depth.append(None)\n",
    "# Minimum number of samples required to split a node\n",
    "min_samples_split = [2, 5, 10]\n",
    "# Minimum number of samples required at each leaf node\n",
    "min_samples_leaf = [1, 2, 4]\n",
    "# Method of selecting samples for training each tree\n",
    "bootstrap = [True, False]\n",
    "# Create the random grid\n",
    "random_grid = {'n_estimators': n_estimators,\n",
    "               'max_features': max_features,\n",
    "               'max_depth': max_depth,\n",
    "               'min_samples_split': min_samples_split,\n",
    "               'min_samples_leaf': min_samples_leaf,\n",
    "               'bootstrap': bootstrap}\n",
    "\n",
    "rf = RandomForestClassifier(class_weight='balanced')\n",
    "\n",
    "rf_random = RandomizedSearchCV(estimator = rf, param_distributions = random_grid,scoring='roc_auc', n_iter = 100,cv=5,  verbose=2, random_state=42, n_jobs = -1)\n",
    "search_rf=rf_random.fit(X_train, y_train)\n",
    "search_rf.best_params_,search_rf.best_score_"
   ]
  },
  {
   "cell_type": "code",
   "execution_count": 180,
   "metadata": {},
   "outputs": [
    {
     "name": "stdout",
     "output_type": "stream",
     "text": [
      "Fitting 5 folds for each of 20 candidates, totalling 100 fits\n",
      "[CV] subsample=0.9, reg_lambda=0.5, n_estimators=157, min_child_weight=5.0, max_depth=1, learning_rate=0.001, gamma=0.5, colsample_bytree=0.7, colsample_bylevel=0.9 \n",
      "[12:08:38] WARNING: C:/Users/Administrator/workspace/xgboost-win64_release_1.3.0/src/learner.cc:1061: Starting in XGBoost 1.3.0, the default evaluation metric used with the objective 'binary:logistic' was changed from 'error' to 'logloss'. Explicitly set eval_metric if you'd like to restore the old behavior.\n",
      "[CV]  subsample=0.9, reg_lambda=0.5, n_estimators=157, min_child_weight=5.0, max_depth=1, learning_rate=0.001, gamma=0.5, colsample_bytree=0.7, colsample_bylevel=0.9, total=   0.0s\n",
      "[CV] subsample=0.9, reg_lambda=0.5, n_estimators=157, min_child_weight=5.0, max_depth=1, learning_rate=0.001, gamma=0.5, colsample_bytree=0.7, colsample_bylevel=0.9 \n",
      "[12:08:38] WARNING: C:/Users/Administrator/workspace/xgboost-win64_release_1.3.0/src/learner.cc:1061: Starting in XGBoost 1.3.0, the default evaluation metric used with the objective 'binary:logistic' was changed from 'error' to 'logloss'. Explicitly set eval_metric if you'd like to restore the old behavior.\n",
      "[CV]  subsample=0.9, reg_lambda=0.5, n_estimators=157, min_child_weight=5.0, max_depth=1, learning_rate=0.001, gamma=0.5, colsample_bytree=0.7, colsample_bylevel=0.9, total=   0.0s\n",
      "[CV] subsample=0.9, reg_lambda=0.5, n_estimators=157, min_child_weight=5.0, max_depth=1, learning_rate=0.001, gamma=0.5, colsample_bytree=0.7, colsample_bylevel=0.9 \n",
      "[12:08:38] WARNING: C:/Users/Administrator/workspace/xgboost-win64_release_1.3.0/src/learner.cc:1061: Starting in XGBoost 1.3.0, the default evaluation metric used with the objective 'binary:logistic' was changed from 'error' to 'logloss'. Explicitly set eval_metric if you'd like to restore the old behavior.\n"
     ]
    },
    {
     "name": "stderr",
     "output_type": "stream",
     "text": [
      "C:\\ProgramData\\Anaconda3\\lib\\site-packages\\xgboost\\sklearn.py:888: UserWarning: The use of label encoder in XGBClassifier is deprecated and will be removed in a future release. To remove this warning, do the following: 1) Pass option use_label_encoder=False when constructing XGBClassifier object; and 2) Encode your labels (y) as integers starting with 0, i.e. 0, 1, 2, ..., [num_class - 1].\n",
      "  warnings.warn(label_encoder_deprecation_msg, UserWarning)\n",
      "[Parallel(n_jobs=1)]: Done   1 out of   1 | elapsed:    0.0s remaining:    0.0s\n",
      "C:\\ProgramData\\Anaconda3\\lib\\site-packages\\xgboost\\sklearn.py:888: UserWarning: The use of label encoder in XGBClassifier is deprecated and will be removed in a future release. To remove this warning, do the following: 1) Pass option use_label_encoder=False when constructing XGBClassifier object; and 2) Encode your labels (y) as integers starting with 0, i.e. 0, 1, 2, ..., [num_class - 1].\n",
      "  warnings.warn(label_encoder_deprecation_msg, UserWarning)\n",
      "C:\\ProgramData\\Anaconda3\\lib\\site-packages\\xgboost\\sklearn.py:888: UserWarning: The use of label encoder in XGBClassifier is deprecated and will be removed in a future release. To remove this warning, do the following: 1) Pass option use_label_encoder=False when constructing XGBClassifier object; and 2) Encode your labels (y) as integers starting with 0, i.e. 0, 1, 2, ..., [num_class - 1].\n",
      "  warnings.warn(label_encoder_deprecation_msg, UserWarning)\n"
     ]
    },
    {
     "name": "stdout",
     "output_type": "stream",
     "text": [
      "[CV]  subsample=0.9, reg_lambda=0.5, n_estimators=157, min_child_weight=5.0, max_depth=1, learning_rate=0.001, gamma=0.5, colsample_bytree=0.7, colsample_bylevel=0.9, total=   0.0s\n",
      "[CV] subsample=0.9, reg_lambda=0.5, n_estimators=157, min_child_weight=5.0, max_depth=1, learning_rate=0.001, gamma=0.5, colsample_bytree=0.7, colsample_bylevel=0.9 \n",
      "[12:08:38] WARNING: C:/Users/Administrator/workspace/xgboost-win64_release_1.3.0/src/learner.cc:1061: Starting in XGBoost 1.3.0, the default evaluation metric used with the objective 'binary:logistic' was changed from 'error' to 'logloss'. Explicitly set eval_metric if you'd like to restore the old behavior.\n",
      "[CV]  subsample=0.9, reg_lambda=0.5, n_estimators=157, min_child_weight=5.0, max_depth=1, learning_rate=0.001, gamma=0.5, colsample_bytree=0.7, colsample_bylevel=0.9, total=   0.0s\n",
      "[CV] subsample=0.9, reg_lambda=0.5, n_estimators=157, min_child_weight=5.0, max_depth=1, learning_rate=0.001, gamma=0.5, colsample_bytree=0.7, colsample_bylevel=0.9 \n",
      "[12:08:38] WARNING: C:/Users/Administrator/workspace/xgboost-win64_release_1.3.0/src/learner.cc:1061: Starting in XGBoost 1.3.0, the default evaluation metric used with the objective 'binary:logistic' was changed from 'error' to 'logloss'. Explicitly set eval_metric if you'd like to restore the old behavior.\n",
      "[CV]  subsample=0.9, reg_lambda=0.5, n_estimators=157, min_child_weight=5.0, max_depth=1, learning_rate=0.001, gamma=0.5, colsample_bytree=0.7, colsample_bylevel=0.9, total=   0.0s\n",
      "[CV] subsample=0.6, reg_lambda=0.5, n_estimators=157, min_child_weight=3.0, max_depth=1, learning_rate=0.01, gamma=0, colsample_bytree=1.0, colsample_bylevel=1.0 \n",
      "[12:08:39] WARNING: C:/Users/Administrator/workspace/xgboost-win64_release_1.3.0/src/learner.cc:1061: Starting in XGBoost 1.3.0, the default evaluation metric used with the objective 'binary:logistic' was changed from 'error' to 'logloss'. Explicitly set eval_metric if you'd like to restore the old behavior.\n"
     ]
    },
    {
     "name": "stderr",
     "output_type": "stream",
     "text": [
      "C:\\ProgramData\\Anaconda3\\lib\\site-packages\\xgboost\\sklearn.py:888: UserWarning: The use of label encoder in XGBClassifier is deprecated and will be removed in a future release. To remove this warning, do the following: 1) Pass option use_label_encoder=False when constructing XGBClassifier object; and 2) Encode your labels (y) as integers starting with 0, i.e. 0, 1, 2, ..., [num_class - 1].\n",
      "  warnings.warn(label_encoder_deprecation_msg, UserWarning)\n",
      "C:\\ProgramData\\Anaconda3\\lib\\site-packages\\xgboost\\sklearn.py:888: UserWarning: The use of label encoder in XGBClassifier is deprecated and will be removed in a future release. To remove this warning, do the following: 1) Pass option use_label_encoder=False when constructing XGBClassifier object; and 2) Encode your labels (y) as integers starting with 0, i.e. 0, 1, 2, ..., [num_class - 1].\n",
      "  warnings.warn(label_encoder_deprecation_msg, UserWarning)\n",
      "C:\\ProgramData\\Anaconda3\\lib\\site-packages\\xgboost\\sklearn.py:888: UserWarning: The use of label encoder in XGBClassifier is deprecated and will be removed in a future release. To remove this warning, do the following: 1) Pass option use_label_encoder=False when constructing XGBClassifier object; and 2) Encode your labels (y) as integers starting with 0, i.e. 0, 1, 2, ..., [num_class - 1].\n",
      "  warnings.warn(label_encoder_deprecation_msg, UserWarning)\n"
     ]
    },
    {
     "name": "stdout",
     "output_type": "stream",
     "text": [
      "[CV]  subsample=0.6, reg_lambda=0.5, n_estimators=157, min_child_weight=3.0, max_depth=1, learning_rate=0.01, gamma=0, colsample_bytree=1.0, colsample_bylevel=1.0, total=   0.0s\n",
      "[CV] subsample=0.6, reg_lambda=0.5, n_estimators=157, min_child_weight=3.0, max_depth=1, learning_rate=0.01, gamma=0, colsample_bytree=1.0, colsample_bylevel=1.0 \n",
      "[12:08:39] WARNING: C:/Users/Administrator/workspace/xgboost-win64_release_1.3.0/src/learner.cc:1061: Starting in XGBoost 1.3.0, the default evaluation metric used with the objective 'binary:logistic' was changed from 'error' to 'logloss'. Explicitly set eval_metric if you'd like to restore the old behavior.\n",
      "[CV]  subsample=0.6, reg_lambda=0.5, n_estimators=157, min_child_weight=3.0, max_depth=1, learning_rate=0.01, gamma=0, colsample_bytree=1.0, colsample_bylevel=1.0, total=   0.0s\n",
      "[CV] subsample=0.6, reg_lambda=0.5, n_estimators=157, min_child_weight=3.0, max_depth=1, learning_rate=0.01, gamma=0, colsample_bytree=1.0, colsample_bylevel=1.0 \n",
      "[12:08:39] WARNING: C:/Users/Administrator/workspace/xgboost-win64_release_1.3.0/src/learner.cc:1061: Starting in XGBoost 1.3.0, the default evaluation metric used with the objective 'binary:logistic' was changed from 'error' to 'logloss'. Explicitly set eval_metric if you'd like to restore the old behavior.\n",
      "[CV]  subsample=0.6, reg_lambda=0.5, n_estimators=157, min_child_weight=3.0, max_depth=1, learning_rate=0.01, gamma=0, colsample_bytree=1.0, colsample_bylevel=1.0, total=   0.0s\n",
      "[CV] subsample=0.6, reg_lambda=0.5, n_estimators=157, min_child_weight=3.0, max_depth=1, learning_rate=0.01, gamma=0, colsample_bytree=1.0, colsample_bylevel=1.0 \n",
      "[12:08:39] WARNING: C:/Users/Administrator/workspace/xgboost-win64_release_1.3.0/src/learner.cc:1061: Starting in XGBoost 1.3.0, the default evaluation metric used with the objective 'binary:logistic' was changed from 'error' to 'logloss'. Explicitly set eval_metric if you'd like to restore the old behavior.\n"
     ]
    },
    {
     "name": "stderr",
     "output_type": "stream",
     "text": [
      "C:\\ProgramData\\Anaconda3\\lib\\site-packages\\xgboost\\sklearn.py:888: UserWarning: The use of label encoder in XGBClassifier is deprecated and will be removed in a future release. To remove this warning, do the following: 1) Pass option use_label_encoder=False when constructing XGBClassifier object; and 2) Encode your labels (y) as integers starting with 0, i.e. 0, 1, 2, ..., [num_class - 1].\n",
      "  warnings.warn(label_encoder_deprecation_msg, UserWarning)\n",
      "C:\\ProgramData\\Anaconda3\\lib\\site-packages\\xgboost\\sklearn.py:888: UserWarning: The use of label encoder in XGBClassifier is deprecated and will be removed in a future release. To remove this warning, do the following: 1) Pass option use_label_encoder=False when constructing XGBClassifier object; and 2) Encode your labels (y) as integers starting with 0, i.e. 0, 1, 2, ..., [num_class - 1].\n",
      "  warnings.warn(label_encoder_deprecation_msg, UserWarning)\n",
      "C:\\ProgramData\\Anaconda3\\lib\\site-packages\\xgboost\\sklearn.py:888: UserWarning: The use of label encoder in XGBClassifier is deprecated and will be removed in a future release. To remove this warning, do the following: 1) Pass option use_label_encoder=False when constructing XGBClassifier object; and 2) Encode your labels (y) as integers starting with 0, i.e. 0, 1, 2, ..., [num_class - 1].\n",
      "  warnings.warn(label_encoder_deprecation_msg, UserWarning)\n"
     ]
    },
    {
     "name": "stdout",
     "output_type": "stream",
     "text": [
      "[CV]  subsample=0.6, reg_lambda=0.5, n_estimators=157, min_child_weight=3.0, max_depth=1, learning_rate=0.01, gamma=0, colsample_bytree=1.0, colsample_bylevel=1.0, total=   0.0s\n",
      "[CV] subsample=0.6, reg_lambda=0.5, n_estimators=157, min_child_weight=3.0, max_depth=1, learning_rate=0.01, gamma=0, colsample_bytree=1.0, colsample_bylevel=1.0 \n",
      "[12:08:39] WARNING: C:/Users/Administrator/workspace/xgboost-win64_release_1.3.0/src/learner.cc:1061: Starting in XGBoost 1.3.0, the default evaluation metric used with the objective 'binary:logistic' was changed from 'error' to 'logloss'. Explicitly set eval_metric if you'd like to restore the old behavior.\n",
      "[CV]  subsample=0.6, reg_lambda=0.5, n_estimators=157, min_child_weight=3.0, max_depth=1, learning_rate=0.01, gamma=0, colsample_bytree=1.0, colsample_bylevel=1.0, total=   0.0s\n",
      "[CV] subsample=0.7, reg_lambda=0.01, n_estimators=157, min_child_weight=7.0, max_depth=1, learning_rate=0, gamma=0.5, colsample_bytree=0.7, colsample_bylevel=0.9 \n",
      "[12:08:39] WARNING: C:/Users/Administrator/workspace/xgboost-win64_release_1.3.0/src/learner.cc:1061: Starting in XGBoost 1.3.0, the default evaluation metric used with the objective 'binary:logistic' was changed from 'error' to 'logloss'. Explicitly set eval_metric if you'd like to restore the old behavior.\n",
      "[CV]  subsample=0.7, reg_lambda=0.01, n_estimators=157, min_child_weight=7.0, max_depth=1, learning_rate=0, gamma=0.5, colsample_bytree=0.7, colsample_bylevel=0.9, total=   0.0s\n",
      "[CV] subsample=0.7, reg_lambda=0.01, n_estimators=157, min_child_weight=7.0, max_depth=1, learning_rate=0, gamma=0.5, colsample_bytree=0.7, colsample_bylevel=0.9 \n",
      "[12:08:39] WARNING: C:/Users/Administrator/workspace/xgboost-win64_release_1.3.0/src/learner.cc:1061: Starting in XGBoost 1.3.0, the default evaluation metric used with the objective 'binary:logistic' was changed from 'error' to 'logloss'. Explicitly set eval_metric if you'd like to restore the old behavior.\n"
     ]
    },
    {
     "name": "stderr",
     "output_type": "stream",
     "text": [
      "C:\\ProgramData\\Anaconda3\\lib\\site-packages\\xgboost\\sklearn.py:888: UserWarning: The use of label encoder in XGBClassifier is deprecated and will be removed in a future release. To remove this warning, do the following: 1) Pass option use_label_encoder=False when constructing XGBClassifier object; and 2) Encode your labels (y) as integers starting with 0, i.e. 0, 1, 2, ..., [num_class - 1].\n",
      "  warnings.warn(label_encoder_deprecation_msg, UserWarning)\n",
      "C:\\ProgramData\\Anaconda3\\lib\\site-packages\\xgboost\\sklearn.py:888: UserWarning: The use of label encoder in XGBClassifier is deprecated and will be removed in a future release. To remove this warning, do the following: 1) Pass option use_label_encoder=False when constructing XGBClassifier object; and 2) Encode your labels (y) as integers starting with 0, i.e. 0, 1, 2, ..., [num_class - 1].\n",
      "  warnings.warn(label_encoder_deprecation_msg, UserWarning)\n",
      "C:\\ProgramData\\Anaconda3\\lib\\site-packages\\xgboost\\sklearn.py:888: UserWarning: The use of label encoder in XGBClassifier is deprecated and will be removed in a future release. To remove this warning, do the following: 1) Pass option use_label_encoder=False when constructing XGBClassifier object; and 2) Encode your labels (y) as integers starting with 0, i.e. 0, 1, 2, ..., [num_class - 1].\n",
      "  warnings.warn(label_encoder_deprecation_msg, UserWarning)\n"
     ]
    },
    {
     "name": "stdout",
     "output_type": "stream",
     "text": [
      "[CV]  subsample=0.7, reg_lambda=0.01, n_estimators=157, min_child_weight=7.0, max_depth=1, learning_rate=0, gamma=0.5, colsample_bytree=0.7, colsample_bylevel=0.9, total=   0.0s\n",
      "[CV] subsample=0.7, reg_lambda=0.01, n_estimators=157, min_child_weight=7.0, max_depth=1, learning_rate=0, gamma=0.5, colsample_bytree=0.7, colsample_bylevel=0.9 \n",
      "[12:08:39] WARNING: C:/Users/Administrator/workspace/xgboost-win64_release_1.3.0/src/learner.cc:1061: Starting in XGBoost 1.3.0, the default evaluation metric used with the objective 'binary:logistic' was changed from 'error' to 'logloss'. Explicitly set eval_metric if you'd like to restore the old behavior.\n",
      "[CV]  subsample=0.7, reg_lambda=0.01, n_estimators=157, min_child_weight=7.0, max_depth=1, learning_rate=0, gamma=0.5, colsample_bytree=0.7, colsample_bylevel=0.9, total=   0.0s\n",
      "[CV] subsample=0.7, reg_lambda=0.01, n_estimators=157, min_child_weight=7.0, max_depth=1, learning_rate=0, gamma=0.5, colsample_bytree=0.7, colsample_bylevel=0.9 \n",
      "[12:08:39] WARNING: C:/Users/Administrator/workspace/xgboost-win64_release_1.3.0/src/learner.cc:1061: Starting in XGBoost 1.3.0, the default evaluation metric used with the objective 'binary:logistic' was changed from 'error' to 'logloss'. Explicitly set eval_metric if you'd like to restore the old behavior.\n",
      "[CV]  subsample=0.7, reg_lambda=0.01, n_estimators=157, min_child_weight=7.0, max_depth=1, learning_rate=0, gamma=0.5, colsample_bytree=0.7, colsample_bylevel=0.9, total=   0.0s\n",
      "[CV] subsample=0.7, reg_lambda=0.01, n_estimators=157, min_child_weight=7.0, max_depth=1, learning_rate=0, gamma=0.5, colsample_bytree=0.7, colsample_bylevel=0.9 \n",
      "[12:08:39] WARNING: C:/Users/Administrator/workspace/xgboost-win64_release_1.3.0/src/learner.cc:1061: Starting in XGBoost 1.3.0, the default evaluation metric used with the objective 'binary:logistic' was changed from 'error' to 'logloss'. Explicitly set eval_metric if you'd like to restore the old behavior.\n"
     ]
    },
    {
     "name": "stderr",
     "output_type": "stream",
     "text": [
      "C:\\ProgramData\\Anaconda3\\lib\\site-packages\\xgboost\\sklearn.py:888: UserWarning: The use of label encoder in XGBClassifier is deprecated and will be removed in a future release. To remove this warning, do the following: 1) Pass option use_label_encoder=False when constructing XGBClassifier object; and 2) Encode your labels (y) as integers starting with 0, i.e. 0, 1, 2, ..., [num_class - 1].\n",
      "  warnings.warn(label_encoder_deprecation_msg, UserWarning)\n",
      "C:\\ProgramData\\Anaconda3\\lib\\site-packages\\xgboost\\sklearn.py:888: UserWarning: The use of label encoder in XGBClassifier is deprecated and will be removed in a future release. To remove this warning, do the following: 1) Pass option use_label_encoder=False when constructing XGBClassifier object; and 2) Encode your labels (y) as integers starting with 0, i.e. 0, 1, 2, ..., [num_class - 1].\n",
      "  warnings.warn(label_encoder_deprecation_msg, UserWarning)\n",
      "C:\\ProgramData\\Anaconda3\\lib\\site-packages\\xgboost\\sklearn.py:888: UserWarning: The use of label encoder in XGBClassifier is deprecated and will be removed in a future release. To remove this warning, do the following: 1) Pass option use_label_encoder=False when constructing XGBClassifier object; and 2) Encode your labels (y) as integers starting with 0, i.e. 0, 1, 2, ..., [num_class - 1].\n",
      "  warnings.warn(label_encoder_deprecation_msg, UserWarning)\n"
     ]
    },
    {
     "name": "stdout",
     "output_type": "stream",
     "text": [
      "[CV]  subsample=0.7, reg_lambda=0.01, n_estimators=157, min_child_weight=7.0, max_depth=1, learning_rate=0, gamma=0.5, colsample_bytree=0.7, colsample_bylevel=0.9, total=   0.0s\n",
      "[CV] subsample=0.5, reg_lambda=0.05, n_estimators=178, min_child_weight=7.0, max_depth=1, learning_rate=0.2, gamma=1.0, colsample_bytree=0.9, colsample_bylevel=0.9 \n",
      "[12:08:39] WARNING: C:/Users/Administrator/workspace/xgboost-win64_release_1.3.0/src/learner.cc:1061: Starting in XGBoost 1.3.0, the default evaluation metric used with the objective 'binary:logistic' was changed from 'error' to 'logloss'. Explicitly set eval_metric if you'd like to restore the old behavior.\n",
      "[CV]  subsample=0.5, reg_lambda=0.05, n_estimators=178, min_child_weight=7.0, max_depth=1, learning_rate=0.2, gamma=1.0, colsample_bytree=0.9, colsample_bylevel=0.9, total=   0.0s\n",
      "[CV] subsample=0.5, reg_lambda=0.05, n_estimators=178, min_child_weight=7.0, max_depth=1, learning_rate=0.2, gamma=1.0, colsample_bytree=0.9, colsample_bylevel=0.9 \n",
      "[12:08:39] WARNING: C:/Users/Administrator/workspace/xgboost-win64_release_1.3.0/src/learner.cc:1061: Starting in XGBoost 1.3.0, the default evaluation metric used with the objective 'binary:logistic' was changed from 'error' to 'logloss'. Explicitly set eval_metric if you'd like to restore the old behavior.\n",
      "[CV]  subsample=0.5, reg_lambda=0.05, n_estimators=178, min_child_weight=7.0, max_depth=1, learning_rate=0.2, gamma=1.0, colsample_bytree=0.9, colsample_bylevel=0.9, total=   0.0s\n",
      "[CV] subsample=0.5, reg_lambda=0.05, n_estimators=178, min_child_weight=7.0, max_depth=1, learning_rate=0.2, gamma=1.0, colsample_bytree=0.9, colsample_bylevel=0.9 \n",
      "[12:08:40] WARNING: C:/Users/Administrator/workspace/xgboost-win64_release_1.3.0/src/learner.cc:1061: Starting in XGBoost 1.3.0, the default evaluation metric used with the objective 'binary:logistic' was changed from 'error' to 'logloss'. Explicitly set eval_metric if you'd like to restore the old behavior."
     ]
    },
    {
     "name": "stderr",
     "output_type": "stream",
     "text": [
      "C:\\ProgramData\\Anaconda3\\lib\\site-packages\\xgboost\\sklearn.py:888: UserWarning: The use of label encoder in XGBClassifier is deprecated and will be removed in a future release. To remove this warning, do the following: 1) Pass option use_label_encoder=False when constructing XGBClassifier object; and 2) Encode your labels (y) as integers starting with 0, i.e. 0, 1, 2, ..., [num_class - 1].\n",
      "  warnings.warn(label_encoder_deprecation_msg, UserWarning)\n",
      "C:\\ProgramData\\Anaconda3\\lib\\site-packages\\xgboost\\sklearn.py:888: UserWarning: The use of label encoder in XGBClassifier is deprecated and will be removed in a future release. To remove this warning, do the following: 1) Pass option use_label_encoder=False when constructing XGBClassifier object; and 2) Encode your labels (y) as integers starting with 0, i.e. 0, 1, 2, ..., [num_class - 1].\n",
      "  warnings.warn(label_encoder_deprecation_msg, UserWarning)\n",
      "C:\\ProgramData\\Anaconda3\\lib\\site-packages\\xgboost\\sklearn.py:888: UserWarning: The use of label encoder in XGBClassifier is deprecated and will be removed in a future release. To remove this warning, do the following: 1) Pass option use_label_encoder=False when constructing XGBClassifier object; and 2) Encode your labels (y) as integers starting with 0, i.e. 0, 1, 2, ..., [num_class - 1].\n",
      "  warnings.warn(label_encoder_deprecation_msg, UserWarning)\n"
     ]
    },
    {
     "name": "stdout",
     "output_type": "stream",
     "text": [
      "\n",
      "[CV]  subsample=0.5, reg_lambda=0.05, n_estimators=178, min_child_weight=7.0, max_depth=1, learning_rate=0.2, gamma=1.0, colsample_bytree=0.9, colsample_bylevel=0.9, total=   0.0s\n",
      "[CV] subsample=0.5, reg_lambda=0.05, n_estimators=178, min_child_weight=7.0, max_depth=1, learning_rate=0.2, gamma=1.0, colsample_bytree=0.9, colsample_bylevel=0.9 \n",
      "[12:08:40] WARNING: C:/Users/Administrator/workspace/xgboost-win64_release_1.3.0/src/learner.cc:1061: Starting in XGBoost 1.3.0, the default evaluation metric used with the objective 'binary:logistic' was changed from 'error' to 'logloss'. Explicitly set eval_metric if you'd like to restore the old behavior.\n",
      "[CV]  subsample=0.5, reg_lambda=0.05, n_estimators=178, min_child_weight=7.0, max_depth=1, learning_rate=0.2, gamma=1.0, colsample_bytree=0.9, colsample_bylevel=0.9, total=   0.0s\n",
      "[CV] subsample=0.5, reg_lambda=0.05, n_estimators=178, min_child_weight=7.0, max_depth=1, learning_rate=0.2, gamma=1.0, colsample_bytree=0.9, colsample_bylevel=0.9 \n"
     ]
    },
    {
     "name": "stderr",
     "output_type": "stream",
     "text": [
      "C:\\ProgramData\\Anaconda3\\lib\\site-packages\\xgboost\\sklearn.py:888: UserWarning: The use of label encoder in XGBClassifier is deprecated and will be removed in a future release. To remove this warning, do the following: 1) Pass option use_label_encoder=False when constructing XGBClassifier object; and 2) Encode your labels (y) as integers starting with 0, i.e. 0, 1, 2, ..., [num_class - 1].\n",
      "  warnings.warn(label_encoder_deprecation_msg, UserWarning)\n",
      "C:\\ProgramData\\Anaconda3\\lib\\site-packages\\xgboost\\sklearn.py:888: UserWarning: The use of label encoder in XGBClassifier is deprecated and will be removed in a future release. To remove this warning, do the following: 1) Pass option use_label_encoder=False when constructing XGBClassifier object; and 2) Encode your labels (y) as integers starting with 0, i.e. 0, 1, 2, ..., [num_class - 1].\n",
      "  warnings.warn(label_encoder_deprecation_msg, UserWarning)\n",
      "C:\\ProgramData\\Anaconda3\\lib\\site-packages\\xgboost\\sklearn.py:888: UserWarning: The use of label encoder in XGBClassifier is deprecated and will be removed in a future release. To remove this warning, do the following: 1) Pass option use_label_encoder=False when constructing XGBClassifier object; and 2) Encode your labels (y) as integers starting with 0, i.e. 0, 1, 2, ..., [num_class - 1].\n",
      "  warnings.warn(label_encoder_deprecation_msg, UserWarning)\n"
     ]
    },
    {
     "name": "stdout",
     "output_type": "stream",
     "text": [
      "[12:08:40] WARNING: C:/Users/Administrator/workspace/xgboost-win64_release_1.3.0/src/learner.cc:1061: Starting in XGBoost 1.3.0, the default evaluation metric used with the objective 'binary:logistic' was changed from 'error' to 'logloss'. Explicitly set eval_metric if you'd like to restore the old behavior.\n",
      "[CV]  subsample=0.5, reg_lambda=0.05, n_estimators=178, min_child_weight=7.0, max_depth=1, learning_rate=0.2, gamma=1.0, colsample_bytree=0.9, colsample_bylevel=0.9, total=   0.0s\n",
      "[CV] subsample=1.0, reg_lambda=0.1, n_estimators=178, min_child_weight=1.0, max_depth=1, learning_rate=0.2, gamma=0.25, colsample_bytree=0.5, colsample_bylevel=0.8 \n",
      "[12:08:40] WARNING: C:/Users/Administrator/workspace/xgboost-win64_release_1.3.0/src/learner.cc:1061: Starting in XGBoost 1.3.0, the default evaluation metric used with the objective 'binary:logistic' was changed from 'error' to 'logloss'. Explicitly set eval_metric if you'd like to restore the old behavior.\n",
      "[CV]  subsample=1.0, reg_lambda=0.1, n_estimators=178, min_child_weight=1.0, max_depth=1, learning_rate=0.2, gamma=0.25, colsample_bytree=0.5, colsample_bylevel=0.8, total=   0.0s\n",
      "[CV] subsample=1.0, reg_lambda=0.1, n_estimators=178, min_child_weight=1.0, max_depth=1, learning_rate=0.2, gamma=0.25, colsample_bytree=0.5, colsample_bylevel=0.8 \n",
      "[12:08:40] WARNING: C:/Users/Administrator/workspace/xgboost-win64_release_1.3.0/src/learner.cc:1061: Starting in XGBoost 1.3.0, the default evaluation metric used with the objective 'binary:logistic' was changed from 'error' to 'logloss'. Explicitly set eval_metric if you'd like to restore the old behavior.\n"
     ]
    },
    {
     "name": "stderr",
     "output_type": "stream",
     "text": [
      "C:\\ProgramData\\Anaconda3\\lib\\site-packages\\xgboost\\sklearn.py:888: UserWarning: The use of label encoder in XGBClassifier is deprecated and will be removed in a future release. To remove this warning, do the following: 1) Pass option use_label_encoder=False when constructing XGBClassifier object; and 2) Encode your labels (y) as integers starting with 0, i.e. 0, 1, 2, ..., [num_class - 1].\n",
      "  warnings.warn(label_encoder_deprecation_msg, UserWarning)\n",
      "C:\\ProgramData\\Anaconda3\\lib\\site-packages\\xgboost\\sklearn.py:888: UserWarning: The use of label encoder in XGBClassifier is deprecated and will be removed in a future release. To remove this warning, do the following: 1) Pass option use_label_encoder=False when constructing XGBClassifier object; and 2) Encode your labels (y) as integers starting with 0, i.e. 0, 1, 2, ..., [num_class - 1].\n",
      "  warnings.warn(label_encoder_deprecation_msg, UserWarning)\n",
      "C:\\ProgramData\\Anaconda3\\lib\\site-packages\\xgboost\\sklearn.py:888: UserWarning: The use of label encoder in XGBClassifier is deprecated and will be removed in a future release. To remove this warning, do the following: 1) Pass option use_label_encoder=False when constructing XGBClassifier object; and 2) Encode your labels (y) as integers starting with 0, i.e. 0, 1, 2, ..., [num_class - 1].\n",
      "  warnings.warn(label_encoder_deprecation_msg, UserWarning)\n"
     ]
    },
    {
     "name": "stdout",
     "output_type": "stream",
     "text": [
      "[CV]  subsample=1.0, reg_lambda=0.1, n_estimators=178, min_child_weight=1.0, max_depth=1, learning_rate=0.2, gamma=0.25, colsample_bytree=0.5, colsample_bylevel=0.8, total=   0.0s\n",
      "[CV] subsample=1.0, reg_lambda=0.1, n_estimators=178, min_child_weight=1.0, max_depth=1, learning_rate=0.2, gamma=0.25, colsample_bytree=0.5, colsample_bylevel=0.8 \n",
      "[12:08:40] WARNING: C:/Users/Administrator/workspace/xgboost-win64_release_1.3.0/src/learner.cc:1061: Starting in XGBoost 1.3.0, the default evaluation metric used with the objective 'binary:logistic' was changed from 'error' to 'logloss'. Explicitly set eval_metric if you'd like to restore the old behavior.\n",
      "[CV]  subsample=1.0, reg_lambda=0.1, n_estimators=178, min_child_weight=1.0, max_depth=1, learning_rate=0.2, gamma=0.25, colsample_bytree=0.5, colsample_bylevel=0.8, total=   0.0s\n",
      "[CV] subsample=1.0, reg_lambda=0.1, n_estimators=178, min_child_weight=1.0, max_depth=1, learning_rate=0.2, gamma=0.25, colsample_bytree=0.5, colsample_bylevel=0.8 \n",
      "[12:08:40] WARNING: C:/Users/Administrator/workspace/xgboost-win64_release_1.3.0/src/learner.cc:1061: Starting in XGBoost 1.3.0, the default evaluation metric used with the objective 'binary:logistic' was changed from 'error' to 'logloss'. Explicitly set eval_metric if you'd like to restore the old behavior.\n",
      "[CV]  subsample=1.0, reg_lambda=0.1, n_estimators=178, min_child_weight=1.0, max_depth=1, learning_rate=0.2, gamma=0.25, colsample_bytree=0.5, colsample_bylevel=0.8, total=   0.0s\n",
      "[CV] subsample=1.0, reg_lambda=0.1, n_estimators=178, min_child_weight=1.0, max_depth=1, learning_rate=0.2, gamma=0.25, colsample_bytree=0.5, colsample_bylevel=0.8 \n",
      "[12:08:40] WARNING: C:/Users/Administrator/workspace/xgboost-win64_release_1.3.0/src/learner.cc:1061: Starting in XGBoost 1.3.0, the default evaluation metric used with the objective 'binary:logistic' was changed from 'error' to 'logloss'. Explicitly set eval_metric if you'd like to restore the old behavior.\n"
     ]
    },
    {
     "name": "stderr",
     "output_type": "stream",
     "text": [
      "C:\\ProgramData\\Anaconda3\\lib\\site-packages\\xgboost\\sklearn.py:888: UserWarning: The use of label encoder in XGBClassifier is deprecated and will be removed in a future release. To remove this warning, do the following: 1) Pass option use_label_encoder=False when constructing XGBClassifier object; and 2) Encode your labels (y) as integers starting with 0, i.e. 0, 1, 2, ..., [num_class - 1].\n",
      "  warnings.warn(label_encoder_deprecation_msg, UserWarning)\n",
      "C:\\ProgramData\\Anaconda3\\lib\\site-packages\\xgboost\\sklearn.py:888: UserWarning: The use of label encoder in XGBClassifier is deprecated and will be removed in a future release. To remove this warning, do the following: 1) Pass option use_label_encoder=False when constructing XGBClassifier object; and 2) Encode your labels (y) as integers starting with 0, i.e. 0, 1, 2, ..., [num_class - 1].\n",
      "  warnings.warn(label_encoder_deprecation_msg, UserWarning)\n",
      "C:\\ProgramData\\Anaconda3\\lib\\site-packages\\xgboost\\sklearn.py:888: UserWarning: The use of label encoder in XGBClassifier is deprecated and will be removed in a future release. To remove this warning, do the following: 1) Pass option use_label_encoder=False when constructing XGBClassifier object; and 2) Encode your labels (y) as integers starting with 0, i.e. 0, 1, 2, ..., [num_class - 1].\n",
      "  warnings.warn(label_encoder_deprecation_msg, UserWarning)\n"
     ]
    },
    {
     "name": "stdout",
     "output_type": "stream",
     "text": [
      "[CV]  subsample=1.0, reg_lambda=0.1, n_estimators=178, min_child_weight=1.0, max_depth=1, learning_rate=0.2, gamma=0.25, colsample_bytree=0.5, colsample_bylevel=0.8, total=   0.0s\n",
      "[CV] subsample=0.7, reg_lambda=0.5, n_estimators=136, min_child_weight=10.0, max_depth=1, learning_rate=0.2, gamma=1.0, colsample_bytree=0.5, colsample_bylevel=0.4 \n",
      "[12:08:40] WARNING: C:/Users/Administrator/workspace/xgboost-win64_release_1.3.0/src/learner.cc:1061: Starting in XGBoost 1.3.0, the default evaluation metric used with the objective 'binary:logistic' was changed from 'error' to 'logloss'. Explicitly set eval_metric if you'd like to restore the old behavior.\n",
      "[CV]  subsample=0.7, reg_lambda=0.5, n_estimators=136, min_child_weight=10.0, max_depth=1, learning_rate=0.2, gamma=1.0, colsample_bytree=0.5, colsample_bylevel=0.4, total=   0.0s\n",
      "[CV] subsample=0.7, reg_lambda=0.5, n_estimators=136, min_child_weight=10.0, max_depth=1, learning_rate=0.2, gamma=1.0, colsample_bytree=0.5, colsample_bylevel=0.4 \n",
      "[12:08:40] WARNING: C:/Users/Administrator/workspace/xgboost-win64_release_1.3.0/src/learner.cc:1061: Starting in XGBoost 1.3.0, the default evaluation metric used with the objective 'binary:logistic' was changed from 'error' to 'logloss'. Explicitly set eval_metric if you'd like to restore the old behavior.\n",
      "[CV]  subsample=0.7, reg_lambda=0.5, n_estimators=136, min_child_weight=10.0, max_depth=1, learning_rate=0.2, gamma=1.0, colsample_bytree=0.5, colsample_bylevel=0.4, total=   0.0s\n",
      "[CV] subsample=0.7, reg_lambda=0.5, n_estimators=136, min_child_weight=10.0, max_depth=1, learning_rate=0.2, gamma=1.0, colsample_bytree=0.5, colsample_bylevel=0.4 \n",
      "[12:08:40] WARNING: C:/Users/Administrator/workspace/xgboost-win64_release_1.3.0/src/learner.cc:1061: Starting in XGBoost 1.3.0, the default evaluation metric used with the objective 'binary:logistic' was changed from 'error' to 'logloss'. Explicitly set eval_metric if you'd like to restore the old behavior.\n"
     ]
    },
    {
     "name": "stderr",
     "output_type": "stream",
     "text": [
      "C:\\ProgramData\\Anaconda3\\lib\\site-packages\\xgboost\\sklearn.py:888: UserWarning: The use of label encoder in XGBClassifier is deprecated and will be removed in a future release. To remove this warning, do the following: 1) Pass option use_label_encoder=False when constructing XGBClassifier object; and 2) Encode your labels (y) as integers starting with 0, i.e. 0, 1, 2, ..., [num_class - 1].\n",
      "  warnings.warn(label_encoder_deprecation_msg, UserWarning)\n",
      "C:\\ProgramData\\Anaconda3\\lib\\site-packages\\xgboost\\sklearn.py:888: UserWarning: The use of label encoder in XGBClassifier is deprecated and will be removed in a future release. To remove this warning, do the following: 1) Pass option use_label_encoder=False when constructing XGBClassifier object; and 2) Encode your labels (y) as integers starting with 0, i.e. 0, 1, 2, ..., [num_class - 1].\n",
      "  warnings.warn(label_encoder_deprecation_msg, UserWarning)\n",
      "C:\\ProgramData\\Anaconda3\\lib\\site-packages\\xgboost\\sklearn.py:888: UserWarning: The use of label encoder in XGBClassifier is deprecated and will be removed in a future release. To remove this warning, do the following: 1) Pass option use_label_encoder=False when constructing XGBClassifier object; and 2) Encode your labels (y) as integers starting with 0, i.e. 0, 1, 2, ..., [num_class - 1].\n",
      "  warnings.warn(label_encoder_deprecation_msg, UserWarning)\n"
     ]
    },
    {
     "name": "stdout",
     "output_type": "stream",
     "text": [
      "[CV]  subsample=0.7, reg_lambda=0.5, n_estimators=136, min_child_weight=10.0, max_depth=1, learning_rate=0.2, gamma=1.0, colsample_bytree=0.5, colsample_bylevel=0.4, total=   0.0s\n",
      "[CV] subsample=0.7, reg_lambda=0.5, n_estimators=136, min_child_weight=10.0, max_depth=1, learning_rate=0.2, gamma=1.0, colsample_bytree=0.5, colsample_bylevel=0.4 \n",
      "[12:08:40] WARNING: C:/Users/Administrator/workspace/xgboost-win64_release_1.3.0/src/learner.cc:1061: Starting in XGBoost 1.3.0, the default evaluation metric used with the objective 'binary:logistic' was changed from 'error' to 'logloss'. Explicitly set eval_metric if you'd like to restore the old behavior.\n",
      "[CV]  subsample=0.7, reg_lambda=0.5, n_estimators=136, min_child_weight=10.0, max_depth=1, learning_rate=0.2, gamma=1.0, colsample_bytree=0.5, colsample_bylevel=0.4, total=   0.0s\n",
      "[CV] subsample=0.7, reg_lambda=0.5, n_estimators=136, min_child_weight=10.0, max_depth=1, learning_rate=0.2, gamma=1.0, colsample_bytree=0.5, colsample_bylevel=0.4 \n",
      "[12:08:40] WARNING: C:/Users/Administrator/workspace/xgboost-win64_release_1.3.0/src/learner.cc:1061: Starting in XGBoost 1.3.0, the default evaluation metric used with the objective 'binary:logistic' was changed from 'error' to 'logloss'. Explicitly set eval_metric if you'd like to restore the old behavior.\n",
      "[CV]  subsample=0.7, reg_lambda=0.5, n_estimators=136, min_child_weight=10.0, max_depth=1, learning_rate=0.2, gamma=1.0, colsample_bytree=0.5, colsample_bylevel=0.4, total=   0.0s\n",
      "[CV] subsample=0.7, reg_lambda=0.1, n_estimators=94, min_child_weight=0.5, max_depth=1, learning_rate=3, gamma=0.5, colsample_bytree=0.9, colsample_bylevel=0.5 \n",
      "[12:08:41] WARNING: C:/Users/Administrator/workspace/xgboost-win64_release_1.3.0/src/learner.cc:1061: Starting in XGBoost 1.3.0, the default evaluation metric used with the objective 'binary:logistic' was changed from 'error' to 'logloss'. Explicitly set eval_metric if you'd like to restore the old behavior.\n"
     ]
    },
    {
     "name": "stderr",
     "output_type": "stream",
     "text": [
      "C:\\ProgramData\\Anaconda3\\lib\\site-packages\\xgboost\\sklearn.py:888: UserWarning: The use of label encoder in XGBClassifier is deprecated and will be removed in a future release. To remove this warning, do the following: 1) Pass option use_label_encoder=False when constructing XGBClassifier object; and 2) Encode your labels (y) as integers starting with 0, i.e. 0, 1, 2, ..., [num_class - 1].\n",
      "  warnings.warn(label_encoder_deprecation_msg, UserWarning)\n",
      "C:\\ProgramData\\Anaconda3\\lib\\site-packages\\xgboost\\sklearn.py:888: UserWarning: The use of label encoder in XGBClassifier is deprecated and will be removed in a future release. To remove this warning, do the following: 1) Pass option use_label_encoder=False when constructing XGBClassifier object; and 2) Encode your labels (y) as integers starting with 0, i.e. 0, 1, 2, ..., [num_class - 1].\n",
      "  warnings.warn(label_encoder_deprecation_msg, UserWarning)\n",
      "C:\\ProgramData\\Anaconda3\\lib\\site-packages\\xgboost\\sklearn.py:888: UserWarning: The use of label encoder in XGBClassifier is deprecated and will be removed in a future release. To remove this warning, do the following: 1) Pass option use_label_encoder=False when constructing XGBClassifier object; and 2) Encode your labels (y) as integers starting with 0, i.e. 0, 1, 2, ..., [num_class - 1].\n",
      "  warnings.warn(label_encoder_deprecation_msg, UserWarning)\n",
      "C:\\ProgramData\\Anaconda3\\lib\\site-packages\\xgboost\\sklearn.py:888: UserWarning: The use of label encoder in XGBClassifier is deprecated and will be removed in a future release. To remove this warning, do the following: 1) Pass option use_label_encoder=False when constructing XGBClassifier object; and 2) Encode your labels (y) as integers starting with 0, i.e. 0, 1, 2, ..., [num_class - 1].\n",
      "  warnings.warn(label_encoder_deprecation_msg, UserWarning)\n"
     ]
    },
    {
     "name": "stdout",
     "output_type": "stream",
     "text": [
      "[CV]  subsample=0.7, reg_lambda=0.1, n_estimators=94, min_child_weight=0.5, max_depth=1, learning_rate=3, gamma=0.5, colsample_bytree=0.9, colsample_bylevel=0.5, total=   0.0s\n",
      "[CV] subsample=0.7, reg_lambda=0.1, n_estimators=94, min_child_weight=0.5, max_depth=1, learning_rate=3, gamma=0.5, colsample_bytree=0.9, colsample_bylevel=0.5 \n",
      "[12:08:41] WARNING: C:/Users/Administrator/workspace/xgboost-win64_release_1.3.0/src/learner.cc:1061: Starting in XGBoost 1.3.0, the default evaluation metric used with the objective 'binary:logistic' was changed from 'error' to 'logloss'. Explicitly set eval_metric if you'd like to restore the old behavior.\n",
      "[CV]  subsample=0.7, reg_lambda=0.1, n_estimators=94, min_child_weight=0.5, max_depth=1, learning_rate=3, gamma=0.5, colsample_bytree=0.9, colsample_bylevel=0.5, total=   0.0s\n",
      "[CV] subsample=0.7, reg_lambda=0.1, n_estimators=94, min_child_weight=0.5, max_depth=1, learning_rate=3, gamma=0.5, colsample_bytree=0.9, colsample_bylevel=0.5 \n",
      "[12:08:41] WARNING: C:/Users/Administrator/workspace/xgboost-win64_release_1.3.0/src/learner.cc:1061: Starting in XGBoost 1.3.0, the default evaluation metric used with the objective 'binary:logistic' was changed from 'error' to 'logloss'. Explicitly set eval_metric if you'd like to restore the old behavior.\n",
      "[CV]  subsample=0.7, reg_lambda=0.1, n_estimators=94, min_child_weight=0.5, max_depth=1, learning_rate=3, gamma=0.5, colsample_bytree=0.9, colsample_bylevel=0.5, total=   0.0s\n",
      "[CV] subsample=0.7, reg_lambda=0.1, n_estimators=94, min_child_weight=0.5, max_depth=1, learning_rate=3, gamma=0.5, colsample_bytree=0.9, colsample_bylevel=0.5 \n",
      "[12:08:41] WARNING: C:/Users/Administrator/workspace/xgboost-win64_release_1.3.0/src/learner.cc:1061: Starting in XGBoost 1.3.0, the default evaluation metric used with the objective 'binary:logistic' was changed from 'error' to 'logloss'. Explicitly set eval_metric if you'd like to restore the old behavior.\n",
      "[CV]  subsample=0.7, reg_lambda=0.1, n_estimators=94, min_child_weight=0.5, max_depth=1, learning_rate=3, gamma=0.5, colsample_bytree=0.9, colsample_bylevel=0.5, total=   0.0s\n",
      "[CV] subsample=0.7, reg_lambda=0.1, n_estimators=94, min_child_weight=0.5, max_depth=1, learning_rate=3, gamma=0.5, colsample_bytree=0.9, colsample_bylevel=0.5 \n",
      "[12:08:41] WARNING: C:/Users/Administrator/workspace/xgboost-win64_release_1.3.0/src/learner.cc:1061: Starting in XGBoost 1.3.0, the default evaluation metric used with the objective 'binary:logistic' was changed from 'error' to 'logloss'. Explicitly set eval_metric if you'd like to restore the old behavior.\n",
      "[CV]  subsample=0.7, reg_lambda=0.1, n_estimators=94, min_child_weight=0.5, max_depth=1, learning_rate=3, gamma=0.5, colsample_bytree=0.9, colsample_bylevel=0.5, total=   0.0s"
     ]
    },
    {
     "name": "stderr",
     "output_type": "stream",
     "text": [
      "C:\\ProgramData\\Anaconda3\\lib\\site-packages\\xgboost\\sklearn.py:888: UserWarning: The use of label encoder in XGBClassifier is deprecated and will be removed in a future release. To remove this warning, do the following: 1) Pass option use_label_encoder=False when constructing XGBClassifier object; and 2) Encode your labels (y) as integers starting with 0, i.e. 0, 1, 2, ..., [num_class - 1].\n",
      "  warnings.warn(label_encoder_deprecation_msg, UserWarning)\n",
      "C:\\ProgramData\\Anaconda3\\lib\\site-packages\\xgboost\\sklearn.py:888: UserWarning: The use of label encoder in XGBClassifier is deprecated and will be removed in a future release. To remove this warning, do the following: 1) Pass option use_label_encoder=False when constructing XGBClassifier object; and 2) Encode your labels (y) as integers starting with 0, i.e. 0, 1, 2, ..., [num_class - 1].\n",
      "  warnings.warn(label_encoder_deprecation_msg, UserWarning)\n",
      "C:\\ProgramData\\Anaconda3\\lib\\site-packages\\xgboost\\sklearn.py:888: UserWarning: The use of label encoder in XGBClassifier is deprecated and will be removed in a future release. To remove this warning, do the following: 1) Pass option use_label_encoder=False when constructing XGBClassifier object; and 2) Encode your labels (y) as integers starting with 0, i.e. 0, 1, 2, ..., [num_class - 1].\n",
      "  warnings.warn(label_encoder_deprecation_msg, UserWarning)\n",
      "C:\\ProgramData\\Anaconda3\\lib\\site-packages\\xgboost\\sklearn.py:888: UserWarning: The use of label encoder in XGBClassifier is deprecated and will be removed in a future release. To remove this warning, do the following: 1) Pass option use_label_encoder=False when constructing XGBClassifier object; and 2) Encode your labels (y) as integers starting with 0, i.e. 0, 1, 2, ..., [num_class - 1].\n",
      "  warnings.warn(label_encoder_deprecation_msg, UserWarning)\n",
      "C:\\ProgramData\\Anaconda3\\lib\\site-packages\\xgboost\\sklearn.py:888: UserWarning: The use of label encoder in XGBClassifier is deprecated and will be removed in a future release. To remove this warning, do the following: 1) Pass option use_label_encoder=False when constructing XGBClassifier object; and 2) Encode your labels (y) as integers starting with 0, i.e. 0, 1, 2, ..., [num_class - 1].\n",
      "  warnings.warn(label_encoder_deprecation_msg, UserWarning)\n"
     ]
    },
    {
     "name": "stdout",
     "output_type": "stream",
     "text": [
      "\n",
      "[CV] subsample=0.4, reg_lambda=0.05, n_estimators=52, min_child_weight=0.5, max_depth=1, learning_rate=0.01, gamma=1.0, colsample_bytree=0.7, colsample_bylevel=0.9 \n",
      "[12:08:41] WARNING: C:/Users/Administrator/workspace/xgboost-win64_release_1.3.0/src/learner.cc:1061: Starting in XGBoost 1.3.0, the default evaluation metric used with the objective 'binary:logistic' was changed from 'error' to 'logloss'. Explicitly set eval_metric if you'd like to restore the old behavior.\n",
      "[CV]  subsample=0.4, reg_lambda=0.05, n_estimators=52, min_child_weight=0.5, max_depth=1, learning_rate=0.01, gamma=1.0, colsample_bytree=0.7, colsample_bylevel=0.9, total=   0.0s\n",
      "[CV] subsample=0.4, reg_lambda=0.05, n_estimators=52, min_child_weight=0.5, max_depth=1, learning_rate=0.01, gamma=1.0, colsample_bytree=0.7, colsample_bylevel=0.9 \n",
      "[12:08:41] WARNING: C:/Users/Administrator/workspace/xgboost-win64_release_1.3.0/src/learner.cc:1061: Starting in XGBoost 1.3.0, the default evaluation metric used with the objective 'binary:logistic' was changed from 'error' to 'logloss'. Explicitly set eval_metric if you'd like to restore the old behavior.\n",
      "[CV]  subsample=0.4, reg_lambda=0.05, n_estimators=52, min_child_weight=0.5, max_depth=1, learning_rate=0.01, gamma=1.0, colsample_bytree=0.7, colsample_bylevel=0.9, total=   0.0s\n",
      "[CV] subsample=0.4, reg_lambda=0.05, n_estimators=52, min_child_weight=0.5, max_depth=1, learning_rate=0.01, gamma=1.0, colsample_bytree=0.7, colsample_bylevel=0.9 \n",
      "[12:08:41] WARNING: C:/Users/Administrator/workspace/xgboost-win64_release_1.3.0/src/learner.cc:1061: Starting in XGBoost 1.3.0, the default evaluation metric used with the objective 'binary:logistic' was changed from 'error' to 'logloss'. Explicitly set eval_metric if you'd like to restore the old behavior.\n",
      "[CV]  subsample=0.4, reg_lambda=0.05, n_estimators=52, min_child_weight=0.5, max_depth=1, learning_rate=0.01, gamma=1.0, colsample_bytree=0.7, colsample_bylevel=0.9, total=   0.0s\n",
      "[CV] subsample=0.4, reg_lambda=0.05, n_estimators=52, min_child_weight=0.5, max_depth=1, learning_rate=0.01, gamma=1.0, colsample_bytree=0.7, colsample_bylevel=0.9 \n",
      "[12:08:41] WARNING: C:/Users/Administrator/workspace/xgboost-win64_release_1.3.0/src/learner.cc:1061: Starting in XGBoost 1.3.0, the default evaluation metric used with the objective 'binary:logistic' was changed from 'error' to 'logloss'. Explicitly set eval_metric if you'd like to restore the old behavior.\n",
      "[CV]  subsample=0.4, reg_lambda=0.05, n_estimators=52, min_child_weight=0.5, max_depth=1, learning_rate=0.01, gamma=1.0, colsample_bytree=0.7, colsample_bylevel=0.9, total=   0.0s\n",
      "[CV] subsample=0.4, reg_lambda=0.05, n_estimators=52, min_child_weight=0.5, max_depth=1, learning_rate=0.01, gamma=1.0, colsample_bytree=0.7, colsample_bylevel=0.9 \n",
      "[12:08:41] WARNING: C:/Users/Administrator/workspace/xgboost-win64_release_1.3.0/src/learner.cc:1061: Starting in XGBoost 1.3.0, the default evaluation metric used with the objective 'binary:logistic' was changed from 'error' to 'logloss'. Explicitly set eval_metric if you'd like to restore the old behavior.\n",
      "[CV]  subsample=0.4, reg_lambda=0.05, n_estimators=52, min_child_weight=0.5, max_depth=1, learning_rate=0.01, gamma=1.0, colsample_bytree=0.7, colsample_bylevel=0.9, total=   0.0s"
     ]
    },
    {
     "name": "stderr",
     "output_type": "stream",
     "text": [
      "C:\\ProgramData\\Anaconda3\\lib\\site-packages\\xgboost\\sklearn.py:888: UserWarning: The use of label encoder in XGBClassifier is deprecated and will be removed in a future release. To remove this warning, do the following: 1) Pass option use_label_encoder=False when constructing XGBClassifier object; and 2) Encode your labels (y) as integers starting with 0, i.e. 0, 1, 2, ..., [num_class - 1].\n",
      "  warnings.warn(label_encoder_deprecation_msg, UserWarning)\n",
      "C:\\ProgramData\\Anaconda3\\lib\\site-packages\\xgboost\\sklearn.py:888: UserWarning: The use of label encoder in XGBClassifier is deprecated and will be removed in a future release. To remove this warning, do the following: 1) Pass option use_label_encoder=False when constructing XGBClassifier object; and 2) Encode your labels (y) as integers starting with 0, i.e. 0, 1, 2, ..., [num_class - 1].\n",
      "  warnings.warn(label_encoder_deprecation_msg, UserWarning)\n",
      "C:\\ProgramData\\Anaconda3\\lib\\site-packages\\xgboost\\sklearn.py:888: UserWarning: The use of label encoder in XGBClassifier is deprecated and will be removed in a future release. To remove this warning, do the following: 1) Pass option use_label_encoder=False when constructing XGBClassifier object; and 2) Encode your labels (y) as integers starting with 0, i.e. 0, 1, 2, ..., [num_class - 1].\n",
      "  warnings.warn(label_encoder_deprecation_msg, UserWarning)\n",
      "C:\\ProgramData\\Anaconda3\\lib\\site-packages\\xgboost\\sklearn.py:888: UserWarning: The use of label encoder in XGBClassifier is deprecated and will be removed in a future release. To remove this warning, do the following: 1) Pass option use_label_encoder=False when constructing XGBClassifier object; and 2) Encode your labels (y) as integers starting with 0, i.e. 0, 1, 2, ..., [num_class - 1].\n",
      "  warnings.warn(label_encoder_deprecation_msg, UserWarning)\n",
      "C:\\ProgramData\\Anaconda3\\lib\\site-packages\\xgboost\\sklearn.py:888: UserWarning: The use of label encoder in XGBClassifier is deprecated and will be removed in a future release. To remove this warning, do the following: 1) Pass option use_label_encoder=False when constructing XGBClassifier object; and 2) Encode your labels (y) as integers starting with 0, i.e. 0, 1, 2, ..., [num_class - 1].\n",
      "  warnings.warn(label_encoder_deprecation_msg, UserWarning)\n",
      "C:\\ProgramData\\Anaconda3\\lib\\site-packages\\xgboost\\sklearn.py:888: UserWarning: The use of label encoder in XGBClassifier is deprecated and will be removed in a future release. To remove this warning, do the following: 1) Pass option use_label_encoder=False when constructing XGBClassifier object; and 2) Encode your labels (y) as integers starting with 0, i.e. 0, 1, 2, ..., [num_class - 1].\n",
      "  warnings.warn(label_encoder_deprecation_msg, UserWarning)\n",
      "C:\\ProgramData\\Anaconda3\\lib\\site-packages\\xgboost\\sklearn.py:888: UserWarning: The use of label encoder in XGBClassifier is deprecated and will be removed in a future release. To remove this warning, do the following: 1) Pass option use_label_encoder=False when constructing XGBClassifier object; and 2) Encode your labels (y) as integers starting with 0, i.e. 0, 1, 2, ..., [num_class - 1].\n",
      "  warnings.warn(label_encoder_deprecation_msg, UserWarning)\n"
     ]
    },
    {
     "name": "stdout",
     "output_type": "stream",
     "text": [
      "\n",
      "[CV] subsample=0.9, reg_lambda=0.01, n_estimators=10, min_child_weight=1.0, max_depth=1, learning_rate=0.001, gamma=0.25, colsample_bytree=1.0, colsample_bylevel=0.7 \n",
      "[12:08:41] WARNING: C:/Users/Administrator/workspace/xgboost-win64_release_1.3.0/src/learner.cc:1061: Starting in XGBoost 1.3.0, the default evaluation metric used with the objective 'binary:logistic' was changed from 'error' to 'logloss'. Explicitly set eval_metric if you'd like to restore the old behavior.\n",
      "[CV]  subsample=0.9, reg_lambda=0.01, n_estimators=10, min_child_weight=1.0, max_depth=1, learning_rate=0.001, gamma=0.25, colsample_bytree=1.0, colsample_bylevel=0.7, total=   0.0s\n",
      "[CV] subsample=0.9, reg_lambda=0.01, n_estimators=10, min_child_weight=1.0, max_depth=1, learning_rate=0.001, gamma=0.25, colsample_bytree=1.0, colsample_bylevel=0.7 \n",
      "[12:08:41] WARNING: C:/Users/Administrator/workspace/xgboost-win64_release_1.3.0/src/learner.cc:1061: Starting in XGBoost 1.3.0, the default evaluation metric used with the objective 'binary:logistic' was changed from 'error' to 'logloss'. Explicitly set eval_metric if you'd like to restore the old behavior.\n",
      "[CV]  subsample=0.9, reg_lambda=0.01, n_estimators=10, min_child_weight=1.0, max_depth=1, learning_rate=0.001, gamma=0.25, colsample_bytree=1.0, colsample_bylevel=0.7, total=   0.0s\n",
      "[CV] subsample=0.9, reg_lambda=0.01, n_estimators=10, min_child_weight=1.0, max_depth=1, learning_rate=0.001, gamma=0.25, colsample_bytree=1.0, colsample_bylevel=0.7 \n",
      "[12:08:41] WARNING: C:/Users/Administrator/workspace/xgboost-win64_release_1.3.0/src/learner.cc:1061: Starting in XGBoost 1.3.0, the default evaluation metric used with the objective 'binary:logistic' was changed from 'error' to 'logloss'. Explicitly set eval_metric if you'd like to restore the old behavior.\n",
      "[CV]  subsample=0.9, reg_lambda=0.01, n_estimators=10, min_child_weight=1.0, max_depth=1, learning_rate=0.001, gamma=0.25, colsample_bytree=1.0, colsample_bylevel=0.7, total=   0.0s\n",
      "[CV] subsample=0.9, reg_lambda=0.01, n_estimators=10, min_child_weight=1.0, max_depth=1, learning_rate=0.001, gamma=0.25, colsample_bytree=1.0, colsample_bylevel=0.7 \n",
      "[12:08:41] WARNING: C:/Users/Administrator/workspace/xgboost-win64_release_1.3.0/src/learner.cc:1061: Starting in XGBoost 1.3.0, the default evaluation metric used with the objective 'binary:logistic' was changed from 'error' to 'logloss'. Explicitly set eval_metric if you'd like to restore the old behavior.\n",
      "[CV]  subsample=0.9, reg_lambda=0.01, n_estimators=10, min_child_weight=1.0, max_depth=1, learning_rate=0.001, gamma=0.25, colsample_bytree=1.0, colsample_bylevel=0.7, total=   0.0s\n",
      "[CV] subsample=0.9, reg_lambda=0.01, n_estimators=10, min_child_weight=1.0, max_depth=1, learning_rate=0.001, gamma=0.25, colsample_bytree=1.0, colsample_bylevel=0.7 \n",
      "[12:08:41] WARNING: C:/Users/Administrator/workspace/xgboost-win64_release_1.3.0/src/learner.cc:1061: Starting in XGBoost 1.3.0, the default evaluation metric used with the objective 'binary:logistic' was changed from 'error' to 'logloss'. Explicitly set eval_metric if you'd like to restore the old behavior.\n",
      "[CV]  subsample=0.9, reg_lambda=0.01, n_estimators=10, min_child_weight=1.0, max_depth=1, learning_rate=0.001, gamma=0.25, colsample_bytree=1.0, colsample_bylevel=0.7, total=   0.0s\n",
      "[CV] subsample=0.5, reg_lambda=1, n_estimators=31, min_child_weight=7.0, max_depth=1, learning_rate=0.001, gamma=1.0, colsample_bytree=1.0, colsample_bylevel=0.8 \n",
      "[12:08:41] WARNING: C:/Users/Administrator/workspace/xgboost-win64_release_1.3.0/src/learner.cc:1061: Starting in XGBoost 1.3.0, the default evaluation metric used with the objective 'binary:logistic' was changed from 'error' to 'logloss'. Explicitly set eval_metric if you'd like to restore the old behavior.\n",
      "[CV]  subsample=0.5, reg_lambda=1, n_estimators=31, min_child_weight=7.0, max_depth=1, learning_rate=0.001, gamma=1.0, colsample_bytree=1.0, colsample_bylevel=0.8, total=   0.0s\n",
      "[CV] subsample=0.5, reg_lambda=1, n_estimators=31, min_child_weight=7.0, max_depth=1, learning_rate=0.001, gamma=1.0, colsample_bytree=1.0, colsample_bylevel=0.8 \n",
      "[12:08:41] WARNING: C:/Users/Administrator/workspace/xgboost-win64_release_1.3.0/src/learner.cc:1061: Starting in XGBoost 1.3.0, the default evaluation metric used with the objective 'binary:logistic' was changed from 'error' to 'logloss'. Explicitly set eval_metric if you'd like to restore the old behavior.\n",
      "[CV]  subsample=0.5, reg_lambda=1, n_estimators=31, min_child_weight=7.0, max_depth=1, learning_rate=0.001, gamma=1.0, colsample_bytree=1.0, colsample_bylevel=0.8, total=   0.0s"
     ]
    },
    {
     "name": "stderr",
     "output_type": "stream",
     "text": [
      "C:\\ProgramData\\Anaconda3\\lib\\site-packages\\xgboost\\sklearn.py:888: UserWarning: The use of label encoder in XGBClassifier is deprecated and will be removed in a future release. To remove this warning, do the following: 1) Pass option use_label_encoder=False when constructing XGBClassifier object; and 2) Encode your labels (y) as integers starting with 0, i.e. 0, 1, 2, ..., [num_class - 1].\n",
      "  warnings.warn(label_encoder_deprecation_msg, UserWarning)\n",
      "C:\\ProgramData\\Anaconda3\\lib\\site-packages\\xgboost\\sklearn.py:888: UserWarning: The use of label encoder in XGBClassifier is deprecated and will be removed in a future release. To remove this warning, do the following: 1) Pass option use_label_encoder=False when constructing XGBClassifier object; and 2) Encode your labels (y) as integers starting with 0, i.e. 0, 1, 2, ..., [num_class - 1].\n",
      "  warnings.warn(label_encoder_deprecation_msg, UserWarning)\n",
      "C:\\ProgramData\\Anaconda3\\lib\\site-packages\\xgboost\\sklearn.py:888: UserWarning: The use of label encoder in XGBClassifier is deprecated and will be removed in a future release. To remove this warning, do the following: 1) Pass option use_label_encoder=False when constructing XGBClassifier object; and 2) Encode your labels (y) as integers starting with 0, i.e. 0, 1, 2, ..., [num_class - 1].\n",
      "  warnings.warn(label_encoder_deprecation_msg, UserWarning)\n",
      "C:\\ProgramData\\Anaconda3\\lib\\site-packages\\xgboost\\sklearn.py:888: UserWarning: The use of label encoder in XGBClassifier is deprecated and will be removed in a future release. To remove this warning, do the following: 1) Pass option use_label_encoder=False when constructing XGBClassifier object; and 2) Encode your labels (y) as integers starting with 0, i.e. 0, 1, 2, ..., [num_class - 1].\n",
      "  warnings.warn(label_encoder_deprecation_msg, UserWarning)\n",
      "C:\\ProgramData\\Anaconda3\\lib\\site-packages\\xgboost\\sklearn.py:888: UserWarning: The use of label encoder in XGBClassifier is deprecated and will be removed in a future release. To remove this warning, do the following: 1) Pass option use_label_encoder=False when constructing XGBClassifier object; and 2) Encode your labels (y) as integers starting with 0, i.e. 0, 1, 2, ..., [num_class - 1].\n",
      "  warnings.warn(label_encoder_deprecation_msg, UserWarning)\n",
      "C:\\ProgramData\\Anaconda3\\lib\\site-packages\\xgboost\\sklearn.py:888: UserWarning: The use of label encoder in XGBClassifier is deprecated and will be removed in a future release. To remove this warning, do the following: 1) Pass option use_label_encoder=False when constructing XGBClassifier object; and 2) Encode your labels (y) as integers starting with 0, i.e. 0, 1, 2, ..., [num_class - 1].\n",
      "  warnings.warn(label_encoder_deprecation_msg, UserWarning)\n"
     ]
    },
    {
     "name": "stdout",
     "output_type": "stream",
     "text": [
      "\n",
      "[CV] subsample=0.5, reg_lambda=1, n_estimators=31, min_child_weight=7.0, max_depth=1, learning_rate=0.001, gamma=1.0, colsample_bytree=1.0, colsample_bylevel=0.8 \n",
      "[12:08:41] WARNING: C:/Users/Administrator/workspace/xgboost-win64_release_1.3.0/src/learner.cc:1061: Starting in XGBoost 1.3.0, the default evaluation metric used with the objective 'binary:logistic' was changed from 'error' to 'logloss'. Explicitly set eval_metric if you'd like to restore the old behavior.\n",
      "[CV]  subsample=0.5, reg_lambda=1, n_estimators=31, min_child_weight=7.0, max_depth=1, learning_rate=0.001, gamma=1.0, colsample_bytree=1.0, colsample_bylevel=0.8, total=   0.0s\n",
      "[CV] subsample=0.5, reg_lambda=1, n_estimators=31, min_child_weight=7.0, max_depth=1, learning_rate=0.001, gamma=1.0, colsample_bytree=1.0, colsample_bylevel=0.8 \n",
      "[12:08:41] WARNING: C:/Users/Administrator/workspace/xgboost-win64_release_1.3.0/src/learner.cc:1061: Starting in XGBoost 1.3.0, the default evaluation metric used with the objective 'binary:logistic' was changed from 'error' to 'logloss'. Explicitly set eval_metric if you'd like to restore the old behavior.\n",
      "[CV]  subsample=0.5, reg_lambda=1, n_estimators=31, min_child_weight=7.0, max_depth=1, learning_rate=0.001, gamma=1.0, colsample_bytree=1.0, colsample_bylevel=0.8, total=   0.0s\n",
      "[CV] subsample=0.5, reg_lambda=1, n_estimators=31, min_child_weight=7.0, max_depth=1, learning_rate=0.001, gamma=1.0, colsample_bytree=1.0, colsample_bylevel=0.8 \n",
      "[12:08:41] WARNING: C:/Users/Administrator/workspace/xgboost-win64_release_1.3.0/src/learner.cc:1061: Starting in XGBoost 1.3.0, the default evaluation metric used with the objective 'binary:logistic' was changed from 'error' to 'logloss'. Explicitly set eval_metric if you'd like to restore the old behavior.\n",
      "[CV]  subsample=0.5, reg_lambda=1, n_estimators=31, min_child_weight=7.0, max_depth=1, learning_rate=0.001, gamma=1.0, colsample_bytree=1.0, colsample_bylevel=0.8, total=   0.0s\n",
      "[CV] subsample=0.5, reg_lambda=1, n_estimators=31, min_child_weight=3.0, max_depth=1, learning_rate=3, gamma=0.5, colsample_bytree=0.9, colsample_bylevel=0.6 \n",
      "[12:08:41] WARNING: C:/Users/Administrator/workspace/xgboost-win64_release_1.3.0/src/learner.cc:1061: Starting in XGBoost 1.3.0, the default evaluation metric used with the objective 'binary:logistic' was changed from 'error' to 'logloss'. Explicitly set eval_metric if you'd like to restore the old behavior.\n",
      "[CV]  subsample=0.5, reg_lambda=1, n_estimators=31, min_child_weight=3.0, max_depth=1, learning_rate=3, gamma=0.5, colsample_bytree=0.9, colsample_bylevel=0.6, total=   0.0s\n",
      "[CV] subsample=0.5, reg_lambda=1, n_estimators=31, min_child_weight=3.0, max_depth=1, learning_rate=3, gamma=0.5, colsample_bytree=0.9, colsample_bylevel=0.6 \n",
      "[12:08:41] WARNING: C:/Users/Administrator/workspace/xgboost-win64_release_1.3.0/src/learner.cc:1061: Starting in XGBoost 1.3.0, the default evaluation metric used with the objective 'binary:logistic' was changed from 'error' to 'logloss'. Explicitly set eval_metric if you'd like to restore the old behavior.\n",
      "[CV]  subsample=0.5, reg_lambda=1, n_estimators=31, min_child_weight=3.0, max_depth=1, learning_rate=3, gamma=0.5, colsample_bytree=0.9, colsample_bylevel=0.6, total=   0.0s\n",
      "[CV] subsample=0.5, reg_lambda=1, n_estimators=31, min_child_weight=3.0, max_depth=1, learning_rate=3, gamma=0.5, colsample_bytree=0.9, colsample_bylevel=0.6 \n",
      "[12:08:41] WARNING: C:/Users/Administrator/workspace/xgboost-win64_release_1.3.0/src/learner.cc:1061: Starting in XGBoost 1.3.0, the default evaluation metric used with the objective 'binary:logistic' was changed from 'error' to 'logloss'. Explicitly set eval_metric if you'd like to restore the old behavior.\n",
      "[CV]  subsample=0.5, reg_lambda=1, n_estimators=31, min_child_weight=3.0, max_depth=1, learning_rate=3, gamma=0.5, colsample_bytree=0.9, colsample_bylevel=0.6, total=   0.0s"
     ]
    },
    {
     "name": "stderr",
     "output_type": "stream",
     "text": [
      "C:\\ProgramData\\Anaconda3\\lib\\site-packages\\xgboost\\sklearn.py:888: UserWarning: The use of label encoder in XGBClassifier is deprecated and will be removed in a future release. To remove this warning, do the following: 1) Pass option use_label_encoder=False when constructing XGBClassifier object; and 2) Encode your labels (y) as integers starting with 0, i.e. 0, 1, 2, ..., [num_class - 1].\n",
      "  warnings.warn(label_encoder_deprecation_msg, UserWarning)\n",
      "C:\\ProgramData\\Anaconda3\\lib\\site-packages\\xgboost\\sklearn.py:888: UserWarning: The use of label encoder in XGBClassifier is deprecated and will be removed in a future release. To remove this warning, do the following: 1) Pass option use_label_encoder=False when constructing XGBClassifier object; and 2) Encode your labels (y) as integers starting with 0, i.e. 0, 1, 2, ..., [num_class - 1].\n",
      "  warnings.warn(label_encoder_deprecation_msg, UserWarning)\n",
      "C:\\ProgramData\\Anaconda3\\lib\\site-packages\\xgboost\\sklearn.py:888: UserWarning: The use of label encoder in XGBClassifier is deprecated and will be removed in a future release. To remove this warning, do the following: 1) Pass option use_label_encoder=False when constructing XGBClassifier object; and 2) Encode your labels (y) as integers starting with 0, i.e. 0, 1, 2, ..., [num_class - 1].\n",
      "  warnings.warn(label_encoder_deprecation_msg, UserWarning)\n",
      "C:\\ProgramData\\Anaconda3\\lib\\site-packages\\xgboost\\sklearn.py:888: UserWarning: The use of label encoder in XGBClassifier is deprecated and will be removed in a future release. To remove this warning, do the following: 1) Pass option use_label_encoder=False when constructing XGBClassifier object; and 2) Encode your labels (y) as integers starting with 0, i.e. 0, 1, 2, ..., [num_class - 1].\n",
      "  warnings.warn(label_encoder_deprecation_msg, UserWarning)\n",
      "C:\\ProgramData\\Anaconda3\\lib\\site-packages\\xgboost\\sklearn.py:888: UserWarning: The use of label encoder in XGBClassifier is deprecated and will be removed in a future release. To remove this warning, do the following: 1) Pass option use_label_encoder=False when constructing XGBClassifier object; and 2) Encode your labels (y) as integers starting with 0, i.e. 0, 1, 2, ..., [num_class - 1].\n",
      "  warnings.warn(label_encoder_deprecation_msg, UserWarning)\n"
     ]
    },
    {
     "name": "stdout",
     "output_type": "stream",
     "text": [
      "\n",
      "[CV] subsample=0.5, reg_lambda=1, n_estimators=31, min_child_weight=3.0, max_depth=1, learning_rate=3, gamma=0.5, colsample_bytree=0.9, colsample_bylevel=0.6 \n",
      "[12:08:41] WARNING: C:/Users/Administrator/workspace/xgboost-win64_release_1.3.0/src/learner.cc:1061: Starting in XGBoost 1.3.0, the default evaluation metric used with the objective 'binary:logistic' was changed from 'error' to 'logloss'. Explicitly set eval_metric if you'd like to restore the old behavior.\n",
      "[CV]  subsample=0.5, reg_lambda=1, n_estimators=31, min_child_weight=3.0, max_depth=1, learning_rate=3, gamma=0.5, colsample_bytree=0.9, colsample_bylevel=0.6, total=   0.0s\n",
      "[CV] subsample=0.5, reg_lambda=1, n_estimators=31, min_child_weight=3.0, max_depth=1, learning_rate=3, gamma=0.5, colsample_bytree=0.9, colsample_bylevel=0.6 \n",
      "[12:08:41] WARNING: C:/Users/Administrator/workspace/xgboost-win64_release_1.3.0/src/learner.cc:1061: Starting in XGBoost 1.3.0, the default evaluation metric used with the objective 'binary:logistic' was changed from 'error' to 'logloss'. Explicitly set eval_metric if you'd like to restore the old behavior.\n",
      "[CV]  subsample=0.5, reg_lambda=1, n_estimators=31, min_child_weight=3.0, max_depth=1, learning_rate=3, gamma=0.5, colsample_bytree=0.9, colsample_bylevel=0.6, total=   0.0s\n",
      "[CV] subsample=0.6, reg_lambda=1, n_estimators=178, min_child_weight=7.0, max_depth=1, learning_rate=0, gamma=0.25, colsample_bytree=0.8, colsample_bylevel=0.9 \n",
      "[12:08:41] WARNING: C:/Users/Administrator/workspace/xgboost-win64_release_1.3.0/src/learner.cc:1061: Starting in XGBoost 1.3.0, the default evaluation metric used with the objective 'binary:logistic' was changed from 'error' to 'logloss'. Explicitly set eval_metric if you'd like to restore the old behavior.\n",
      "[CV]  subsample=0.6, reg_lambda=1, n_estimators=178, min_child_weight=7.0, max_depth=1, learning_rate=0, gamma=0.25, colsample_bytree=0.8, colsample_bylevel=0.9, total=   0.0s\n",
      "[CV] subsample=0.6, reg_lambda=1, n_estimators=178, min_child_weight=7.0, max_depth=1, learning_rate=0, gamma=0.25, colsample_bytree=0.8, colsample_bylevel=0.9 \n",
      "[12:08:42] WARNING: C:/Users/Administrator/workspace/xgboost-win64_release_1.3.0/src/learner.cc:1061: Starting in XGBoost 1.3.0, the default evaluation metric used with the objective 'binary:logistic' was changed from 'error' to 'logloss'. Explicitly set eval_metric if you'd like to restore the old behavior.\n"
     ]
    },
    {
     "name": "stderr",
     "output_type": "stream",
     "text": [
      "C:\\ProgramData\\Anaconda3\\lib\\site-packages\\xgboost\\sklearn.py:888: UserWarning: The use of label encoder in XGBClassifier is deprecated and will be removed in a future release. To remove this warning, do the following: 1) Pass option use_label_encoder=False when constructing XGBClassifier object; and 2) Encode your labels (y) as integers starting with 0, i.e. 0, 1, 2, ..., [num_class - 1].\n",
      "  warnings.warn(label_encoder_deprecation_msg, UserWarning)\n",
      "C:\\ProgramData\\Anaconda3\\lib\\site-packages\\xgboost\\sklearn.py:888: UserWarning: The use of label encoder in XGBClassifier is deprecated and will be removed in a future release. To remove this warning, do the following: 1) Pass option use_label_encoder=False when constructing XGBClassifier object; and 2) Encode your labels (y) as integers starting with 0, i.e. 0, 1, 2, ..., [num_class - 1].\n",
      "  warnings.warn(label_encoder_deprecation_msg, UserWarning)\n"
     ]
    },
    {
     "name": "stdout",
     "output_type": "stream",
     "text": [
      "[CV]  subsample=0.6, reg_lambda=1, n_estimators=178, min_child_weight=7.0, max_depth=1, learning_rate=0, gamma=0.25, colsample_bytree=0.8, colsample_bylevel=0.9, total=   0.0s\n",
      "[CV] subsample=0.6, reg_lambda=1, n_estimators=178, min_child_weight=7.0, max_depth=1, learning_rate=0, gamma=0.25, colsample_bytree=0.8, colsample_bylevel=0.9 \n",
      "[12:08:42] WARNING: C:/Users/Administrator/workspace/xgboost-win64_release_1.3.0/src/learner.cc:1061: Starting in XGBoost 1.3.0, the default evaluation metric used with the objective 'binary:logistic' was changed from 'error' to 'logloss'. Explicitly set eval_metric if you'd like to restore the old behavior.\n",
      "[CV]  subsample=0.6, reg_lambda=1, n_estimators=178, min_child_weight=7.0, max_depth=1, learning_rate=0, gamma=0.25, colsample_bytree=0.8, colsample_bylevel=0.9, total=   0.0s\n",
      "[CV] subsample=0.6, reg_lambda=1, n_estimators=178, min_child_weight=7.0, max_depth=1, learning_rate=0, gamma=0.25, colsample_bytree=0.8, colsample_bylevel=0.9 \n",
      "[12:08:42] WARNING: C:/Users/Administrator/workspace/xgboost-win64_release_1.3.0/src/learner.cc:1061: Starting in XGBoost 1.3.0, the default evaluation metric used with the objective 'binary:logistic' was changed from 'error' to 'logloss'. Explicitly set eval_metric if you'd like to restore the old behavior.\n",
      "[CV]  subsample=0.6, reg_lambda=1, n_estimators=178, min_child_weight=7.0, max_depth=1, learning_rate=0, gamma=0.25, colsample_bytree=0.8, colsample_bylevel=0.9, total=   0.0s\n",
      "[CV] subsample=0.6, reg_lambda=1, n_estimators=178, min_child_weight=7.0, max_depth=1, learning_rate=0, gamma=0.25, colsample_bytree=0.8, colsample_bylevel=0.9 \n"
     ]
    },
    {
     "name": "stderr",
     "output_type": "stream",
     "text": [
      "C:\\ProgramData\\Anaconda3\\lib\\site-packages\\xgboost\\sklearn.py:888: UserWarning: The use of label encoder in XGBClassifier is deprecated and will be removed in a future release. To remove this warning, do the following: 1) Pass option use_label_encoder=False when constructing XGBClassifier object; and 2) Encode your labels (y) as integers starting with 0, i.e. 0, 1, 2, ..., [num_class - 1].\n",
      "  warnings.warn(label_encoder_deprecation_msg, UserWarning)\n",
      "C:\\ProgramData\\Anaconda3\\lib\\site-packages\\xgboost\\sklearn.py:888: UserWarning: The use of label encoder in XGBClassifier is deprecated and will be removed in a future release. To remove this warning, do the following: 1) Pass option use_label_encoder=False when constructing XGBClassifier object; and 2) Encode your labels (y) as integers starting with 0, i.e. 0, 1, 2, ..., [num_class - 1].\n",
      "  warnings.warn(label_encoder_deprecation_msg, UserWarning)\n",
      "C:\\ProgramData\\Anaconda3\\lib\\site-packages\\xgboost\\sklearn.py:888: UserWarning: The use of label encoder in XGBClassifier is deprecated and will be removed in a future release. To remove this warning, do the following: 1) Pass option use_label_encoder=False when constructing XGBClassifier object; and 2) Encode your labels (y) as integers starting with 0, i.e. 0, 1, 2, ..., [num_class - 1].\n",
      "  warnings.warn(label_encoder_deprecation_msg, UserWarning)\n"
     ]
    },
    {
     "name": "stdout",
     "output_type": "stream",
     "text": [
      "[12:08:42] WARNING: C:/Users/Administrator/workspace/xgboost-win64_release_1.3.0/src/learner.cc:1061: Starting in XGBoost 1.3.0, the default evaluation metric used with the objective 'binary:logistic' was changed from 'error' to 'logloss'. Explicitly set eval_metric if you'd like to restore the old behavior.\n",
      "[CV]  subsample=0.6, reg_lambda=1, n_estimators=178, min_child_weight=7.0, max_depth=1, learning_rate=0, gamma=0.25, colsample_bytree=0.8, colsample_bylevel=0.9, total=   0.0s\n",
      "[CV] subsample=1.0, reg_lambda=0.5, n_estimators=157, min_child_weight=5.0, max_depth=1, learning_rate=0.001, gamma=0.5, colsample_bytree=0.4, colsample_bylevel=0.7 \n",
      "[12:08:42] WARNING: C:/Users/Administrator/workspace/xgboost-win64_release_1.3.0/src/learner.cc:1061: Starting in XGBoost 1.3.0, the default evaluation metric used with the objective 'binary:logistic' was changed from 'error' to 'logloss'. Explicitly set eval_metric if you'd like to restore the old behavior.\n",
      "[CV]  subsample=1.0, reg_lambda=0.5, n_estimators=157, min_child_weight=5.0, max_depth=1, learning_rate=0.001, gamma=0.5, colsample_bytree=0.4, colsample_bylevel=0.7, total=   0.0s\n",
      "[CV] subsample=1.0, reg_lambda=0.5, n_estimators=157, min_child_weight=5.0, max_depth=1, learning_rate=0.001, gamma=0.5, colsample_bytree=0.4, colsample_bylevel=0.7 \n",
      "[12:08:42] WARNING: C:/Users/Administrator/workspace/xgboost-win64_release_1.3.0/src/learner.cc:1061: Starting in XGBoost 1.3.0, the default evaluation metric used with the objective 'binary:logistic' was changed from 'error' to 'logloss'. Explicitly set eval_metric if you'd like to restore the old behavior.\n",
      "[CV]  subsample=1.0, reg_lambda=0.5, n_estimators=157, min_child_weight=5.0, max_depth=1, learning_rate=0.001, gamma=0.5, colsample_bytree=0.4, colsample_bylevel=0.7, total=   0.0s\n",
      "[CV] subsample=1.0, reg_lambda=0.5, n_estimators=157, min_child_weight=5.0, max_depth=1, learning_rate=0.001, gamma=0.5, colsample_bytree=0.4, colsample_bylevel=0.7 \n",
      "[12:08:42] WARNING: C:/Users/Administrator/workspace/xgboost-win64_release_1.3.0/src/learner.cc:1061: Starting in XGBoost 1.3.0, the default evaluation metric used with the objective 'binary:logistic' was changed from 'error' to 'logloss'. Explicitly set eval_metric if you'd like to restore the old behavior.\n",
      "[CV]  subsample=1.0, reg_lambda=0.5, n_estimators=157, min_child_weight=5.0, max_depth=1, learning_rate=0.001, gamma=0.5, colsample_bytree=0.4, colsample_bylevel=0.7, total=   0.0s\n",
      "[CV] subsample=1.0, reg_lambda=0.5, n_estimators=157, min_child_weight=5.0, max_depth=1, learning_rate=0.001, gamma=0.5, colsample_bytree=0.4, colsample_bylevel=0.7 \n",
      "[12:08:42] WARNING: C:/Users/Administrator/workspace/xgboost-win64_release_1.3.0/src/learner.cc:1061: Starting in XGBoost 1.3.0, the default evaluation metric used with the objective 'binary:logistic' was changed from 'error' to 'logloss'. Explicitly set eval_metric if you'd like to restore the old behavior.\n",
      "[CV]  subsample=1.0, reg_lambda=0.5, n_estimators=157, min_child_weight=5.0, max_depth=1, learning_rate=0.001, gamma=0.5, colsample_bytree=0.4, colsample_bylevel=0.7, total=   0.0s\n",
      "[CV] subsample=1.0, reg_lambda=0.5, n_estimators=157, min_child_weight=5.0, max_depth=1, learning_rate=0.001, gamma=0.5, colsample_bytree=0.4, colsample_bylevel=0.7 \n",
      "[12:08:42] WARNING: C:/Users/Administrator/workspace/xgboost-win64_release_1.3.0/src/learner.cc:1061: Starting in XGBoost 1.3.0, the default evaluation metric used with the objective 'binary:logistic' was changed from 'error' to 'logloss'. Explicitly set eval_metric if you'd like to restore the old behavior.\n",
      "[CV]  subsample=1.0, reg_lambda=0.5, n_estimators=157, min_child_weight=5.0, max_depth=1, learning_rate=0.001, gamma=0.5, colsample_bytree=0.4, colsample_bylevel=0.7, total=   0.0s"
     ]
    },
    {
     "name": "stderr",
     "output_type": "stream",
     "text": [
      "C:\\ProgramData\\Anaconda3\\lib\\site-packages\\xgboost\\sklearn.py:888: UserWarning: The use of label encoder in XGBClassifier is deprecated and will be removed in a future release. To remove this warning, do the following: 1) Pass option use_label_encoder=False when constructing XGBClassifier object; and 2) Encode your labels (y) as integers starting with 0, i.e. 0, 1, 2, ..., [num_class - 1].\n",
      "  warnings.warn(label_encoder_deprecation_msg, UserWarning)\n",
      "C:\\ProgramData\\Anaconda3\\lib\\site-packages\\xgboost\\sklearn.py:888: UserWarning: The use of label encoder in XGBClassifier is deprecated and will be removed in a future release. To remove this warning, do the following: 1) Pass option use_label_encoder=False when constructing XGBClassifier object; and 2) Encode your labels (y) as integers starting with 0, i.e. 0, 1, 2, ..., [num_class - 1].\n",
      "  warnings.warn(label_encoder_deprecation_msg, UserWarning)\n",
      "C:\\ProgramData\\Anaconda3\\lib\\site-packages\\xgboost\\sklearn.py:888: UserWarning: The use of label encoder in XGBClassifier is deprecated and will be removed in a future release. To remove this warning, do the following: 1) Pass option use_label_encoder=False when constructing XGBClassifier object; and 2) Encode your labels (y) as integers starting with 0, i.e. 0, 1, 2, ..., [num_class - 1].\n",
      "  warnings.warn(label_encoder_deprecation_msg, UserWarning)\n"
     ]
    },
    {
     "name": "stdout",
     "output_type": "stream",
     "text": [
      "\n",
      "[CV] subsample=1.0, reg_lambda=0.01, n_estimators=94, min_child_weight=10.0, max_depth=1, learning_rate=0.01, gamma=1.0, colsample_bytree=0.8, colsample_bylevel=0.4 \n",
      "[12:08:42] WARNING: C:/Users/Administrator/workspace/xgboost-win64_release_1.3.0/src/learner.cc:1061: Starting in XGBoost 1.3.0, the default evaluation metric used with the objective 'binary:logistic' was changed from 'error' to 'logloss'. Explicitly set eval_metric if you'd like to restore the old behavior.\n",
      "[CV]  subsample=1.0, reg_lambda=0.01, n_estimators=94, min_child_weight=10.0, max_depth=1, learning_rate=0.01, gamma=1.0, colsample_bytree=0.8, colsample_bylevel=0.4, total=   0.0s\n",
      "[CV] subsample=1.0, reg_lambda=0.01, n_estimators=94, min_child_weight=10.0, max_depth=1, learning_rate=0.01, gamma=1.0, colsample_bytree=0.8, colsample_bylevel=0.4 \n",
      "[12:08:42] WARNING: C:/Users/Administrator/workspace/xgboost-win64_release_1.3.0/src/learner.cc:1061: Starting in XGBoost 1.3.0, the default evaluation metric used with the objective 'binary:logistic' was changed from 'error' to 'logloss'. Explicitly set eval_metric if you'd like to restore the old behavior.\n",
      "[CV]  subsample=1.0, reg_lambda=0.01, n_estimators=94, min_child_weight=10.0, max_depth=1, learning_rate=0.01, gamma=1.0, colsample_bytree=0.8, colsample_bylevel=0.4, total=   0.0s\n",
      "[CV] subsample=1.0, reg_lambda=0.01, n_estimators=94, min_child_weight=10.0, max_depth=1, learning_rate=0.01, gamma=1.0, colsample_bytree=0.8, colsample_bylevel=0.4 \n",
      "[12:08:42] WARNING: C:/Users/Administrator/workspace/xgboost-win64_release_1.3.0/src/learner.cc:1061: Starting in XGBoost 1.3.0, the default evaluation metric used with the objective 'binary:logistic' was changed from 'error' to 'logloss'. Explicitly set eval_metric if you'd like to restore the old behavior.\n",
      "[CV]  subsample=1.0, reg_lambda=0.01, n_estimators=94, min_child_weight=10.0, max_depth=1, learning_rate=0.01, gamma=1.0, colsample_bytree=0.8, colsample_bylevel=0.4, total=   0.0s\n",
      "[CV] subsample=1.0, reg_lambda=0.01, n_estimators=94, min_child_weight=10.0, max_depth=1, learning_rate=0.01, gamma=1.0, colsample_bytree=0.8, colsample_bylevel=0.4 \n",
      "[12:08:42] WARNING: C:/Users/Administrator/workspace/xgboost-win64_release_1.3.0/src/learner.cc:1061: Starting in XGBoost 1.3.0, the default evaluation metric used with the objective 'binary:logistic' was changed from 'error' to 'logloss'. Explicitly set eval_metric if you'd like to restore the old behavior.\n",
      "[CV]  subsample=1.0, reg_lambda=0.01, n_estimators=94, min_child_weight=10.0, max_depth=1, learning_rate=0.01, gamma=1.0, colsample_bytree=0.8, colsample_bylevel=0.4, total=   0.0s"
     ]
    },
    {
     "name": "stderr",
     "output_type": "stream",
     "text": [
      "C:\\ProgramData\\Anaconda3\\lib\\site-packages\\xgboost\\sklearn.py:888: UserWarning: The use of label encoder in XGBClassifier is deprecated and will be removed in a future release. To remove this warning, do the following: 1) Pass option use_label_encoder=False when constructing XGBClassifier object; and 2) Encode your labels (y) as integers starting with 0, i.e. 0, 1, 2, ..., [num_class - 1].\n",
      "  warnings.warn(label_encoder_deprecation_msg, UserWarning)\n",
      "C:\\ProgramData\\Anaconda3\\lib\\site-packages\\xgboost\\sklearn.py:888: UserWarning: The use of label encoder in XGBClassifier is deprecated and will be removed in a future release. To remove this warning, do the following: 1) Pass option use_label_encoder=False when constructing XGBClassifier object; and 2) Encode your labels (y) as integers starting with 0, i.e. 0, 1, 2, ..., [num_class - 1].\n",
      "  warnings.warn(label_encoder_deprecation_msg, UserWarning)\n",
      "C:\\ProgramData\\Anaconda3\\lib\\site-packages\\xgboost\\sklearn.py:888: UserWarning: The use of label encoder in XGBClassifier is deprecated and will be removed in a future release. To remove this warning, do the following: 1) Pass option use_label_encoder=False when constructing XGBClassifier object; and 2) Encode your labels (y) as integers starting with 0, i.e. 0, 1, 2, ..., [num_class - 1].\n",
      "  warnings.warn(label_encoder_deprecation_msg, UserWarning)\n",
      "C:\\ProgramData\\Anaconda3\\lib\\site-packages\\xgboost\\sklearn.py:888: UserWarning: The use of label encoder in XGBClassifier is deprecated and will be removed in a future release. To remove this warning, do the following: 1) Pass option use_label_encoder=False when constructing XGBClassifier object; and 2) Encode your labels (y) as integers starting with 0, i.e. 0, 1, 2, ..., [num_class - 1].\n",
      "  warnings.warn(label_encoder_deprecation_msg, UserWarning)\n"
     ]
    },
    {
     "name": "stdout",
     "output_type": "stream",
     "text": [
      "\n",
      "[CV] subsample=1.0, reg_lambda=0.01, n_estimators=94, min_child_weight=10.0, max_depth=1, learning_rate=0.01, gamma=1.0, colsample_bytree=0.8, colsample_bylevel=0.4 \n",
      "[12:08:42] WARNING: C:/Users/Administrator/workspace/xgboost-win64_release_1.3.0/src/learner.cc:1061: Starting in XGBoost 1.3.0, the default evaluation metric used with the objective 'binary:logistic' was changed from 'error' to 'logloss'. Explicitly set eval_metric if you'd like to restore the old behavior.\n",
      "[CV]  subsample=1.0, reg_lambda=0.01, n_estimators=94, min_child_weight=10.0, max_depth=1, learning_rate=0.01, gamma=1.0, colsample_bytree=0.8, colsample_bylevel=0.4, total=   0.0s\n",
      "[CV] subsample=0.5, reg_lambda=0.01, n_estimators=136, min_child_weight=10.0, max_depth=1, learning_rate=0.1, gamma=0, colsample_bytree=0.6, colsample_bylevel=0.9 \n",
      "[12:08:42] WARNING: C:/Users/Administrator/workspace/xgboost-win64_release_1.3.0/src/learner.cc:1061: Starting in XGBoost 1.3.0, the default evaluation metric used with the objective 'binary:logistic' was changed from 'error' to 'logloss'. Explicitly set eval_metric if you'd like to restore the old behavior.\n",
      "[CV]  subsample=0.5, reg_lambda=0.01, n_estimators=136, min_child_weight=10.0, max_depth=1, learning_rate=0.1, gamma=0, colsample_bytree=0.6, colsample_bylevel=0.9, total=   0.0s\n",
      "[CV] subsample=0.5, reg_lambda=0.01, n_estimators=136, min_child_weight=10.0, max_depth=1, learning_rate=0.1, gamma=0, colsample_bytree=0.6, colsample_bylevel=0.9 \n",
      "[12:08:43] WARNING: C:/Users/Administrator/workspace/xgboost-win64_release_1.3.0/src/learner.cc:1061: Starting in XGBoost 1.3.0, the default evaluation metric used with the objective 'binary:logistic' was changed from 'error' to 'logloss'. Explicitly set eval_metric if you'd like to restore the old behavior.\n",
      "[CV]  subsample=0.5, reg_lambda=0.01, n_estimators=136, min_child_weight=10.0, max_depth=1, learning_rate=0.1, gamma=0, colsample_bytree=0.6, colsample_bylevel=0.9, total=   0.0s"
     ]
    },
    {
     "name": "stderr",
     "output_type": "stream",
     "text": [
      "C:\\ProgramData\\Anaconda3\\lib\\site-packages\\xgboost\\sklearn.py:888: UserWarning: The use of label encoder in XGBClassifier is deprecated and will be removed in a future release. To remove this warning, do the following: 1) Pass option use_label_encoder=False when constructing XGBClassifier object; and 2) Encode your labels (y) as integers starting with 0, i.e. 0, 1, 2, ..., [num_class - 1].\n",
      "  warnings.warn(label_encoder_deprecation_msg, UserWarning)\n",
      "C:\\ProgramData\\Anaconda3\\lib\\site-packages\\xgboost\\sklearn.py:888: UserWarning: The use of label encoder in XGBClassifier is deprecated and will be removed in a future release. To remove this warning, do the following: 1) Pass option use_label_encoder=False when constructing XGBClassifier object; and 2) Encode your labels (y) as integers starting with 0, i.e. 0, 1, 2, ..., [num_class - 1].\n",
      "  warnings.warn(label_encoder_deprecation_msg, UserWarning)\n",
      "C:\\ProgramData\\Anaconda3\\lib\\site-packages\\xgboost\\sklearn.py:888: UserWarning: The use of label encoder in XGBClassifier is deprecated and will be removed in a future release. To remove this warning, do the following: 1) Pass option use_label_encoder=False when constructing XGBClassifier object; and 2) Encode your labels (y) as integers starting with 0, i.e. 0, 1, 2, ..., [num_class - 1].\n",
      "  warnings.warn(label_encoder_deprecation_msg, UserWarning)\n"
     ]
    },
    {
     "name": "stdout",
     "output_type": "stream",
     "text": [
      "\n",
      "[CV] subsample=0.5, reg_lambda=0.01, n_estimators=136, min_child_weight=10.0, max_depth=1, learning_rate=0.1, gamma=0, colsample_bytree=0.6, colsample_bylevel=0.9 \n",
      "[12:08:43] WARNING: C:/Users/Administrator/workspace/xgboost-win64_release_1.3.0/src/learner.cc:1061: Starting in XGBoost 1.3.0, the default evaluation metric used with the objective 'binary:logistic' was changed from 'error' to 'logloss'. Explicitly set eval_metric if you'd like to restore the old behavior.\n",
      "[CV]  subsample=0.5, reg_lambda=0.01, n_estimators=136, min_child_weight=10.0, max_depth=1, learning_rate=0.1, gamma=0, colsample_bytree=0.6, colsample_bylevel=0.9, total=   0.0s\n",
      "[CV] subsample=0.5, reg_lambda=0.01, n_estimators=136, min_child_weight=10.0, max_depth=1, learning_rate=0.1, gamma=0, colsample_bytree=0.6, colsample_bylevel=0.9 \n",
      "[12:08:43] WARNING: C:/Users/Administrator/workspace/xgboost-win64_release_1.3.0/src/learner.cc:1061: Starting in XGBoost 1.3.0, the default evaluation metric used with the objective 'binary:logistic' was changed from 'error' to 'logloss'. Explicitly set eval_metric if you'd like to restore the old behavior.\n",
      "[CV]  subsample=0.5, reg_lambda=0.01, n_estimators=136, min_child_weight=10.0, max_depth=1, learning_rate=0.1, gamma=0, colsample_bytree=0.6, colsample_bylevel=0.9, total=   0.0s\n",
      "[CV] subsample=0.5, reg_lambda=0.01, n_estimators=136, min_child_weight=10.0, max_depth=1, learning_rate=0.1, gamma=0, colsample_bytree=0.6, colsample_bylevel=0.9 \n",
      "[12:08:43] WARNING: C:/Users/Administrator/workspace/xgboost-win64_release_1.3.0/src/learner.cc:1061: Starting in XGBoost 1.3.0, the default evaluation metric used with the objective 'binary:logistic' was changed from 'error' to 'logloss'. Explicitly set eval_metric if you'd like to restore the old behavior.\n"
     ]
    },
    {
     "name": "stderr",
     "output_type": "stream",
     "text": [
      "C:\\ProgramData\\Anaconda3\\lib\\site-packages\\xgboost\\sklearn.py:888: UserWarning: The use of label encoder in XGBClassifier is deprecated and will be removed in a future release. To remove this warning, do the following: 1) Pass option use_label_encoder=False when constructing XGBClassifier object; and 2) Encode your labels (y) as integers starting with 0, i.e. 0, 1, 2, ..., [num_class - 1].\n",
      "  warnings.warn(label_encoder_deprecation_msg, UserWarning)\n",
      "C:\\ProgramData\\Anaconda3\\lib\\site-packages\\xgboost\\sklearn.py:888: UserWarning: The use of label encoder in XGBClassifier is deprecated and will be removed in a future release. To remove this warning, do the following: 1) Pass option use_label_encoder=False when constructing XGBClassifier object; and 2) Encode your labels (y) as integers starting with 0, i.e. 0, 1, 2, ..., [num_class - 1].\n",
      "  warnings.warn(label_encoder_deprecation_msg, UserWarning)\n",
      "C:\\ProgramData\\Anaconda3\\lib\\site-packages\\xgboost\\sklearn.py:888: UserWarning: The use of label encoder in XGBClassifier is deprecated and will be removed in a future release. To remove this warning, do the following: 1) Pass option use_label_encoder=False when constructing XGBClassifier object; and 2) Encode your labels (y) as integers starting with 0, i.e. 0, 1, 2, ..., [num_class - 1].\n",
      "  warnings.warn(label_encoder_deprecation_msg, UserWarning)\n"
     ]
    },
    {
     "name": "stdout",
     "output_type": "stream",
     "text": [
      "[CV]  subsample=0.5, reg_lambda=0.01, n_estimators=136, min_child_weight=10.0, max_depth=1, learning_rate=0.1, gamma=0, colsample_bytree=0.6, colsample_bylevel=0.9, total=   0.0s\n",
      "[CV] subsample=0.8, reg_lambda=0.01, n_estimators=94, min_child_weight=1.0, max_depth=1, learning_rate=3, gamma=0.5, colsample_bytree=0.9, colsample_bylevel=0.4 \n",
      "[12:08:43] WARNING: C:/Users/Administrator/workspace/xgboost-win64_release_1.3.0/src/learner.cc:1061: Starting in XGBoost 1.3.0, the default evaluation metric used with the objective 'binary:logistic' was changed from 'error' to 'logloss'. Explicitly set eval_metric if you'd like to restore the old behavior.\n",
      "[CV]  subsample=0.8, reg_lambda=0.01, n_estimators=94, min_child_weight=1.0, max_depth=1, learning_rate=3, gamma=0.5, colsample_bytree=0.9, colsample_bylevel=0.4, total=   0.0s\n",
      "[CV] subsample=0.8, reg_lambda=0.01, n_estimators=94, min_child_weight=1.0, max_depth=1, learning_rate=3, gamma=0.5, colsample_bytree=0.9, colsample_bylevel=0.4 \n",
      "[12:08:43] WARNING: C:/Users/Administrator/workspace/xgboost-win64_release_1.3.0/src/learner.cc:1061: Starting in XGBoost 1.3.0, the default evaluation metric used with the objective 'binary:logistic' was changed from 'error' to 'logloss'. Explicitly set eval_metric if you'd like to restore the old behavior.\n",
      "[CV]  subsample=0.8, reg_lambda=0.01, n_estimators=94, min_child_weight=1.0, max_depth=1, learning_rate=3, gamma=0.5, colsample_bytree=0.9, colsample_bylevel=0.4, total=   0.0s\n",
      "[CV] subsample=0.8, reg_lambda=0.01, n_estimators=94, min_child_weight=1.0, max_depth=1, learning_rate=3, gamma=0.5, colsample_bytree=0.9, colsample_bylevel=0.4 \n",
      "[12:08:43] WARNING: C:/Users/Administrator/workspace/xgboost-win64_release_1.3.0/src/learner.cc:1061: Starting in XGBoost 1.3.0, the default evaluation metric used with the objective 'binary:logistic' was changed from 'error' to 'logloss'. Explicitly set eval_metric if you'd like to restore the old behavior.\n",
      "[CV]  subsample=0.8, reg_lambda=0.01, n_estimators=94, min_child_weight=1.0, max_depth=1, learning_rate=3, gamma=0.5, colsample_bytree=0.9, colsample_bylevel=0.4, total=   0.0s\n",
      "[CV] subsample=0.8, reg_lambda=0.01, n_estimators=94, min_child_weight=1.0, max_depth=1, learning_rate=3, gamma=0.5, colsample_bytree=0.9, colsample_bylevel=0.4 \n",
      "[12:08:43] WARNING: C:/Users/Administrator/workspace/xgboost-win64_release_1.3.0/src/learner.cc:1061: Starting in XGBoost 1.3.0, the default evaluation metric used with the objective 'binary:logistic' was changed from 'error' to 'logloss'. Explicitly set eval_metric if you'd like to restore the old behavior.\n"
     ]
    },
    {
     "name": "stderr",
     "output_type": "stream",
     "text": [
      "C:\\ProgramData\\Anaconda3\\lib\\site-packages\\xgboost\\sklearn.py:888: UserWarning: The use of label encoder in XGBClassifier is deprecated and will be removed in a future release. To remove this warning, do the following: 1) Pass option use_label_encoder=False when constructing XGBClassifier object; and 2) Encode your labels (y) as integers starting with 0, i.e. 0, 1, 2, ..., [num_class - 1].\n",
      "  warnings.warn(label_encoder_deprecation_msg, UserWarning)\n",
      "C:\\ProgramData\\Anaconda3\\lib\\site-packages\\xgboost\\sklearn.py:888: UserWarning: The use of label encoder in XGBClassifier is deprecated and will be removed in a future release. To remove this warning, do the following: 1) Pass option use_label_encoder=False when constructing XGBClassifier object; and 2) Encode your labels (y) as integers starting with 0, i.e. 0, 1, 2, ..., [num_class - 1].\n",
      "  warnings.warn(label_encoder_deprecation_msg, UserWarning)\n",
      "C:\\ProgramData\\Anaconda3\\lib\\site-packages\\xgboost\\sklearn.py:888: UserWarning: The use of label encoder in XGBClassifier is deprecated and will be removed in a future release. To remove this warning, do the following: 1) Pass option use_label_encoder=False when constructing XGBClassifier object; and 2) Encode your labels (y) as integers starting with 0, i.e. 0, 1, 2, ..., [num_class - 1].\n",
      "  warnings.warn(label_encoder_deprecation_msg, UserWarning)\n",
      "C:\\ProgramData\\Anaconda3\\lib\\site-packages\\xgboost\\sklearn.py:888: UserWarning: The use of label encoder in XGBClassifier is deprecated and will be removed in a future release. To remove this warning, do the following: 1) Pass option use_label_encoder=False when constructing XGBClassifier object; and 2) Encode your labels (y) as integers starting with 0, i.e. 0, 1, 2, ..., [num_class - 1].\n",
      "  warnings.warn(label_encoder_deprecation_msg, UserWarning)\n"
     ]
    },
    {
     "name": "stdout",
     "output_type": "stream",
     "text": [
      "[CV]  subsample=0.8, reg_lambda=0.01, n_estimators=94, min_child_weight=1.0, max_depth=1, learning_rate=3, gamma=0.5, colsample_bytree=0.9, colsample_bylevel=0.4, total=   0.0s\n",
      "[CV] subsample=0.8, reg_lambda=0.01, n_estimators=94, min_child_weight=1.0, max_depth=1, learning_rate=3, gamma=0.5, colsample_bytree=0.9, colsample_bylevel=0.4 \n",
      "[12:08:43] WARNING: C:/Users/Administrator/workspace/xgboost-win64_release_1.3.0/src/learner.cc:1061: Starting in XGBoost 1.3.0, the default evaluation metric used with the objective 'binary:logistic' was changed from 'error' to 'logloss'. Explicitly set eval_metric if you'd like to restore the old behavior.\n",
      "[CV]  subsample=0.8, reg_lambda=0.01, n_estimators=94, min_child_weight=1.0, max_depth=1, learning_rate=3, gamma=0.5, colsample_bytree=0.9, colsample_bylevel=0.4, total=   0.0s\n",
      "[CV] subsample=0.4, reg_lambda=0.01, n_estimators=10, min_child_weight=0.5, max_depth=1, learning_rate=0, gamma=0.5, colsample_bytree=1.0, colsample_bylevel=0.5 \n",
      "[12:08:43] WARNING: C:/Users/Administrator/workspace/xgboost-win64_release_1.3.0/src/learner.cc:1061: Starting in XGBoost 1.3.0, the default evaluation metric used with the objective 'binary:logistic' was changed from 'error' to 'logloss'. Explicitly set eval_metric if you'd like to restore the old behavior.\n",
      "[CV]  subsample=0.4, reg_lambda=0.01, n_estimators=10, min_child_weight=0.5, max_depth=1, learning_rate=0, gamma=0.5, colsample_bytree=1.0, colsample_bylevel=0.5, total=   0.0s\n",
      "[CV] subsample=0.4, reg_lambda=0.01, n_estimators=10, min_child_weight=0.5, max_depth=1, learning_rate=0, gamma=0.5, colsample_bytree=1.0, colsample_bylevel=0.5 \n",
      "[12:08:43] WARNING: C:/Users/Administrator/workspace/xgboost-win64_release_1.3.0/src/learner.cc:1061: Starting in XGBoost 1.3.0, the default evaluation metric used with the objective 'binary:logistic' was changed from 'error' to 'logloss'. Explicitly set eval_metric if you'd like to restore the old behavior.\n",
      "[CV]  subsample=0.4, reg_lambda=0.01, n_estimators=10, min_child_weight=0.5, max_depth=1, learning_rate=0, gamma=0.5, colsample_bytree=1.0, colsample_bylevel=0.5, total=   0.0s\n",
      "[CV] subsample=0.4, reg_lambda=0.01, n_estimators=10, min_child_weight=0.5, max_depth=1, learning_rate=0, gamma=0.5, colsample_bytree=1.0, colsample_bylevel=0.5 \n",
      "[12:08:43] WARNING: C:/Users/Administrator/workspace/xgboost-win64_release_1.3.0/src/learner.cc:1061: Starting in XGBoost 1.3.0, the default evaluation metric used with the objective 'binary:logistic' was changed from 'error' to 'logloss'. Explicitly set eval_metric if you'd like to restore the old behavior.\n",
      "[CV]  subsample=0.4, reg_lambda=0.01, n_estimators=10, min_child_weight=0.5, max_depth=1, learning_rate=0, gamma=0.5, colsample_bytree=1.0, colsample_bylevel=0.5, total=   0.0s\n",
      "[CV] subsample=0.4, reg_lambda=0.01, n_estimators=10, min_child_weight=0.5, max_depth=1, learning_rate=0, gamma=0.5, colsample_bytree=1.0, colsample_bylevel=0.5 \n",
      "[12:08:43] WARNING: C:/Users/Administrator/workspace/xgboost-win64_release_1.3.0/src/learner.cc:1061: Starting in XGBoost 1.3.0, the default evaluation metric used with the objective 'binary:logistic' was changed from 'error' to 'logloss'. Explicitly set eval_metric if you'd like to restore the old behavior.\n",
      "[CV]  subsample=0.4, reg_lambda=0.01, n_estimators=10, min_child_weight=0.5, max_depth=1, learning_rate=0, gamma=0.5, colsample_bytree=1.0, colsample_bylevel=0.5, total=   0.0s\n",
      "[CV] subsample=0.4, reg_lambda=0.01, n_estimators=10, min_child_weight=0.5, max_depth=1, learning_rate=0, gamma=0.5, colsample_bytree=1.0, colsample_bylevel=0.5 \n",
      "[12:08:43] WARNING: C:/Users/Administrator/workspace/xgboost-win64_release_1.3.0/src/learner.cc:1061: Starting in XGBoost 1.3.0, the default evaluation metric used with the objective 'binary:logistic' was changed from 'error' to 'logloss'. Explicitly set eval_metric if you'd like to restore the old behavior.\n",
      "[CV]  subsample=0.4, reg_lambda=0.01, n_estimators=10, min_child_weight=0.5, max_depth=1, learning_rate=0, gamma=0.5, colsample_bytree=1.0, colsample_bylevel=0.5, total=   0.0s\n",
      "[CV] subsample=1.0, reg_lambda=0.05, n_estimators=31, min_child_weight=0.5, max_depth=1, learning_rate=0.01, gamma=1.0, colsample_bytree=0.6, colsample_bylevel=0.7 \n"
     ]
    },
    {
     "name": "stderr",
     "output_type": "stream",
     "text": [
      "C:\\ProgramData\\Anaconda3\\lib\\site-packages\\xgboost\\sklearn.py:888: UserWarning: The use of label encoder in XGBClassifier is deprecated and will be removed in a future release. To remove this warning, do the following: 1) Pass option use_label_encoder=False when constructing XGBClassifier object; and 2) Encode your labels (y) as integers starting with 0, i.e. 0, 1, 2, ..., [num_class - 1].\n",
      "  warnings.warn(label_encoder_deprecation_msg, UserWarning)\n",
      "C:\\ProgramData\\Anaconda3\\lib\\site-packages\\xgboost\\sklearn.py:888: UserWarning: The use of label encoder in XGBClassifier is deprecated and will be removed in a future release. To remove this warning, do the following: 1) Pass option use_label_encoder=False when constructing XGBClassifier object; and 2) Encode your labels (y) as integers starting with 0, i.e. 0, 1, 2, ..., [num_class - 1].\n",
      "  warnings.warn(label_encoder_deprecation_msg, UserWarning)\n",
      "C:\\ProgramData\\Anaconda3\\lib\\site-packages\\xgboost\\sklearn.py:888: UserWarning: The use of label encoder in XGBClassifier is deprecated and will be removed in a future release. To remove this warning, do the following: 1) Pass option use_label_encoder=False when constructing XGBClassifier object; and 2) Encode your labels (y) as integers starting with 0, i.e. 0, 1, 2, ..., [num_class - 1].\n",
      "  warnings.warn(label_encoder_deprecation_msg, UserWarning)\n",
      "C:\\ProgramData\\Anaconda3\\lib\\site-packages\\xgboost\\sklearn.py:888: UserWarning: The use of label encoder in XGBClassifier is deprecated and will be removed in a future release. To remove this warning, do the following: 1) Pass option use_label_encoder=False when constructing XGBClassifier object; and 2) Encode your labels (y) as integers starting with 0, i.e. 0, 1, 2, ..., [num_class - 1].\n",
      "  warnings.warn(label_encoder_deprecation_msg, UserWarning)\n",
      "C:\\ProgramData\\Anaconda3\\lib\\site-packages\\xgboost\\sklearn.py:888: UserWarning: The use of label encoder in XGBClassifier is deprecated and will be removed in a future release. To remove this warning, do the following: 1) Pass option use_label_encoder=False when constructing XGBClassifier object; and 2) Encode your labels (y) as integers starting with 0, i.e. 0, 1, 2, ..., [num_class - 1].\n",
      "  warnings.warn(label_encoder_deprecation_msg, UserWarning)\n",
      "C:\\ProgramData\\Anaconda3\\lib\\site-packages\\xgboost\\sklearn.py:888: UserWarning: The use of label encoder in XGBClassifier is deprecated and will be removed in a future release. To remove this warning, do the following: 1) Pass option use_label_encoder=False when constructing XGBClassifier object; and 2) Encode your labels (y) as integers starting with 0, i.e. 0, 1, 2, ..., [num_class - 1].\n",
      "  warnings.warn(label_encoder_deprecation_msg, UserWarning)\n",
      "C:\\ProgramData\\Anaconda3\\lib\\site-packages\\xgboost\\sklearn.py:888: UserWarning: The use of label encoder in XGBClassifier is deprecated and will be removed in a future release. To remove this warning, do the following: 1) Pass option use_label_encoder=False when constructing XGBClassifier object; and 2) Encode your labels (y) as integers starting with 0, i.e. 0, 1, 2, ..., [num_class - 1].\n",
      "  warnings.warn(label_encoder_deprecation_msg, UserWarning)\n"
     ]
    },
    {
     "name": "stdout",
     "output_type": "stream",
     "text": [
      "[12:08:43] WARNING: C:/Users/Administrator/workspace/xgboost-win64_release_1.3.0/src/learner.cc:1061: Starting in XGBoost 1.3.0, the default evaluation metric used with the objective 'binary:logistic' was changed from 'error' to 'logloss'. Explicitly set eval_metric if you'd like to restore the old behavior.\n",
      "[CV]  subsample=1.0, reg_lambda=0.05, n_estimators=31, min_child_weight=0.5, max_depth=1, learning_rate=0.01, gamma=1.0, colsample_bytree=0.6, colsample_bylevel=0.7, total=   0.0s\n",
      "[CV] subsample=1.0, reg_lambda=0.05, n_estimators=31, min_child_weight=0.5, max_depth=1, learning_rate=0.01, gamma=1.0, colsample_bytree=0.6, colsample_bylevel=0.7 \n",
      "[12:08:43] WARNING: C:/Users/Administrator/workspace/xgboost-win64_release_1.3.0/src/learner.cc:1061: Starting in XGBoost 1.3.0, the default evaluation metric used with the objective 'binary:logistic' was changed from 'error' to 'logloss'. Explicitly set eval_metric if you'd like to restore the old behavior.\n",
      "[CV]  subsample=1.0, reg_lambda=0.05, n_estimators=31, min_child_weight=0.5, max_depth=1, learning_rate=0.01, gamma=1.0, colsample_bytree=0.6, colsample_bylevel=0.7, total=   0.0s\n",
      "[CV] subsample=1.0, reg_lambda=0.05, n_estimators=31, min_child_weight=0.5, max_depth=1, learning_rate=0.01, gamma=1.0, colsample_bytree=0.6, colsample_bylevel=0.7 \n",
      "[12:08:43] WARNING: C:/Users/Administrator/workspace/xgboost-win64_release_1.3.0/src/learner.cc:1061: Starting in XGBoost 1.3.0, the default evaluation metric used with the objective 'binary:logistic' was changed from 'error' to 'logloss'. Explicitly set eval_metric if you'd like to restore the old behavior.\n",
      "[CV]  subsample=1.0, reg_lambda=0.05, n_estimators=31, min_child_weight=0.5, max_depth=1, learning_rate=0.01, gamma=1.0, colsample_bytree=0.6, colsample_bylevel=0.7, total=   0.0s\n",
      "[CV] subsample=1.0, reg_lambda=0.05, n_estimators=31, min_child_weight=0.5, max_depth=1, learning_rate=0.01, gamma=1.0, colsample_bytree=0.6, colsample_bylevel=0.7 \n",
      "[12:08:43] WARNING: C:/Users/Administrator/workspace/xgboost-win64_release_1.3.0/src/learner.cc:1061: Starting in XGBoost 1.3.0, the default evaluation metric used with the objective 'binary:logistic' was changed from 'error' to 'logloss'. Explicitly set eval_metric if you'd like to restore the old behavior.\n",
      "[CV]  subsample=1.0, reg_lambda=0.05, n_estimators=31, min_child_weight=0.5, max_depth=1, learning_rate=0.01, gamma=1.0, colsample_bytree=0.6, colsample_bylevel=0.7, total=   0.0s\n",
      "[CV] subsample=1.0, reg_lambda=0.05, n_estimators=31, min_child_weight=0.5, max_depth=1, learning_rate=0.01, gamma=1.0, colsample_bytree=0.6, colsample_bylevel=0.7 \n",
      "[12:08:43] WARNING: C:/Users/Administrator/workspace/xgboost-win64_release_1.3.0/src/learner.cc:1061: Starting in XGBoost 1.3.0, the default evaluation metric used with the objective 'binary:logistic' was changed from 'error' to 'logloss'. Explicitly set eval_metric if you'd like to restore the old behavior.\n",
      "[CV]  subsample=1.0, reg_lambda=0.05, n_estimators=31, min_child_weight=0.5, max_depth=1, learning_rate=0.01, gamma=1.0, colsample_bytree=0.6, colsample_bylevel=0.7, total=   0.0s\n",
      "[CV] subsample=0.6, reg_lambda=0.05, n_estimators=52, min_child_weight=1.0, max_depth=1, learning_rate=0, gamma=0.5, colsample_bytree=0.6, colsample_bylevel=0.8 \n",
      "[12:08:43] WARNING: C:/Users/Administrator/workspace/xgboost-win64_release_1.3.0/src/learner.cc:1061: Starting in XGBoost 1.3.0, the default evaluation metric used with the objective 'binary:logistic' was changed from 'error' to 'logloss'. Explicitly set eval_metric if you'd like to restore the old behavior.\n",
      "[CV]  subsample=0.6, reg_lambda=0.05, n_estimators=52, min_child_weight=1.0, max_depth=1, learning_rate=0, gamma=0.5, colsample_bytree=0.6, colsample_bylevel=0.8, total=   0.0s\n",
      "[CV] subsample=0.6, reg_lambda=0.05, n_estimators=52, min_child_weight=1.0, max_depth=1, learning_rate=0, gamma=0.5, colsample_bytree=0.6, colsample_bylevel=0.8 \n"
     ]
    },
    {
     "name": "stderr",
     "output_type": "stream",
     "text": [
      "C:\\ProgramData\\Anaconda3\\lib\\site-packages\\xgboost\\sklearn.py:888: UserWarning: The use of label encoder in XGBClassifier is deprecated and will be removed in a future release. To remove this warning, do the following: 1) Pass option use_label_encoder=False when constructing XGBClassifier object; and 2) Encode your labels (y) as integers starting with 0, i.e. 0, 1, 2, ..., [num_class - 1].\n",
      "  warnings.warn(label_encoder_deprecation_msg, UserWarning)\n",
      "C:\\ProgramData\\Anaconda3\\lib\\site-packages\\xgboost\\sklearn.py:888: UserWarning: The use of label encoder in XGBClassifier is deprecated and will be removed in a future release. To remove this warning, do the following: 1) Pass option use_label_encoder=False when constructing XGBClassifier object; and 2) Encode your labels (y) as integers starting with 0, i.e. 0, 1, 2, ..., [num_class - 1].\n",
      "  warnings.warn(label_encoder_deprecation_msg, UserWarning)\n",
      "C:\\ProgramData\\Anaconda3\\lib\\site-packages\\xgboost\\sklearn.py:888: UserWarning: The use of label encoder in XGBClassifier is deprecated and will be removed in a future release. To remove this warning, do the following: 1) Pass option use_label_encoder=False when constructing XGBClassifier object; and 2) Encode your labels (y) as integers starting with 0, i.e. 0, 1, 2, ..., [num_class - 1].\n",
      "  warnings.warn(label_encoder_deprecation_msg, UserWarning)\n",
      "C:\\ProgramData\\Anaconda3\\lib\\site-packages\\xgboost\\sklearn.py:888: UserWarning: The use of label encoder in XGBClassifier is deprecated and will be removed in a future release. To remove this warning, do the following: 1) Pass option use_label_encoder=False when constructing XGBClassifier object; and 2) Encode your labels (y) as integers starting with 0, i.e. 0, 1, 2, ..., [num_class - 1].\n",
      "  warnings.warn(label_encoder_deprecation_msg, UserWarning)\n",
      "C:\\ProgramData\\Anaconda3\\lib\\site-packages\\xgboost\\sklearn.py:888: UserWarning: The use of label encoder in XGBClassifier is deprecated and will be removed in a future release. To remove this warning, do the following: 1) Pass option use_label_encoder=False when constructing XGBClassifier object; and 2) Encode your labels (y) as integers starting with 0, i.e. 0, 1, 2, ..., [num_class - 1].\n",
      "  warnings.warn(label_encoder_deprecation_msg, UserWarning)\n",
      "C:\\ProgramData\\Anaconda3\\lib\\site-packages\\xgboost\\sklearn.py:888: UserWarning: The use of label encoder in XGBClassifier is deprecated and will be removed in a future release. To remove this warning, do the following: 1) Pass option use_label_encoder=False when constructing XGBClassifier object; and 2) Encode your labels (y) as integers starting with 0, i.e. 0, 1, 2, ..., [num_class - 1].\n",
      "  warnings.warn(label_encoder_deprecation_msg, UserWarning)\n"
     ]
    },
    {
     "name": "stdout",
     "output_type": "stream",
     "text": [
      "[12:08:43] WARNING: C:/Users/Administrator/workspace/xgboost-win64_release_1.3.0/src/learner.cc:1061: Starting in XGBoost 1.3.0, the default evaluation metric used with the objective 'binary:logistic' was changed from 'error' to 'logloss'. Explicitly set eval_metric if you'd like to restore the old behavior.\n",
      "[CV]  subsample=0.6, reg_lambda=0.05, n_estimators=52, min_child_weight=1.0, max_depth=1, learning_rate=0, gamma=0.5, colsample_bytree=0.6, colsample_bylevel=0.8, total=   0.0s\n",
      "[CV] subsample=0.6, reg_lambda=0.05, n_estimators=52, min_child_weight=1.0, max_depth=1, learning_rate=0, gamma=0.5, colsample_bytree=0.6, colsample_bylevel=0.8 \n",
      "[12:08:43] WARNING: C:/Users/Administrator/workspace/xgboost-win64_release_1.3.0/src/learner.cc:1061: Starting in XGBoost 1.3.0, the default evaluation metric used with the objective 'binary:logistic' was changed from 'error' to 'logloss'. Explicitly set eval_metric if you'd like to restore the old behavior.\n",
      "[CV]  subsample=0.6, reg_lambda=0.05, n_estimators=52, min_child_weight=1.0, max_depth=1, learning_rate=0, gamma=0.5, colsample_bytree=0.6, colsample_bylevel=0.8, total=   0.0s\n",
      "[CV] subsample=0.6, reg_lambda=0.05, n_estimators=52, min_child_weight=1.0, max_depth=1, learning_rate=0, gamma=0.5, colsample_bytree=0.6, colsample_bylevel=0.8 \n",
      "[12:08:43] WARNING: C:/Users/Administrator/workspace/xgboost-win64_release_1.3.0/src/learner.cc:1061: Starting in XGBoost 1.3.0, the default evaluation metric used with the objective 'binary:logistic' was changed from 'error' to 'logloss'. Explicitly set eval_metric if you'd like to restore the old behavior.\n",
      "[CV]  subsample=0.6, reg_lambda=0.05, n_estimators=52, min_child_weight=1.0, max_depth=1, learning_rate=0, gamma=0.5, colsample_bytree=0.6, colsample_bylevel=0.8, total=   0.0s\n",
      "[CV] subsample=0.6, reg_lambda=0.05, n_estimators=52, min_child_weight=1.0, max_depth=1, learning_rate=0, gamma=0.5, colsample_bytree=0.6, colsample_bylevel=0.8 \n",
      "[12:08:43] WARNING: C:/Users/Administrator/workspace/xgboost-win64_release_1.3.0/src/learner.cc:1061: Starting in XGBoost 1.3.0, the default evaluation metric used with the objective 'binary:logistic' was changed from 'error' to 'logloss'. Explicitly set eval_metric if you'd like to restore the old behavior.\n",
      "[CV]  subsample=0.6, reg_lambda=0.05, n_estimators=52, min_child_weight=1.0, max_depth=1, learning_rate=0, gamma=0.5, colsample_bytree=0.6, colsample_bylevel=0.8, total=   0.0s\n",
      "[CV] subsample=0.8, reg_lambda=0.5, n_estimators=136, min_child_weight=1.0, max_depth=1, learning_rate=0, gamma=0.5, colsample_bytree=0.9, colsample_bylevel=0.4 \n",
      "[12:08:44] WARNING: C:/Users/Administrator/workspace/xgboost-win64_release_1.3.0/src/learner.cc:1061: Starting in XGBoost 1.3.0, the default evaluation metric used with the objective 'binary:logistic' was changed from 'error' to 'logloss'. Explicitly set eval_metric if you'd like to restore the old behavior.\n"
     ]
    },
    {
     "name": "stderr",
     "output_type": "stream",
     "text": [
      "C:\\ProgramData\\Anaconda3\\lib\\site-packages\\xgboost\\sklearn.py:888: UserWarning: The use of label encoder in XGBClassifier is deprecated and will be removed in a future release. To remove this warning, do the following: 1) Pass option use_label_encoder=False when constructing XGBClassifier object; and 2) Encode your labels (y) as integers starting with 0, i.e. 0, 1, 2, ..., [num_class - 1].\n",
      "  warnings.warn(label_encoder_deprecation_msg, UserWarning)\n",
      "C:\\ProgramData\\Anaconda3\\lib\\site-packages\\xgboost\\sklearn.py:888: UserWarning: The use of label encoder in XGBClassifier is deprecated and will be removed in a future release. To remove this warning, do the following: 1) Pass option use_label_encoder=False when constructing XGBClassifier object; and 2) Encode your labels (y) as integers starting with 0, i.e. 0, 1, 2, ..., [num_class - 1].\n",
      "  warnings.warn(label_encoder_deprecation_msg, UserWarning)\n",
      "C:\\ProgramData\\Anaconda3\\lib\\site-packages\\xgboost\\sklearn.py:888: UserWarning: The use of label encoder in XGBClassifier is deprecated and will be removed in a future release. To remove this warning, do the following: 1) Pass option use_label_encoder=False when constructing XGBClassifier object; and 2) Encode your labels (y) as integers starting with 0, i.e. 0, 1, 2, ..., [num_class - 1].\n",
      "  warnings.warn(label_encoder_deprecation_msg, UserWarning)\n",
      "C:\\ProgramData\\Anaconda3\\lib\\site-packages\\xgboost\\sklearn.py:888: UserWarning: The use of label encoder in XGBClassifier is deprecated and will be removed in a future release. To remove this warning, do the following: 1) Pass option use_label_encoder=False when constructing XGBClassifier object; and 2) Encode your labels (y) as integers starting with 0, i.e. 0, 1, 2, ..., [num_class - 1].\n",
      "  warnings.warn(label_encoder_deprecation_msg, UserWarning)\n"
     ]
    },
    {
     "name": "stdout",
     "output_type": "stream",
     "text": [
      "[CV]  subsample=0.8, reg_lambda=0.5, n_estimators=136, min_child_weight=1.0, max_depth=1, learning_rate=0, gamma=0.5, colsample_bytree=0.9, colsample_bylevel=0.4, total=   0.0s\n",
      "[CV] subsample=0.8, reg_lambda=0.5, n_estimators=136, min_child_weight=1.0, max_depth=1, learning_rate=0, gamma=0.5, colsample_bytree=0.9, colsample_bylevel=0.4 \n",
      "[12:08:44] WARNING: C:/Users/Administrator/workspace/xgboost-win64_release_1.3.0/src/learner.cc:1061: Starting in XGBoost 1.3.0, the default evaluation metric used with the objective 'binary:logistic' was changed from 'error' to 'logloss'. Explicitly set eval_metric if you'd like to restore the old behavior.\n",
      "[CV]  subsample=0.8, reg_lambda=0.5, n_estimators=136, min_child_weight=1.0, max_depth=1, learning_rate=0, gamma=0.5, colsample_bytree=0.9, colsample_bylevel=0.4, total=   0.0s\n",
      "[CV] subsample=0.8, reg_lambda=0.5, n_estimators=136, min_child_weight=1.0, max_depth=1, learning_rate=0, gamma=0.5, colsample_bytree=0.9, colsample_bylevel=0.4 \n",
      "[12:08:44] WARNING: C:/Users/Administrator/workspace/xgboost-win64_release_1.3.0/src/learner.cc:1061: Starting in XGBoost 1.3.0, the default evaluation metric used with the objective 'binary:logistic' was changed from 'error' to 'logloss'. Explicitly set eval_metric if you'd like to restore the old behavior.\n",
      "[CV]  subsample=0.8, reg_lambda=0.5, n_estimators=136, min_child_weight=1.0, max_depth=1, learning_rate=0, gamma=0.5, colsample_bytree=0.9, colsample_bylevel=0.4, total=   0.0s\n",
      "[CV] subsample=0.8, reg_lambda=0.5, n_estimators=136, min_child_weight=1.0, max_depth=1, learning_rate=0, gamma=0.5, colsample_bytree=0.9, colsample_bylevel=0.4 \n",
      "[12:08:44] WARNING: C:/Users/Administrator/workspace/xgboost-win64_release_1.3.0/src/learner.cc:1061: Starting in XGBoost 1.3.0, the default evaluation metric used with the objective 'binary:logistic' was changed from 'error' to 'logloss'. Explicitly set eval_metric if you'd like to restore the old behavior.\n",
      "[CV]  subsample=0.8, reg_lambda=0.5, n_estimators=136, min_child_weight=1.0, max_depth=1, learning_rate=0, gamma=0.5, colsample_bytree=0.9, colsample_bylevel=0.4, total=   0.0s"
     ]
    },
    {
     "name": "stderr",
     "output_type": "stream",
     "text": [
      "C:\\ProgramData\\Anaconda3\\lib\\site-packages\\xgboost\\sklearn.py:888: UserWarning: The use of label encoder in XGBClassifier is deprecated and will be removed in a future release. To remove this warning, do the following: 1) Pass option use_label_encoder=False when constructing XGBClassifier object; and 2) Encode your labels (y) as integers starting with 0, i.e. 0, 1, 2, ..., [num_class - 1].\n",
      "  warnings.warn(label_encoder_deprecation_msg, UserWarning)\n",
      "C:\\ProgramData\\Anaconda3\\lib\\site-packages\\xgboost\\sklearn.py:888: UserWarning: The use of label encoder in XGBClassifier is deprecated and will be removed in a future release. To remove this warning, do the following: 1) Pass option use_label_encoder=False when constructing XGBClassifier object; and 2) Encode your labels (y) as integers starting with 0, i.e. 0, 1, 2, ..., [num_class - 1].\n",
      "  warnings.warn(label_encoder_deprecation_msg, UserWarning)\n",
      "C:\\ProgramData\\Anaconda3\\lib\\site-packages\\xgboost\\sklearn.py:888: UserWarning: The use of label encoder in XGBClassifier is deprecated and will be removed in a future release. To remove this warning, do the following: 1) Pass option use_label_encoder=False when constructing XGBClassifier object; and 2) Encode your labels (y) as integers starting with 0, i.e. 0, 1, 2, ..., [num_class - 1].\n",
      "  warnings.warn(label_encoder_deprecation_msg, UserWarning)\n"
     ]
    },
    {
     "name": "stdout",
     "output_type": "stream",
     "text": [
      "\n",
      "[CV] subsample=0.8, reg_lambda=0.5, n_estimators=136, min_child_weight=1.0, max_depth=1, learning_rate=0, gamma=0.5, colsample_bytree=0.9, colsample_bylevel=0.4 \n",
      "[12:08:44] WARNING: C:/Users/Administrator/workspace/xgboost-win64_release_1.3.0/src/learner.cc:1061: Starting in XGBoost 1.3.0, the default evaluation metric used with the objective 'binary:logistic' was changed from 'error' to 'logloss'. Explicitly set eval_metric if you'd like to restore the old behavior.\n",
      "[CV]  subsample=0.8, reg_lambda=0.5, n_estimators=136, min_child_weight=1.0, max_depth=1, learning_rate=0, gamma=0.5, colsample_bytree=0.9, colsample_bylevel=0.4, total=   0.0s\n"
     ]
    },
    {
     "name": "stderr",
     "output_type": "stream",
     "text": [
      "C:\\ProgramData\\Anaconda3\\lib\\site-packages\\xgboost\\sklearn.py:888: UserWarning: The use of label encoder in XGBClassifier is deprecated and will be removed in a future release. To remove this warning, do the following: 1) Pass option use_label_encoder=False when constructing XGBClassifier object; and 2) Encode your labels (y) as integers starting with 0, i.e. 0, 1, 2, ..., [num_class - 1].\n",
      "  warnings.warn(label_encoder_deprecation_msg, UserWarning)\n",
      "[Parallel(n_jobs=1)]: Done 100 out of 100 | elapsed:    5.6s finished\n"
     ]
    },
    {
     "data": {
      "text/plain": [
       "({'subsample': 1.0,\n",
       "  'reg_lambda': 0.1,\n",
       "  'n_estimators': 178,\n",
       "  'min_child_weight': 1.0,\n",
       "  'max_depth': 1,\n",
       "  'learning_rate': 0.2,\n",
       "  'gamma': 0.25,\n",
       "  'colsample_bytree': 0.5,\n",
       "  'colsample_bylevel': 0.8},\n",
       " 0.8478989135864136)"
      ]
     },
     "execution_count": 180,
     "metadata": {},
     "output_type": "execute_result"
    }
   ],
   "source": [
    "clf = xgb.XGBClassifier()\n",
    "# Number of trees in random forest\n",
    "n_estimators = [int(x) for x in np.linspace(start = 10, stop = 200, num = 10)]\n",
    "# Maximum number of levels in tree\n",
    "max_depth = [int(x) for x in np.linspace(1, 20, num = 1)]\n",
    "\n",
    "param_grid = {\n",
    "        'max_depth': max_depth,\n",
    "        'learning_rate': [0.001, 0.01, 0.1, 0.2, 0,3],\n",
    "        'subsample': [0.3,0.4,0.5, 0.6, 0.7, 0.8, 0.9, 1.0],\n",
    "        'colsample_bytree': [0.4, 0.5, 0.6, 0.7, 0.8, 0.9, 1.0],\n",
    "        'colsample_bylevel': [0.4, 0.5, 0.6, 0.7, 0.8, 0.9, 1.0],\n",
    "        'min_child_weight': [0.5, 1.0, 3.0, 5.0, 7.0, 10.0],\n",
    "        'gamma': [0, 0.25, 0.5, 1.0],\n",
    "        'reg_lambda': [0.01, 0.05,0.1,0.5,1],\n",
    "        'n_estimators': n_estimators}\n",
    "\n",
    "\n",
    "xgb_clf = RandomizedSearchCV(clf, param_grid, n_iter=20,cv=5,\n",
    "                            n_jobs=1, verbose=2,\n",
    "                            scoring='roc_auc', refit=False, random_state=42)\n",
    "search_xgb=xgb_clf.fit(X_train, y_train)\n",
    "search_xgb.best_params_,search_rf.best_score_"
   ]
  },
  {
   "cell_type": "markdown",
   "metadata": {},
   "source": [
    "##### Observation: random Forest and Xgboost performed on similar Lines with Random Serach CV"
   ]
  },
  {
   "cell_type": "markdown",
   "metadata": {},
   "source": [
    "### Reading the Test Sample"
   ]
  },
  {
   "cell_type": "code",
   "execution_count": 181,
   "metadata": {},
   "outputs": [],
   "source": [
    "df_test=pd.read_csv(\"zeta-disease_prediction-data.csv\")"
   ]
  },
  {
   "cell_type": "code",
   "execution_count": 182,
   "metadata": {},
   "outputs": [
    {
     "data": {
      "text/html": [
       "<div>\n",
       "<style scoped>\n",
       "    .dataframe tbody tr th:only-of-type {\n",
       "        vertical-align: middle;\n",
       "    }\n",
       "\n",
       "    .dataframe tbody tr th {\n",
       "        vertical-align: top;\n",
       "    }\n",
       "\n",
       "    .dataframe thead th {\n",
       "        text-align: right;\n",
       "    }\n",
       "</style>\n",
       "<table border=\"1\" class=\"dataframe\">\n",
       "  <thead>\n",
       "    <tr style=\"text-align: right;\">\n",
       "      <th></th>\n",
       "      <th>age</th>\n",
       "      <th>weight</th>\n",
       "      <th>bmi</th>\n",
       "      <th>blood_pressure</th>\n",
       "      <th>insulin_test</th>\n",
       "      <th>liver_stress_test</th>\n",
       "      <th>cardio_stress_test</th>\n",
       "      <th>years_smoking</th>\n",
       "      <th>zeta_disease</th>\n",
       "    </tr>\n",
       "  </thead>\n",
       "  <tbody>\n",
       "    <tr>\n",
       "      <th>0</th>\n",
       "      <td>24</td>\n",
       "      <td>151</td>\n",
       "      <td>39.5</td>\n",
       "      <td>69</td>\n",
       "      <td>72</td>\n",
       "      <td>1.3968</td>\n",
       "      <td>56</td>\n",
       "      <td>4</td>\n",
       "      <td>NaN</td>\n",
       "    </tr>\n",
       "    <tr>\n",
       "      <th>1</th>\n",
       "      <td>27</td>\n",
       "      <td>179</td>\n",
       "      <td>35.5</td>\n",
       "      <td>89</td>\n",
       "      <td>156</td>\n",
       "      <td>1.6608</td>\n",
       "      <td>43</td>\n",
       "      <td>6</td>\n",
       "      <td>NaN</td>\n",
       "    </tr>\n",
       "    <tr>\n",
       "      <th>2</th>\n",
       "      <td>34</td>\n",
       "      <td>147</td>\n",
       "      <td>26.9</td>\n",
       "      <td>76</td>\n",
       "      <td>74</td>\n",
       "      <td>1.6958</td>\n",
       "      <td>53</td>\n",
       "      <td>2</td>\n",
       "      <td>NaN</td>\n",
       "    </tr>\n",
       "    <tr>\n",
       "      <th>3</th>\n",
       "      <td>35</td>\n",
       "      <td>206</td>\n",
       "      <td>32.4</td>\n",
       "      <td>73</td>\n",
       "      <td>127</td>\n",
       "      <td>1.4608</td>\n",
       "      <td>61</td>\n",
       "      <td>6</td>\n",
       "      <td>NaN</td>\n",
       "    </tr>\n",
       "    <tr>\n",
       "      <th>4</th>\n",
       "      <td>60</td>\n",
       "      <td>193</td>\n",
       "      <td>29.8</td>\n",
       "      <td>62</td>\n",
       "      <td>192</td>\n",
       "      <td>1.7798</td>\n",
       "      <td>65</td>\n",
       "      <td>9</td>\n",
       "      <td>NaN</td>\n",
       "    </tr>\n",
       "  </tbody>\n",
       "</table>\n",
       "</div>"
      ],
      "text/plain": [
       "   age  weight   bmi  blood_pressure  insulin_test  liver_stress_test  \\\n",
       "0   24     151  39.5              69            72             1.3968   \n",
       "1   27     179  35.5              89           156             1.6608   \n",
       "2   34     147  26.9              76            74             1.6958   \n",
       "3   35     206  32.4              73           127             1.4608   \n",
       "4   60     193  29.8              62           192             1.7798   \n",
       "\n",
       "   cardio_stress_test  years_smoking  zeta_disease  \n",
       "0                  56              4           NaN  \n",
       "1                  43              6           NaN  \n",
       "2                  53              2           NaN  \n",
       "3                  61              6           NaN  \n",
       "4                  65              9           NaN  "
      ]
     },
     "execution_count": 182,
     "metadata": {},
     "output_type": "execute_result"
    }
   ],
   "source": [
    "df_test.head()"
   ]
  },
  {
   "cell_type": "markdown",
   "metadata": {},
   "source": [
    "#### Outlier Treatmeant:"
   ]
  },
  {
   "cell_type": "code",
   "execution_count": 183,
   "metadata": {},
   "outputs": [],
   "source": [
    "bmi_upper_limit, bmi_lower_limit = find_skewed_boundaries(df_test, 'bmi', 1.5)\n",
    "df_test['bmi']= np.where(df_test['bmi'] > bmi_upper_limit, bmi_upper_limit,\n",
    "                       np.where(df_test['bmi'] < bmi_lower_limit, bmi_lower_limit, df_test['bmi']))"
   ]
  },
  {
   "cell_type": "code",
   "execution_count": 184,
   "metadata": {},
   "outputs": [],
   "source": [
    "blood_pressure_upper_limit, blood_pressure_lower_limit = find_skewed_boundaries(df_test, 'blood_pressure', 1.5)\n",
    "df_test['bmi']= np.where(df_test['blood_pressure'] > blood_pressure_upper_limit, blood_pressure_upper_limit,\n",
    "                       np.where(df_test['blood_pressure'] < blood_pressure_lower_limit, blood_pressure_lower_limit, df_test['blood_pressure']))"
   ]
  },
  {
   "cell_type": "code",
   "execution_count": 185,
   "metadata": {},
   "outputs": [
    {
     "data": {
      "text/plain": [
       "(2.2268, 0.9227999999999998)"
      ]
     },
     "execution_count": 185,
     "metadata": {},
     "output_type": "execute_result"
    }
   ],
   "source": [
    "liver_stress_test_upper_limit, liver_stress_test_lower_limit = find_skewed_boundaries(df_test, 'liver_stress_test', 1.5)\n",
    "liver_stress_test_upper_limit, liver_stress_test_lower_limit"
   ]
  },
  {
   "cell_type": "code",
   "execution_count": 186,
   "metadata": {},
   "outputs": [
    {
     "data": {
      "text/plain": [
       "(305.0, -61.0)"
      ]
     },
     "execution_count": 186,
     "metadata": {},
     "output_type": "execute_result"
    }
   ],
   "source": [
    "insulin_test_upper_limit, insulin_test_lower_limit = find_skewed_boundaries(df_test, 'insulin_test', 1.5)\n",
    "insulin_test_upper_limit, insulin_test_lower_limit"
   ]
  },
  {
   "cell_type": "code",
   "execution_count": 187,
   "metadata": {},
   "outputs": [],
   "source": [
    "insulin_test_g_upper_limit, insulin_test_g_lower_limit = find_boundaries(df_test, 'insulin_test')"
   ]
  },
  {
   "cell_type": "code",
   "execution_count": 188,
   "metadata": {},
   "outputs": [],
   "source": [
    "df_test['liver_stress_test']= np.where(df_test['liver_stress_test'] > liver_stress_test_upper_limit, liver_stress_test_upper_limit,\n",
    "                       np.where(df_test['liver_stress_test'] < liver_stress_test_lower_limit, liver_stress_test_lower_limit, df_test['liver_stress_test']))"
   ]
  },
  {
   "cell_type": "code",
   "execution_count": 189,
   "metadata": {},
   "outputs": [
    {
     "data": {
      "text/plain": [
       "((20, 8), (20,))"
      ]
     },
     "execution_count": 189,
     "metadata": {},
     "output_type": "execute_result"
    }
   ],
   "source": [
    "# separate dataset into train and validation\n",
    "X_test, y_test=df_test.drop(labels=['zeta_disease'],axis=1), df_test['zeta_disease']\n",
    "X_test.shape, y_test.shape"
   ]
  },
  {
   "cell_type": "code",
   "execution_count": 190,
   "metadata": {},
   "outputs": [],
   "source": [
    "#predicting the test dataset for randomforest\n",
    "rf_clf = RandomForestClassifier(n_estimators=200, min_samples_split=2,min_samples_leaf=2,max_features='sqrt',max_depth=20,bootstrap=True,\n",
    "                                random_state=42)\n",
    "rf_clf.fit(X_train, y_train)\n",
    "predictions_rf = rf_clf.predict(X_test)"
   ]
  },
  {
   "cell_type": "code",
   "execution_count": 191,
   "metadata": {},
   "outputs": [],
   "source": [
    "df_test['zeta_disease']=predictions_rf"
   ]
  },
  {
   "cell_type": "markdown",
   "metadata": {},
   "source": [
    "### Final Prediction"
   ]
  },
  {
   "cell_type": "code",
   "execution_count": 192,
   "metadata": {},
   "outputs": [
    {
     "data": {
      "text/html": [
       "<div>\n",
       "<style scoped>\n",
       "    .dataframe tbody tr th:only-of-type {\n",
       "        vertical-align: middle;\n",
       "    }\n",
       "\n",
       "    .dataframe tbody tr th {\n",
       "        vertical-align: top;\n",
       "    }\n",
       "\n",
       "    .dataframe thead th {\n",
       "        text-align: right;\n",
       "    }\n",
       "</style>\n",
       "<table border=\"1\" class=\"dataframe\">\n",
       "  <thead>\n",
       "    <tr style=\"text-align: right;\">\n",
       "      <th></th>\n",
       "      <th>age</th>\n",
       "      <th>weight</th>\n",
       "      <th>bmi</th>\n",
       "      <th>blood_pressure</th>\n",
       "      <th>insulin_test</th>\n",
       "      <th>liver_stress_test</th>\n",
       "      <th>cardio_stress_test</th>\n",
       "      <th>years_smoking</th>\n",
       "      <th>zeta_disease</th>\n",
       "    </tr>\n",
       "  </thead>\n",
       "  <tbody>\n",
       "    <tr>\n",
       "      <th>0</th>\n",
       "      <td>24</td>\n",
       "      <td>151</td>\n",
       "      <td>69.0</td>\n",
       "      <td>69</td>\n",
       "      <td>72</td>\n",
       "      <td>1.3968</td>\n",
       "      <td>56</td>\n",
       "      <td>4</td>\n",
       "      <td>0</td>\n",
       "    </tr>\n",
       "    <tr>\n",
       "      <th>1</th>\n",
       "      <td>27</td>\n",
       "      <td>179</td>\n",
       "      <td>89.0</td>\n",
       "      <td>89</td>\n",
       "      <td>156</td>\n",
       "      <td>1.6608</td>\n",
       "      <td>43</td>\n",
       "      <td>6</td>\n",
       "      <td>1</td>\n",
       "    </tr>\n",
       "    <tr>\n",
       "      <th>2</th>\n",
       "      <td>34</td>\n",
       "      <td>147</td>\n",
       "      <td>76.0</td>\n",
       "      <td>76</td>\n",
       "      <td>74</td>\n",
       "      <td>1.6958</td>\n",
       "      <td>53</td>\n",
       "      <td>2</td>\n",
       "      <td>0</td>\n",
       "    </tr>\n",
       "    <tr>\n",
       "      <th>3</th>\n",
       "      <td>35</td>\n",
       "      <td>206</td>\n",
       "      <td>73.0</td>\n",
       "      <td>73</td>\n",
       "      <td>127</td>\n",
       "      <td>1.4608</td>\n",
       "      <td>61</td>\n",
       "      <td>6</td>\n",
       "      <td>1</td>\n",
       "    </tr>\n",
       "    <tr>\n",
       "      <th>4</th>\n",
       "      <td>60</td>\n",
       "      <td>193</td>\n",
       "      <td>62.0</td>\n",
       "      <td>62</td>\n",
       "      <td>192</td>\n",
       "      <td>1.7798</td>\n",
       "      <td>65</td>\n",
       "      <td>9</td>\n",
       "      <td>1</td>\n",
       "    </tr>\n",
       "    <tr>\n",
       "      <th>5</th>\n",
       "      <td>45</td>\n",
       "      <td>120</td>\n",
       "      <td>108.0</td>\n",
       "      <td>108</td>\n",
       "      <td>50</td>\n",
       "      <td>1.2978</td>\n",
       "      <td>54</td>\n",
       "      <td>12</td>\n",
       "      <td>0</td>\n",
       "    </tr>\n",
       "    <tr>\n",
       "      <th>6</th>\n",
       "      <td>20</td>\n",
       "      <td>139</td>\n",
       "      <td>61.0</td>\n",
       "      <td>61</td>\n",
       "      <td>77</td>\n",
       "      <td>1.5818</td>\n",
       "      <td>68</td>\n",
       "      <td>3</td>\n",
       "      <td>0</td>\n",
       "    </tr>\n",
       "    <tr>\n",
       "      <th>7</th>\n",
       "      <td>23</td>\n",
       "      <td>137</td>\n",
       "      <td>70.0</td>\n",
       "      <td>70</td>\n",
       "      <td>73</td>\n",
       "      <td>1.4168</td>\n",
       "      <td>59</td>\n",
       "      <td>7</td>\n",
       "      <td>0</td>\n",
       "    </tr>\n",
       "    <tr>\n",
       "      <th>8</th>\n",
       "      <td>36</td>\n",
       "      <td>195</td>\n",
       "      <td>59.0</td>\n",
       "      <td>59</td>\n",
       "      <td>141</td>\n",
       "      <td>1.4498</td>\n",
       "      <td>59</td>\n",
       "      <td>6</td>\n",
       "      <td>1</td>\n",
       "    </tr>\n",
       "    <tr>\n",
       "      <th>9</th>\n",
       "      <td>19</td>\n",
       "      <td>193</td>\n",
       "      <td>84.0</td>\n",
       "      <td>84</td>\n",
       "      <td>66</td>\n",
       "      <td>1.7938</td>\n",
       "      <td>50</td>\n",
       "      <td>3</td>\n",
       "      <td>1</td>\n",
       "    </tr>\n",
       "    <tr>\n",
       "      <th>10</th>\n",
       "      <td>47</td>\n",
       "      <td>216</td>\n",
       "      <td>70.0</td>\n",
       "      <td>70</td>\n",
       "      <td>170</td>\n",
       "      <td>1.7238</td>\n",
       "      <td>58</td>\n",
       "      <td>7</td>\n",
       "      <td>1</td>\n",
       "    </tr>\n",
       "    <tr>\n",
       "      <th>11</th>\n",
       "      <td>40</td>\n",
       "      <td>200</td>\n",
       "      <td>69.0</td>\n",
       "      <td>69</td>\n",
       "      <td>128</td>\n",
       "      <td>1.3118</td>\n",
       "      <td>60</td>\n",
       "      <td>3</td>\n",
       "      <td>1</td>\n",
       "    </tr>\n",
       "    <tr>\n",
       "      <th>12</th>\n",
       "      <td>21</td>\n",
       "      <td>154</td>\n",
       "      <td>88.0</td>\n",
       "      <td>88</td>\n",
       "      <td>121</td>\n",
       "      <td>1.2498</td>\n",
       "      <td>68</td>\n",
       "      <td>4</td>\n",
       "      <td>1</td>\n",
       "    </tr>\n",
       "    <tr>\n",
       "      <th>13</th>\n",
       "      <td>52</td>\n",
       "      <td>196</td>\n",
       "      <td>90.0</td>\n",
       "      <td>90</td>\n",
       "      <td>167</td>\n",
       "      <td>1.9238</td>\n",
       "      <td>66</td>\n",
       "      <td>10</td>\n",
       "      <td>1</td>\n",
       "    </tr>\n",
       "    <tr>\n",
       "      <th>14</th>\n",
       "      <td>30</td>\n",
       "      <td>181</td>\n",
       "      <td>93.0</td>\n",
       "      <td>93</td>\n",
       "      <td>157</td>\n",
       "      <td>2.0508</td>\n",
       "      <td>80</td>\n",
       "      <td>5</td>\n",
       "      <td>1</td>\n",
       "    </tr>\n",
       "    <tr>\n",
       "      <th>15</th>\n",
       "      <td>46</td>\n",
       "      <td>213</td>\n",
       "      <td>70.0</td>\n",
       "      <td>70</td>\n",
       "      <td>133</td>\n",
       "      <td>1.4788</td>\n",
       "      <td>55</td>\n",
       "      <td>12</td>\n",
       "      <td>1</td>\n",
       "    </tr>\n",
       "    <tr>\n",
       "      <th>16</th>\n",
       "      <td>29</td>\n",
       "      <td>173</td>\n",
       "      <td>91.0</td>\n",
       "      <td>91</td>\n",
       "      <td>221</td>\n",
       "      <td>1.4878</td>\n",
       "      <td>83</td>\n",
       "      <td>3</td>\n",
       "      <td>1</td>\n",
       "    </tr>\n",
       "    <tr>\n",
       "      <th>17</th>\n",
       "      <td>36</td>\n",
       "      <td>202</td>\n",
       "      <td>72.0</td>\n",
       "      <td>72</td>\n",
       "      <td>273</td>\n",
       "      <td>1.8748</td>\n",
       "      <td>72</td>\n",
       "      <td>13</td>\n",
       "      <td>1</td>\n",
       "    </tr>\n",
       "    <tr>\n",
       "      <th>18</th>\n",
       "      <td>27</td>\n",
       "      <td>197</td>\n",
       "      <td>72.0</td>\n",
       "      <td>72</td>\n",
       "      <td>362</td>\n",
       "      <td>1.4298</td>\n",
       "      <td>69</td>\n",
       "      <td>4</td>\n",
       "      <td>1</td>\n",
       "    </tr>\n",
       "    <tr>\n",
       "      <th>19</th>\n",
       "      <td>44</td>\n",
       "      <td>184</td>\n",
       "      <td>104.0</td>\n",
       "      <td>104</td>\n",
       "      <td>141</td>\n",
       "      <td>1.3268</td>\n",
       "      <td>60</td>\n",
       "      <td>2</td>\n",
       "      <td>1</td>\n",
       "    </tr>\n",
       "  </tbody>\n",
       "</table>\n",
       "</div>"
      ],
      "text/plain": [
       "    age  weight    bmi  blood_pressure  insulin_test  liver_stress_test  \\\n",
       "0    24     151   69.0              69            72             1.3968   \n",
       "1    27     179   89.0              89           156             1.6608   \n",
       "2    34     147   76.0              76            74             1.6958   \n",
       "3    35     206   73.0              73           127             1.4608   \n",
       "4    60     193   62.0              62           192             1.7798   \n",
       "5    45     120  108.0             108            50             1.2978   \n",
       "6    20     139   61.0              61            77             1.5818   \n",
       "7    23     137   70.0              70            73             1.4168   \n",
       "8    36     195   59.0              59           141             1.4498   \n",
       "9    19     193   84.0              84            66             1.7938   \n",
       "10   47     216   70.0              70           170             1.7238   \n",
       "11   40     200   69.0              69           128             1.3118   \n",
       "12   21     154   88.0              88           121             1.2498   \n",
       "13   52     196   90.0              90           167             1.9238   \n",
       "14   30     181   93.0              93           157             2.0508   \n",
       "15   46     213   70.0              70           133             1.4788   \n",
       "16   29     173   91.0              91           221             1.4878   \n",
       "17   36     202   72.0              72           273             1.8748   \n",
       "18   27     197   72.0              72           362             1.4298   \n",
       "19   44     184  104.0             104           141             1.3268   \n",
       "\n",
       "    cardio_stress_test  years_smoking  zeta_disease  \n",
       "0                   56              4             0  \n",
       "1                   43              6             1  \n",
       "2                   53              2             0  \n",
       "3                   61              6             1  \n",
       "4                   65              9             1  \n",
       "5                   54             12             0  \n",
       "6                   68              3             0  \n",
       "7                   59              7             0  \n",
       "8                   59              6             1  \n",
       "9                   50              3             1  \n",
       "10                  58              7             1  \n",
       "11                  60              3             1  \n",
       "12                  68              4             1  \n",
       "13                  66             10             1  \n",
       "14                  80              5             1  \n",
       "15                  55             12             1  \n",
       "16                  83              3             1  \n",
       "17                  72             13             1  \n",
       "18                  69              4             1  \n",
       "19                  60              2             1  "
      ]
     },
     "execution_count": 192,
     "metadata": {},
     "output_type": "execute_result"
    }
   ],
   "source": [
    "df_test"
   ]
  },
  {
   "cell_type": "markdown",
   "metadata": {},
   "source": [
    "##### Implementing simple Neural Network- Extra Analysis- Still Hyper parameters needs to be Tuned"
   ]
  },
  {
   "cell_type": "code",
   "execution_count": 193,
   "metadata": {},
   "outputs": [
    {
     "name": "stderr",
     "output_type": "stream",
     "text": [
      "C:\\ProgramData\\Anaconda3\\lib\\site-packages\\ipykernel_launcher.py:22: UserWarning: The `nb_epoch` argument in `fit` has been renamed `epochs`.\n"
     ]
    },
    {
     "name": "stdout",
     "output_type": "stream",
     "text": [
      "Epoch 1/100\n",
      "800/800 [==============================] - 0s 344us/step - loss: 0.6779 - accuracy: 0.6513\n",
      "Epoch 2/100\n",
      "800/800 [==============================] - 0s 109us/step - loss: 0.6634 - accuracy: 0.6513\n",
      "Epoch 3/100\n",
      "800/800 [==============================] - 0s 111us/step - loss: 0.6589 - accuracy: 0.6513\n",
      "Epoch 4/100\n",
      "800/800 [==============================] - 0s 112us/step - loss: 0.6534 - accuracy: 0.6513\n",
      "Epoch 5/100\n",
      "800/800 [==============================] - 0s 111us/step - loss: 0.6489 - accuracy: 0.6513\n",
      "Epoch 6/100\n",
      "800/800 [==============================] - 0s 114us/step - loss: 0.6411 - accuracy: 0.6513\n",
      "Epoch 7/100\n",
      "800/800 [==============================] - 0s 113us/step - loss: 0.6342 - accuracy: 0.6513\n",
      "Epoch 8/100\n",
      "800/800 [==============================] - 0s 106us/step - loss: 0.6236 - accuracy: 0.6513\n",
      "Epoch 9/100\n",
      "800/800 [==============================] - 0s 110us/step - loss: 0.6107 - accuracy: 0.6513\n",
      "Epoch 10/100\n",
      "800/800 [==============================] - 0s 113us/step - loss: 0.6027 - accuracy: 0.6513\n",
      "Epoch 11/100\n",
      "800/800 [==============================] - 0s 113us/step - loss: 0.5897 - accuracy: 0.6513\n",
      "Epoch 12/100\n",
      "800/800 [==============================] - 0s 124us/step - loss: 0.5794 - accuracy: 0.6513\n",
      "Epoch 13/100\n",
      "800/800 [==============================] - 0s 115us/step - loss: 0.5697 - accuracy: 0.6513\n",
      "Epoch 14/100\n",
      "800/800 [==============================] - 0s 110us/step - loss: 0.5624 - accuracy: 0.6513\n",
      "Epoch 15/100\n",
      "800/800 [==============================] - 0s 107us/step - loss: 0.5561 - accuracy: 0.6513\n",
      "Epoch 16/100\n",
      "800/800 [==============================] - 0s 113us/step - loss: 0.5506 - accuracy: 0.6513\n",
      "Epoch 17/100\n",
      "800/800 [==============================] - 0s 107us/step - loss: 0.5411 - accuracy: 0.6513\n",
      "Epoch 18/100\n",
      "800/800 [==============================] - 0s 115us/step - loss: 0.5382 - accuracy: 0.6513\n",
      "Epoch 19/100\n",
      "800/800 [==============================] - 0s 113us/step - loss: 0.5354 - accuracy: 0.7337\n",
      "Epoch 20/100\n",
      "800/800 [==============================] - 0s 113us/step - loss: 0.5338 - accuracy: 0.7337\n",
      "Epoch 21/100\n",
      "800/800 [==============================] - 0s 113us/step - loss: 0.5295 - accuracy: 0.7400\n",
      "Epoch 22/100\n",
      "800/800 [==============================] - 0s 112us/step - loss: 0.5286 - accuracy: 0.7412\n",
      "Epoch 23/100\n",
      "800/800 [==============================] - 0s 111us/step - loss: 0.5289 - accuracy: 0.7350\n",
      "Epoch 24/100\n",
      "800/800 [==============================] - 0s 111us/step - loss: 0.5231 - accuracy: 0.7412\n",
      "Epoch 25/100\n",
      "800/800 [==============================] - 0s 109us/step - loss: 0.5255 - accuracy: 0.7312\n",
      "Epoch 26/100\n",
      "800/800 [==============================] - 0s 115us/step - loss: 0.5286 - accuracy: 0.7362\n",
      "Epoch 27/100\n",
      "800/800 [==============================] - 0s 108us/step - loss: 0.5418 - accuracy: 0.7138\n",
      "Epoch 28/100\n",
      "800/800 [==============================] - 0s 114us/step - loss: 0.5328 - accuracy: 0.7275\n",
      "Epoch 29/100\n",
      "800/800 [==============================] - 0s 112us/step - loss: 0.5246 - accuracy: 0.7487\n",
      "Epoch 30/100\n",
      "800/800 [==============================] - 0s 108us/step - loss: 0.5153 - accuracy: 0.7400\n",
      "Epoch 31/100\n",
      "800/800 [==============================] - 0s 114us/step - loss: 0.5270 - accuracy: 0.7462\n",
      "Epoch 32/100\n",
      "800/800 [==============================] - 0s 114us/step - loss: 0.5133 - accuracy: 0.7475\n",
      "Epoch 33/100\n",
      "800/800 [==============================] - 0s 109us/step - loss: 0.5168 - accuracy: 0.7237\n",
      "Epoch 34/100\n",
      "800/800 [==============================] - 0s 107us/step - loss: 0.5080 - accuracy: 0.7500\n",
      "Epoch 35/100\n",
      "800/800 [==============================] - 0s 108us/step - loss: 0.5176 - accuracy: 0.7312\n",
      "Epoch 36/100\n",
      "800/800 [==============================] - 0s 113us/step - loss: 0.5144 - accuracy: 0.7337\n",
      "Epoch 37/100\n",
      "800/800 [==============================] - 0s 111us/step - loss: 0.5117 - accuracy: 0.7375\n",
      "Epoch 38/100\n",
      "800/800 [==============================] - 0s 110us/step - loss: 0.5081 - accuracy: 0.7450\n",
      "Epoch 39/100\n",
      "800/800 [==============================] - 0s 106us/step - loss: 0.5123 - accuracy: 0.7350\n",
      "Epoch 40/100\n",
      "800/800 [==============================] - 0s 122us/step - loss: 0.5105 - accuracy: 0.7437\n",
      "Epoch 41/100\n",
      "800/800 [==============================] - 0s 110us/step - loss: 0.5083 - accuracy: 0.7425\n",
      "Epoch 42/100\n",
      "800/800 [==============================] - 0s 109us/step - loss: 0.4999 - accuracy: 0.7462\n",
      "Epoch 43/100\n",
      "800/800 [==============================] - 0s 113us/step - loss: 0.5024 - accuracy: 0.7462\n",
      "Epoch 44/100\n",
      "800/800 [==============================] - 0s 109us/step - loss: 0.4972 - accuracy: 0.7412\n",
      "Epoch 45/100\n",
      "800/800 [==============================] - 0s 105us/step - loss: 0.4972 - accuracy: 0.7325\n",
      "Epoch 46/100\n",
      "800/800 [==============================] - 0s 110us/step - loss: 0.4909 - accuracy: 0.7563\n",
      "Epoch 47/100\n",
      "800/800 [==============================] - 0s 110us/step - loss: 0.4914 - accuracy: 0.7487\n",
      "Epoch 48/100\n",
      "800/800 [==============================] - 0s 112us/step - loss: 0.4899 - accuracy: 0.7475\n",
      "Epoch 49/100\n",
      "800/800 [==============================] - 0s 113us/step - loss: 0.4947 - accuracy: 0.7400\n",
      "Epoch 50/100\n",
      "800/800 [==============================] - 0s 107us/step - loss: 0.4924 - accuracy: 0.7462\n",
      "Epoch 51/100\n",
      "800/800 [==============================] - 0s 122us/step - loss: 0.4942 - accuracy: 0.7437\n",
      "Epoch 52/100\n",
      "800/800 [==============================] - 0s 126us/step - loss: 0.4966 - accuracy: 0.7412\n",
      "Epoch 53/100\n",
      "800/800 [==============================] - 0s 107us/step - loss: 0.4835 - accuracy: 0.7538\n",
      "Epoch 54/100\n",
      "800/800 [==============================] - 0s 111us/step - loss: 0.4911 - accuracy: 0.7412\n",
      "Epoch 55/100\n",
      "800/800 [==============================] - 0s 111us/step - loss: 0.4912 - accuracy: 0.7487\n",
      "Epoch 56/100\n",
      "800/800 [==============================] - 0s 108us/step - loss: 0.4897 - accuracy: 0.7487\n",
      "Epoch 57/100\n",
      "800/800 [==============================] - 0s 114us/step - loss: 0.4898 - accuracy: 0.7525\n",
      "Epoch 58/100\n",
      "800/800 [==============================] - 0s 107us/step - loss: 0.4855 - accuracy: 0.7475\n",
      "Epoch 59/100\n",
      "800/800 [==============================] - 0s 109us/step - loss: 0.4898 - accuracy: 0.7525\n",
      "Epoch 60/100\n",
      "800/800 [==============================] - 0s 108us/step - loss: 0.4828 - accuracy: 0.7563\n",
      "Epoch 61/100\n",
      "800/800 [==============================] - 0s 109us/step - loss: 0.4860 - accuracy: 0.7462\n",
      "Epoch 62/100\n",
      "800/800 [==============================] - 0s 119us/step - loss: 0.4816 - accuracy: 0.7613\n",
      "Epoch 63/100\n",
      "800/800 [==============================] - 0s 115us/step - loss: 0.4879 - accuracy: 0.7350\n",
      "Epoch 64/100\n",
      "800/800 [==============================] - 0s 112us/step - loss: 0.4998 - accuracy: 0.7487\n",
      "Epoch 65/100\n",
      "800/800 [==============================] - 0s 110us/step - loss: 0.4777 - accuracy: 0.7613\n",
      "Epoch 66/100\n",
      "800/800 [==============================] - 0s 108us/step - loss: 0.4866 - accuracy: 0.7487\n",
      "Epoch 67/100\n",
      "800/800 [==============================] - 0s 115us/step - loss: 0.4869 - accuracy: 0.7525\n",
      "Epoch 68/100\n",
      "800/800 [==============================] - 0s 111us/step - loss: 0.4815 - accuracy: 0.7525\n",
      "Epoch 69/100\n",
      "800/800 [==============================] - 0s 111us/step - loss: 0.4810 - accuracy: 0.7525\n",
      "Epoch 70/100\n",
      "800/800 [==============================] - 0s 110us/step - loss: 0.4809 - accuracy: 0.7550\n",
      "Epoch 71/100\n",
      "800/800 [==============================] - 0s 110us/step - loss: 0.4770 - accuracy: 0.7525\n",
      "Epoch 72/100\n",
      "800/800 [==============================] - 0s 108us/step - loss: 0.4763 - accuracy: 0.7613\n",
      "Epoch 73/100\n",
      "800/800 [==============================] - 0s 116us/step - loss: 0.4855 - accuracy: 0.7513\n",
      "Epoch 74/100\n",
      "800/800 [==============================] - 0s 112us/step - loss: 0.4867 - accuracy: 0.7625\n",
      "Epoch 75/100\n",
      "800/800 [==============================] - 0s 108us/step - loss: 0.4801 - accuracy: 0.7600\n",
      "Epoch 76/100\n",
      "800/800 [==============================] - 0s 110us/step - loss: 0.4806 - accuracy: 0.76130s - loss: 0.4973 - accuracy: 0.74\n",
      "Epoch 77/100\n",
      "800/800 [==============================] - 0s 110us/step - loss: 0.4801 - accuracy: 0.7638\n",
      "Epoch 78/100\n",
      "800/800 [==============================] - 0s 111us/step - loss: 0.4854 - accuracy: 0.7437\n",
      "Epoch 79/100\n"
     ]
    },
    {
     "name": "stdout",
     "output_type": "stream",
     "text": [
      "800/800 [==============================] - 0s 114us/step - loss: 0.4878 - accuracy: 0.7487\n",
      "Epoch 80/100\n",
      "800/800 [==============================] - 0s 109us/step - loss: 0.4764 - accuracy: 0.7538\n",
      "Epoch 81/100\n",
      "800/800 [==============================] - 0s 109us/step - loss: 0.4775 - accuracy: 0.7513\n",
      "Epoch 82/100\n",
      "800/800 [==============================] - 0s 112us/step - loss: 0.4790 - accuracy: 0.7475\n",
      "Epoch 83/100\n",
      "800/800 [==============================] - 0s 109us/step - loss: 0.4821 - accuracy: 0.7425\n",
      "Epoch 84/100\n",
      "800/800 [==============================] - 0s 115us/step - loss: 0.4815 - accuracy: 0.7513\n",
      "Epoch 85/100\n",
      "800/800 [==============================] - 0s 110us/step - loss: 0.4819 - accuracy: 0.7588\n",
      "Epoch 86/100\n",
      "800/800 [==============================] - 0s 112us/step - loss: 0.4769 - accuracy: 0.7550\n",
      "Epoch 87/100\n",
      "800/800 [==============================] - 0s 104us/step - loss: 0.4755 - accuracy: 0.7563\n",
      "Epoch 88/100\n",
      "800/800 [==============================] - 0s 113us/step - loss: 0.4751 - accuracy: 0.7588\n",
      "Epoch 89/100\n",
      "800/800 [==============================] - 0s 109us/step - loss: 0.4694 - accuracy: 0.7650\n",
      "Epoch 90/100\n",
      "800/800 [==============================] - 0s 112us/step - loss: 0.4850 - accuracy: 0.7475\n",
      "Epoch 91/100\n",
      "800/800 [==============================] - 0s 114us/step - loss: 0.4769 - accuracy: 0.7513\n",
      "Epoch 92/100\n",
      "800/800 [==============================] - 0s 110us/step - loss: 0.4757 - accuracy: 0.7563\n",
      "Epoch 93/100\n",
      "800/800 [==============================] - 0s 110us/step - loss: 0.4787 - accuracy: 0.7513\n",
      "Epoch 94/100\n",
      "800/800 [==============================] - 0s 111us/step - loss: 0.4690 - accuracy: 0.7600\n",
      "Epoch 95/100\n",
      "800/800 [==============================] - 0s 112us/step - loss: 0.4727 - accuracy: 0.7650\n",
      "Epoch 96/100\n",
      "800/800 [==============================] - ETA: 0s - loss: 0.4587 - accuracy: 0.77 - 0s 115us/step - loss: 0.4729 - accuracy: 0.7613\n",
      "Epoch 97/100\n",
      "800/800 [==============================] - 0s 108us/step - loss: 0.4753 - accuracy: 0.7550\n",
      "Epoch 98/100\n",
      "800/800 [==============================] - 0s 108us/step - loss: 0.4754 - accuracy: 0.7600\n",
      "Epoch 99/100\n",
      "800/800 [==============================] - 0s 116us/step - loss: 0.4779 - accuracy: 0.7462\n",
      "Epoch 100/100\n",
      "800/800 [==============================] - 0s 116us/step - loss: 0.4843 - accuracy: 0.7513\n"
     ]
    }
   ],
   "source": [
    "# Importing the Keras libraries and packages\n",
    "import keras\n",
    "from keras.models import Sequential\n",
    "from keras.layers import Dense\n",
    "\n",
    "# Initialising the ANN\n",
    "classifier = Sequential()\n",
    "\n",
    "# Adding the input layer and the first hidden layer\n",
    "classifier.add(Dense(activation=\"relu\", input_dim=8, units=6, kernel_initializer=\"uniform\"))\n",
    "\n",
    "# Adding the second hidden layer\n",
    "classifier.add(Dense(activation=\"relu\", units=6, kernel_initializer=\"uniform\"))\n",
    "\n",
    "# Adding the output layer\n",
    "classifier.add(Dense(activation=\"sigmoid\", units=1, kernel_initializer=\"uniform\"))\n",
    "\n",
    "# Compiling the ANN\n",
    "classifier.compile(optimizer = 'adam', loss = 'binary_crossentropy', metrics = ['accuracy'])\n",
    "\n",
    "# Fitting the ANN to the Training set\n",
    "classifier.fit(X_train, y_train, batch_size = 10, nb_epoch = 100)\n",
    "\n",
    "# Part 3 - Making the predictions and evaluating the model\n",
    "\n",
    "# Predicting the Test set results\n",
    "y_pred = classifier.predict(X_test)"
   ]
  },
  {
   "cell_type": "code",
   "execution_count": 194,
   "metadata": {},
   "outputs": [],
   "source": [
    "y_pred = (y_pred > 0.5)\n",
    "df_test['zeta_disease_nw']=y_pred"
   ]
  },
  {
   "cell_type": "code",
   "execution_count": 195,
   "metadata": {},
   "outputs": [
    {
     "data": {
      "text/plain": [
       "array([[False],\n",
       "       [False],\n",
       "       [False],\n",
       "       [False],\n",
       "       [ True],\n",
       "       [False],\n",
       "       [False],\n",
       "       [False],\n",
       "       [ True],\n",
       "       [False],\n",
       "       [ True],\n",
       "       [False],\n",
       "       [False],\n",
       "       [False],\n",
       "       [False],\n",
       "       [ True],\n",
       "       [False],\n",
       "       [ True],\n",
       "       [False],\n",
       "       [False]])"
      ]
     },
     "execution_count": 195,
     "metadata": {},
     "output_type": "execute_result"
    }
   ],
   "source": [
    "y_pred"
   ]
  },
  {
   "cell_type": "code",
   "execution_count": 196,
   "metadata": {},
   "outputs": [],
   "source": [
    "df_test['zeta_disease_nw']=df_test['zeta_disease_nw'].apply(lambda x:1 if x==True else 0)"
   ]
  },
  {
   "cell_type": "markdown",
   "metadata": {},
   "source": [
    "#### Added Column of ANN Prediction to df_test"
   ]
  },
  {
   "cell_type": "code",
   "execution_count": 197,
   "metadata": {},
   "outputs": [
    {
     "data": {
      "text/html": [
       "<div>\n",
       "<style scoped>\n",
       "    .dataframe tbody tr th:only-of-type {\n",
       "        vertical-align: middle;\n",
       "    }\n",
       "\n",
       "    .dataframe tbody tr th {\n",
       "        vertical-align: top;\n",
       "    }\n",
       "\n",
       "    .dataframe thead th {\n",
       "        text-align: right;\n",
       "    }\n",
       "</style>\n",
       "<table border=\"1\" class=\"dataframe\">\n",
       "  <thead>\n",
       "    <tr style=\"text-align: right;\">\n",
       "      <th></th>\n",
       "      <th>age</th>\n",
       "      <th>weight</th>\n",
       "      <th>bmi</th>\n",
       "      <th>blood_pressure</th>\n",
       "      <th>insulin_test</th>\n",
       "      <th>liver_stress_test</th>\n",
       "      <th>cardio_stress_test</th>\n",
       "      <th>years_smoking</th>\n",
       "      <th>zeta_disease</th>\n",
       "      <th>zeta_disease_nw</th>\n",
       "    </tr>\n",
       "  </thead>\n",
       "  <tbody>\n",
       "    <tr>\n",
       "      <th>0</th>\n",
       "      <td>24</td>\n",
       "      <td>151</td>\n",
       "      <td>69.0</td>\n",
       "      <td>69</td>\n",
       "      <td>72</td>\n",
       "      <td>1.3968</td>\n",
       "      <td>56</td>\n",
       "      <td>4</td>\n",
       "      <td>0</td>\n",
       "      <td>0</td>\n",
       "    </tr>\n",
       "    <tr>\n",
       "      <th>1</th>\n",
       "      <td>27</td>\n",
       "      <td>179</td>\n",
       "      <td>89.0</td>\n",
       "      <td>89</td>\n",
       "      <td>156</td>\n",
       "      <td>1.6608</td>\n",
       "      <td>43</td>\n",
       "      <td>6</td>\n",
       "      <td>1</td>\n",
       "      <td>0</td>\n",
       "    </tr>\n",
       "    <tr>\n",
       "      <th>2</th>\n",
       "      <td>34</td>\n",
       "      <td>147</td>\n",
       "      <td>76.0</td>\n",
       "      <td>76</td>\n",
       "      <td>74</td>\n",
       "      <td>1.6958</td>\n",
       "      <td>53</td>\n",
       "      <td>2</td>\n",
       "      <td>0</td>\n",
       "      <td>0</td>\n",
       "    </tr>\n",
       "    <tr>\n",
       "      <th>3</th>\n",
       "      <td>35</td>\n",
       "      <td>206</td>\n",
       "      <td>73.0</td>\n",
       "      <td>73</td>\n",
       "      <td>127</td>\n",
       "      <td>1.4608</td>\n",
       "      <td>61</td>\n",
       "      <td>6</td>\n",
       "      <td>1</td>\n",
       "      <td>0</td>\n",
       "    </tr>\n",
       "    <tr>\n",
       "      <th>4</th>\n",
       "      <td>60</td>\n",
       "      <td>193</td>\n",
       "      <td>62.0</td>\n",
       "      <td>62</td>\n",
       "      <td>192</td>\n",
       "      <td>1.7798</td>\n",
       "      <td>65</td>\n",
       "      <td>9</td>\n",
       "      <td>1</td>\n",
       "      <td>1</td>\n",
       "    </tr>\n",
       "    <tr>\n",
       "      <th>5</th>\n",
       "      <td>45</td>\n",
       "      <td>120</td>\n",
       "      <td>108.0</td>\n",
       "      <td>108</td>\n",
       "      <td>50</td>\n",
       "      <td>1.2978</td>\n",
       "      <td>54</td>\n",
       "      <td>12</td>\n",
       "      <td>0</td>\n",
       "      <td>0</td>\n",
       "    </tr>\n",
       "    <tr>\n",
       "      <th>6</th>\n",
       "      <td>20</td>\n",
       "      <td>139</td>\n",
       "      <td>61.0</td>\n",
       "      <td>61</td>\n",
       "      <td>77</td>\n",
       "      <td>1.5818</td>\n",
       "      <td>68</td>\n",
       "      <td>3</td>\n",
       "      <td>0</td>\n",
       "      <td>0</td>\n",
       "    </tr>\n",
       "    <tr>\n",
       "      <th>7</th>\n",
       "      <td>23</td>\n",
       "      <td>137</td>\n",
       "      <td>70.0</td>\n",
       "      <td>70</td>\n",
       "      <td>73</td>\n",
       "      <td>1.4168</td>\n",
       "      <td>59</td>\n",
       "      <td>7</td>\n",
       "      <td>0</td>\n",
       "      <td>0</td>\n",
       "    </tr>\n",
       "    <tr>\n",
       "      <th>8</th>\n",
       "      <td>36</td>\n",
       "      <td>195</td>\n",
       "      <td>59.0</td>\n",
       "      <td>59</td>\n",
       "      <td>141</td>\n",
       "      <td>1.4498</td>\n",
       "      <td>59</td>\n",
       "      <td>6</td>\n",
       "      <td>1</td>\n",
       "      <td>1</td>\n",
       "    </tr>\n",
       "    <tr>\n",
       "      <th>9</th>\n",
       "      <td>19</td>\n",
       "      <td>193</td>\n",
       "      <td>84.0</td>\n",
       "      <td>84</td>\n",
       "      <td>66</td>\n",
       "      <td>1.7938</td>\n",
       "      <td>50</td>\n",
       "      <td>3</td>\n",
       "      <td>1</td>\n",
       "      <td>0</td>\n",
       "    </tr>\n",
       "    <tr>\n",
       "      <th>10</th>\n",
       "      <td>47</td>\n",
       "      <td>216</td>\n",
       "      <td>70.0</td>\n",
       "      <td>70</td>\n",
       "      <td>170</td>\n",
       "      <td>1.7238</td>\n",
       "      <td>58</td>\n",
       "      <td>7</td>\n",
       "      <td>1</td>\n",
       "      <td>1</td>\n",
       "    </tr>\n",
       "    <tr>\n",
       "      <th>11</th>\n",
       "      <td>40</td>\n",
       "      <td>200</td>\n",
       "      <td>69.0</td>\n",
       "      <td>69</td>\n",
       "      <td>128</td>\n",
       "      <td>1.3118</td>\n",
       "      <td>60</td>\n",
       "      <td>3</td>\n",
       "      <td>1</td>\n",
       "      <td>0</td>\n",
       "    </tr>\n",
       "    <tr>\n",
       "      <th>12</th>\n",
       "      <td>21</td>\n",
       "      <td>154</td>\n",
       "      <td>88.0</td>\n",
       "      <td>88</td>\n",
       "      <td>121</td>\n",
       "      <td>1.2498</td>\n",
       "      <td>68</td>\n",
       "      <td>4</td>\n",
       "      <td>1</td>\n",
       "      <td>0</td>\n",
       "    </tr>\n",
       "    <tr>\n",
       "      <th>13</th>\n",
       "      <td>52</td>\n",
       "      <td>196</td>\n",
       "      <td>90.0</td>\n",
       "      <td>90</td>\n",
       "      <td>167</td>\n",
       "      <td>1.9238</td>\n",
       "      <td>66</td>\n",
       "      <td>10</td>\n",
       "      <td>1</td>\n",
       "      <td>0</td>\n",
       "    </tr>\n",
       "    <tr>\n",
       "      <th>14</th>\n",
       "      <td>30</td>\n",
       "      <td>181</td>\n",
       "      <td>93.0</td>\n",
       "      <td>93</td>\n",
       "      <td>157</td>\n",
       "      <td>2.0508</td>\n",
       "      <td>80</td>\n",
       "      <td>5</td>\n",
       "      <td>1</td>\n",
       "      <td>0</td>\n",
       "    </tr>\n",
       "    <tr>\n",
       "      <th>15</th>\n",
       "      <td>46</td>\n",
       "      <td>213</td>\n",
       "      <td>70.0</td>\n",
       "      <td>70</td>\n",
       "      <td>133</td>\n",
       "      <td>1.4788</td>\n",
       "      <td>55</td>\n",
       "      <td>12</td>\n",
       "      <td>1</td>\n",
       "      <td>1</td>\n",
       "    </tr>\n",
       "    <tr>\n",
       "      <th>16</th>\n",
       "      <td>29</td>\n",
       "      <td>173</td>\n",
       "      <td>91.0</td>\n",
       "      <td>91</td>\n",
       "      <td>221</td>\n",
       "      <td>1.4878</td>\n",
       "      <td>83</td>\n",
       "      <td>3</td>\n",
       "      <td>1</td>\n",
       "      <td>0</td>\n",
       "    </tr>\n",
       "    <tr>\n",
       "      <th>17</th>\n",
       "      <td>36</td>\n",
       "      <td>202</td>\n",
       "      <td>72.0</td>\n",
       "      <td>72</td>\n",
       "      <td>273</td>\n",
       "      <td>1.8748</td>\n",
       "      <td>72</td>\n",
       "      <td>13</td>\n",
       "      <td>1</td>\n",
       "      <td>1</td>\n",
       "    </tr>\n",
       "    <tr>\n",
       "      <th>18</th>\n",
       "      <td>27</td>\n",
       "      <td>197</td>\n",
       "      <td>72.0</td>\n",
       "      <td>72</td>\n",
       "      <td>362</td>\n",
       "      <td>1.4298</td>\n",
       "      <td>69</td>\n",
       "      <td>4</td>\n",
       "      <td>1</td>\n",
       "      <td>0</td>\n",
       "    </tr>\n",
       "    <tr>\n",
       "      <th>19</th>\n",
       "      <td>44</td>\n",
       "      <td>184</td>\n",
       "      <td>104.0</td>\n",
       "      <td>104</td>\n",
       "      <td>141</td>\n",
       "      <td>1.3268</td>\n",
       "      <td>60</td>\n",
       "      <td>2</td>\n",
       "      <td>1</td>\n",
       "      <td>0</td>\n",
       "    </tr>\n",
       "  </tbody>\n",
       "</table>\n",
       "</div>"
      ],
      "text/plain": [
       "    age  weight    bmi  blood_pressure  insulin_test  liver_stress_test  \\\n",
       "0    24     151   69.0              69            72             1.3968   \n",
       "1    27     179   89.0              89           156             1.6608   \n",
       "2    34     147   76.0              76            74             1.6958   \n",
       "3    35     206   73.0              73           127             1.4608   \n",
       "4    60     193   62.0              62           192             1.7798   \n",
       "5    45     120  108.0             108            50             1.2978   \n",
       "6    20     139   61.0              61            77             1.5818   \n",
       "7    23     137   70.0              70            73             1.4168   \n",
       "8    36     195   59.0              59           141             1.4498   \n",
       "9    19     193   84.0              84            66             1.7938   \n",
       "10   47     216   70.0              70           170             1.7238   \n",
       "11   40     200   69.0              69           128             1.3118   \n",
       "12   21     154   88.0              88           121             1.2498   \n",
       "13   52     196   90.0              90           167             1.9238   \n",
       "14   30     181   93.0              93           157             2.0508   \n",
       "15   46     213   70.0              70           133             1.4788   \n",
       "16   29     173   91.0              91           221             1.4878   \n",
       "17   36     202   72.0              72           273             1.8748   \n",
       "18   27     197   72.0              72           362             1.4298   \n",
       "19   44     184  104.0             104           141             1.3268   \n",
       "\n",
       "    cardio_stress_test  years_smoking  zeta_disease  zeta_disease_nw  \n",
       "0                   56              4             0                0  \n",
       "1                   43              6             1                0  \n",
       "2                   53              2             0                0  \n",
       "3                   61              6             1                0  \n",
       "4                   65              9             1                1  \n",
       "5                   54             12             0                0  \n",
       "6                   68              3             0                0  \n",
       "7                   59              7             0                0  \n",
       "8                   59              6             1                1  \n",
       "9                   50              3             1                0  \n",
       "10                  58              7             1                1  \n",
       "11                  60              3             1                0  \n",
       "12                  68              4             1                0  \n",
       "13                  66             10             1                0  \n",
       "14                  80              5             1                0  \n",
       "15                  55             12             1                1  \n",
       "16                  83              3             1                0  \n",
       "17                  72             13             1                1  \n",
       "18                  69              4             1                0  \n",
       "19                  60              2             1                0  "
      ]
     },
     "execution_count": 197,
     "metadata": {},
     "output_type": "execute_result"
    }
   ],
   "source": [
    "df_test"
   ]
  },
  {
   "cell_type": "markdown",
   "metadata": {},
   "source": [
    "##### Observation: Since we need to tuned parameters in ANN it didnt perform very well. Needs to work on this"
   ]
  },
  {
   "cell_type": "code",
   "execution_count": null,
   "metadata": {},
   "outputs": [],
   "source": []
  }
 ],
 "metadata": {
  "kernelspec": {
   "display_name": "Python 3",
   "language": "python",
   "name": "python3"
  },
  "language_info": {
   "codemirror_mode": {
    "name": "ipython",
    "version": 3
   },
   "file_extension": ".py",
   "mimetype": "text/x-python",
   "name": "python",
   "nbconvert_exporter": "python",
   "pygments_lexer": "ipython3",
   "version": "3.6.5"
  }
 },
 "nbformat": 4,
 "nbformat_minor": 2
}
